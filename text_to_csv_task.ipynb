{
 "cells": [
  {
   "cell_type": "markdown",
   "metadata": {},
   "source": [
    "# Data Generation using faker"
   ]
  },
  {
   "cell_type": "code",
   "execution_count": 2,
   "metadata": {},
   "outputs": [],
   "source": [
    "from faker import Faker"
   ]
  },
  {
   "cell_type": "code",
   "execution_count": 3,
   "metadata": {},
   "outputs": [],
   "source": [
    "fake  = Faker()"
   ]
  },
  {
   "cell_type": "code",
   "execution_count": 8,
   "metadata": {},
   "outputs": [
    {
     "data": {
      "text/plain": [
       "'Seth Berry'"
      ]
     },
     "execution_count": 8,
     "metadata": {},
     "output_type": "execute_result"
    }
   ],
   "source": [
    "fake.name()"
   ]
  },
  {
   "cell_type": "code",
   "execution_count": 9,
   "metadata": {},
   "outputs": [
    {
     "data": {
      "text/plain": [
       "'3925 Martinez Keys Suite 622\\nNorth Andreachester, SC 95834'"
      ]
     },
     "execution_count": 9,
     "metadata": {},
     "output_type": "execute_result"
    }
   ],
   "source": [
    "fake.address()"
   ]
  },
  {
   "cell_type": "code",
   "execution_count": 10,
   "metadata": {},
   "outputs": [
    {
     "data": {
      "text/plain": [
       "'Director white would their kitchen commercial responsibility. Man policy police.\\nIncluding cover population nor adult standard nice see. Establish happen continue general.'"
      ]
     },
     "execution_count": 10,
     "metadata": {},
     "output_type": "execute_result"
    }
   ],
   "source": [
    "fake.text()"
   ]
  },
  {
   "cell_type": "code",
   "execution_count": 17,
   "metadata": {},
   "outputs": [],
   "source": [
    "import os\n",
    "\n",
    "root_dir = './fake_text_data'\n",
    "os.makedirs(root_dir, exist_ok=True)\n",
    "\n",
    "num_folders = 3\n",
    "files_per_folder = 5\n",
    "\n",
    "for i in range(1, num_folders + 1):\n",
    "    folder_path = os.path.join(root_dir, f'Area{i}')\n",
    "    os.makedirs(folder_path, exist_ok=True)\n",
    "    \n",
    "    for j in range(1, files_per_folder + 1):\n",
    "        file_path = os.path.join(folder_path, f'file{j}.txt')\n",
    "        with open(file_path, 'w', encoding='utf-8') as file:\n",
    "            file.write('Name;Address;Description\\n')\n",
    "            for _ in range(10):\n",
    "                name = fake.name()\n",
    "                address = fake.address().replace('\\n', ', ')\n",
    "                description = fake.text()[:20]\n",
    "                file.write(f'{name};{address};{description}\\n')\n"
   ]
  },
  {
   "cell_type": "markdown",
   "metadata": {},
   "source": [
    "# Text to Csv"
   ]
  },
  {
   "cell_type": "markdown",
   "metadata": {},
   "source": [
    "## Testing"
   ]
  },
  {
   "cell_type": "code",
   "execution_count": 21,
   "metadata": {},
   "outputs": [
    {
     "name": "stdout",
     "output_type": "stream",
     "text": [
      "[['Name', 'Address', 'Description'], ['Ariana Carroll', '424 Anderson Key, West Kathyshire, IA 93195', 'Food store less buy '], ['Natalie Jones', '2119 John Plains, New Sydney, MN 31049', 'Maintain although ad'], ['Robert Salinas', '04698 Bullock Villages, Keithhaven, OH 88916', 'Investment hold actu'], ['Emily Frey', '440 Marc Bypass Apt. 486, Lake Cody, DC 67987', 'Operation sister awa'], ['Monica Howard', '96397 Hill Tunnel, New Robert, PR 55704', 'Sing what change his'], ['Olivia Mitchell', '1144 Kevin Inlet Apt. 826, Oliverstad, MS 80819', 'Also standard firm u'], ['Julia Duncan', 'Unit 0065 Box 7041, DPO AA 33149', 'Unit simple popular '], ['Elizabeth Richardson', 'USNV Vasquez, FPO AA 39192', 'Huge support despite'], ['Kelsey Reilly', '99844 Travis Ford, Katieville, UT 15262', 'Late benefit defense'], ['Michael Mcneil', '41798 Christina Meadows Suite 691, Port Pamela, WY 24595', 'Most ability role us']]\n"
     ]
    }
   ],
   "source": [
    "data = []\n",
    "with open('./fake_text_data/Area1/file1.txt','r') as f:\n",
    "    content = f.read().strip()\n",
    "    lines = content.split('\\n')\n",
    "    for line in lines:\n",
    "        data.append(line.split(';'))\n",
    "print(data)\n",
    "        "
   ]
  },
  {
   "cell_type": "code",
   "execution_count": 26,
   "metadata": {},
   "outputs": [
    {
     "name": "stdout",
     "output_type": "stream",
     "text": [
      "0\n"
     ]
    }
   ],
   "source": [
    "print(os.stat('./output.csv').st_size)"
   ]
  },
  {
   "cell_type": "code",
   "execution_count": 46,
   "metadata": {},
   "outputs": [
    {
     "name": "stdout",
     "output_type": "stream",
     "text": [
      "./fake_text_data []\n",
      "./fake_text_data/Area3 ['file2.txt', 'file4.txt', 'file5.txt', 'file1.txt', 'file3.txt']\n",
      "./fake_text_data/Area1 ['file2.txt', 'file4.txt', 'file5.txt', 'file1.txt', 'file3.txt']\n",
      "./fake_text_data/Area2 ['file2.txt', 'file4.txt', 'file5.txt', 'file1.txt', 'file3.txt']\n"
     ]
    },
    {
     "data": {
      "text/plain": [
       "[None, None, None, None]"
      ]
     },
     "execution_count": 46,
     "metadata": {},
     "output_type": "execute_result"
    }
   ],
   "source": [
    "[print(r,f) for r,d,f in os.walk('./fake_text_data')]"
   ]
  },
  {
   "cell_type": "code",
   "execution_count": 48,
   "metadata": {},
   "outputs": [],
   "source": [
    "for subdir,_,files in os.walk('./fake_text_data'):\n",
    "    for file in files:\n",
    "        file_path = os.path.join(subdir,file)\n",
    "        txt_to_csv(file_path,'./output.csv')"
   ]
  },
  {
   "cell_type": "code",
   "execution_count": 56,
   "metadata": {},
   "outputs": [],
   "source": [
    "import os \n",
    "import csv\n",
    "from tqdm import tqdm\n",
    "\n",
    "root_dir = './fake_text_data'\n",
    "\n",
    "output_csv = './output.csv'\n",
    "\n",
    "def txt_to_csv(file_path,output_csv_path):\n",
    "    \"\"\"\n",
    "    Process txt file and append its content to the given csv.\n",
    "\n",
    "    Parameters\n",
    "    ----------\n",
    "    file_path : str\n",
    "        The path of txt file.\n",
    "    output_csv_path : str\n",
    "        The path of csv file.\n",
    "    \"\"\"\n",
    "    with open(output_csv_path,'a',newline='') as csvfile:\n",
    "        csvwriter = csv.writer(csvfile)\n",
    "\n",
    "        with open(file_path,'r') as f:\n",
    "            content = f.read().strip()\n",
    "            if os.stat('./output.csv').st_size == 0:\n",
    "                startIndex = 0\n",
    "            else:\n",
    "                startIndex = 1\n",
    "            lines = content.split('\\n')[startIndex:]\n",
    "            for line in lines:\n",
    "                csvwriter.writerow(line.split(';'))\n",
    "\n",
    "\n",
    "def files_to_csv(root_directory_path,output_csv_path):\n",
    "    \"\"\"\n",
    "    Aggregate multiple txt files into single csv file.\n",
    "\n",
    "    Parameters\n",
    "    ----------\n",
    "    root_directory_path : str\n",
    "        The path to the parent directory containing the txt files.\n",
    "    output_csv_path : str\n",
    "        The path to the output csv to be generated.\n",
    "    \"\"\"\n",
    "    for subdir,_,files in os.walk(root_directory_path):\n",
    "        for file in tqdm(files):\n",
    "            file_path = os.path.join(subdir,file)\n",
    "            txt_to_csv(file_path,output_csv_path)"
   ]
  },
  {
   "cell_type": "code",
   "execution_count": 88,
   "metadata": {},
   "outputs": [
    {
     "name": "stderr",
     "output_type": "stream",
     "text": [
      "0it [00:00, ?it/s]\n",
      "100%|██████████| 5/5 [00:00<00:00, 4154.42it/s]\n",
      "100%|██████████| 5/5 [00:00<00:00, 4901.03it/s]\n",
      "100%|██████████| 5/5 [00:00<00:00, 4245.25it/s]\n"
     ]
    }
   ],
   "source": [
    "files_to_csv('./fake_text_data','./output.csv')"
   ]
  },
  {
   "cell_type": "markdown",
   "metadata": {},
   "source": [
    "# Output csv using pandas"
   ]
  },
  {
   "cell_type": "code",
   "execution_count": 72,
   "metadata": {},
   "outputs": [],
   "source": [
    "import pandas as pd"
   ]
  },
  {
   "cell_type": "code",
   "execution_count": 89,
   "metadata": {},
   "outputs": [],
   "source": [
    "df = pd.read_csv('./output.csv')"
   ]
  },
  {
   "cell_type": "code",
   "execution_count": 80,
   "metadata": {},
   "outputs": [
    {
     "data": {
      "text/html": [
       "<div>\n",
       "<style scoped>\n",
       "    .dataframe tbody tr th:only-of-type {\n",
       "        vertical-align: middle;\n",
       "    }\n",
       "\n",
       "    .dataframe tbody tr th {\n",
       "        vertical-align: top;\n",
       "    }\n",
       "\n",
       "    .dataframe thead th {\n",
       "        text-align: right;\n",
       "    }\n",
       "</style>\n",
       "<table border=\"1\" class=\"dataframe\">\n",
       "  <thead>\n",
       "    <tr style=\"text-align: right;\">\n",
       "      <th></th>\n",
       "      <th>Name</th>\n",
       "      <th>Address</th>\n",
       "      <th>Description</th>\n",
       "    </tr>\n",
       "  </thead>\n",
       "  <tbody>\n",
       "    <tr>\n",
       "      <th>0</th>\n",
       "      <td>Kenneth Cabrera</td>\n",
       "      <td>PSC 0090, Box 6881, APO AP 95570</td>\n",
       "      <td>Minute itself plan.</td>\n",
       "    </tr>\n",
       "    <tr>\n",
       "      <th>1</th>\n",
       "      <td>Megan Horn</td>\n",
       "      <td>188 Morris Harbors Apt. 069, Williamton, RI 59074</td>\n",
       "      <td>Under every local gr</td>\n",
       "    </tr>\n",
       "    <tr>\n",
       "      <th>2</th>\n",
       "      <td>Janet Flores</td>\n",
       "      <td>PSC 2649, Box 2960, APO AP 84622</td>\n",
       "      <td>Full young form whol</td>\n",
       "    </tr>\n",
       "    <tr>\n",
       "      <th>3</th>\n",
       "      <td>Richard Williams</td>\n",
       "      <td>47886 Dillon Shores, Larsonland, DC 17078</td>\n",
       "      <td>Exactly behind sense</td>\n",
       "    </tr>\n",
       "    <tr>\n",
       "      <th>4</th>\n",
       "      <td>Kimberly Murray</td>\n",
       "      <td>433 Rogers Squares, East Rebekahland, VA 96291</td>\n",
       "      <td>Five process find sp</td>\n",
       "    </tr>\n",
       "    <tr>\n",
       "      <th>5</th>\n",
       "      <td>Victoria Parrish</td>\n",
       "      <td>59774 Brian Radial, East Jenniferfort, SD 57644</td>\n",
       "      <td>Model ever argue dec</td>\n",
       "    </tr>\n",
       "    <tr>\n",
       "      <th>6</th>\n",
       "      <td>Tracy Hall</td>\n",
       "      <td>0147 Taylor Parkway, East Robert, LA 81711</td>\n",
       "      <td>World magazine many</td>\n",
       "    </tr>\n",
       "    <tr>\n",
       "      <th>7</th>\n",
       "      <td>Jesse Fitzgerald</td>\n",
       "      <td>05705 Elizabeth Flats Suite 101, Hamptoncheste...</td>\n",
       "      <td>What we deal drop th</td>\n",
       "    </tr>\n",
       "    <tr>\n",
       "      <th>8</th>\n",
       "      <td>Daniel Rose</td>\n",
       "      <td>8618 Kelley Spur, Anthonyshire, MI 95093</td>\n",
       "      <td>There stage field di</td>\n",
       "    </tr>\n",
       "    <tr>\n",
       "      <th>9</th>\n",
       "      <td>Theresa Garrett</td>\n",
       "      <td>06216 Lawrence Mountains Suite 223, East Amand...</td>\n",
       "      <td>Hotel event protect</td>\n",
       "    </tr>\n",
       "  </tbody>\n",
       "</table>\n",
       "</div>"
      ],
      "text/plain": [
       "               Name                                            Address  \\\n",
       "0   Kenneth Cabrera                   PSC 0090, Box 6881, APO AP 95570   \n",
       "1        Megan Horn  188 Morris Harbors Apt. 069, Williamton, RI 59074   \n",
       "2      Janet Flores                   PSC 2649, Box 2960, APO AP 84622   \n",
       "3  Richard Williams          47886 Dillon Shores, Larsonland, DC 17078   \n",
       "4   Kimberly Murray     433 Rogers Squares, East Rebekahland, VA 96291   \n",
       "5  Victoria Parrish    59774 Brian Radial, East Jenniferfort, SD 57644   \n",
       "6        Tracy Hall         0147 Taylor Parkway, East Robert, LA 81711   \n",
       "7  Jesse Fitzgerald  05705 Elizabeth Flats Suite 101, Hamptoncheste...   \n",
       "8       Daniel Rose           8618 Kelley Spur, Anthonyshire, MI 95093   \n",
       "9   Theresa Garrett  06216 Lawrence Mountains Suite 223, East Amand...   \n",
       "\n",
       "            Description  \n",
       "0  Minute itself plan.   \n",
       "1  Under every local gr  \n",
       "2  Full young form whol  \n",
       "3  Exactly behind sense  \n",
       "4  Five process find sp  \n",
       "5  Model ever argue dec  \n",
       "6  World magazine many   \n",
       "7  What we deal drop th  \n",
       "8  There stage field di  \n",
       "9   Hotel event protect  "
      ]
     },
     "execution_count": 80,
     "metadata": {},
     "output_type": "execute_result"
    }
   ],
   "source": [
    "df.head(10)"
   ]
  },
  {
   "cell_type": "code",
   "execution_count": 81,
   "metadata": {},
   "outputs": [
    {
     "data": {
      "text/plain": [
       "Index(['Name', 'Address', 'Description'], dtype='object')"
      ]
     },
     "execution_count": 81,
     "metadata": {},
     "output_type": "execute_result"
    }
   ],
   "source": [
    "df.columns"
   ]
  },
  {
   "cell_type": "code",
   "execution_count": 86,
   "metadata": {},
   "outputs": [
    {
     "data": {
      "text/plain": [
       "(150,)"
      ]
     },
     "execution_count": 86,
     "metadata": {},
     "output_type": "execute_result"
    }
   ],
   "source": [
    "df['Name'].unique().shape"
   ]
  },
  {
   "cell_type": "code",
   "execution_count": 84,
   "metadata": {},
   "outputs": [
    {
     "data": {
      "text/plain": [
       "(151,)"
      ]
     },
     "execution_count": 84,
     "metadata": {},
     "output_type": "execute_result"
    }
   ],
   "source": [
    "df['Name'].shape"
   ]
  },
  {
   "cell_type": "code",
   "execution_count": 87,
   "metadata": {},
   "outputs": [
    {
     "data": {
      "text/html": [
       "<div>\n",
       "<style scoped>\n",
       "    .dataframe tbody tr th:only-of-type {\n",
       "        vertical-align: middle;\n",
       "    }\n",
       "\n",
       "    .dataframe tbody tr th {\n",
       "        vertical-align: top;\n",
       "    }\n",
       "\n",
       "    .dataframe thead th {\n",
       "        text-align: right;\n",
       "    }\n",
       "</style>\n",
       "<table border=\"1\" class=\"dataframe\">\n",
       "  <thead>\n",
       "    <tr style=\"text-align: right;\">\n",
       "      <th></th>\n",
       "      <th>Name</th>\n",
       "      <th>Address</th>\n",
       "      <th>Description</th>\n",
       "    </tr>\n",
       "  </thead>\n",
       "  <tbody>\n",
       "    <tr>\n",
       "      <th>10</th>\n",
       "      <td>Anthony Smith</td>\n",
       "      <td>65429 Brenda Knoll Apt. 903, Huffberg, NE 51401</td>\n",
       "      <td>Ground benefit dream</td>\n",
       "    </tr>\n",
       "    <tr>\n",
       "      <th>40</th>\n",
       "      <td>Anthony Smith</td>\n",
       "      <td>097 Rebecca Gateway, Woodwardshire, LA 27235</td>\n",
       "      <td>Customer necessary c</td>\n",
       "    </tr>\n",
       "  </tbody>\n",
       "</table>\n",
       "</div>"
      ],
      "text/plain": [
       "             Name                                          Address  \\\n",
       "10  Anthony Smith  65429 Brenda Knoll Apt. 903, Huffberg, NE 51401   \n",
       "40  Anthony Smith     097 Rebecca Gateway, Woodwardshire, LA 27235   \n",
       "\n",
       "             Description  \n",
       "10  Ground benefit dream  \n",
       "40  Customer necessary c  "
      ]
     },
     "execution_count": 87,
     "metadata": {},
     "output_type": "execute_result"
    }
   ],
   "source": [
    "df[df.duplicated(['Name'],keep=False)]"
   ]
  },
  {
   "cell_type": "code",
   "execution_count": 90,
   "metadata": {},
   "outputs": [
    {
     "data": {
      "text/html": [
       "<div>\n",
       "<style scoped>\n",
       "    .dataframe tbody tr th:only-of-type {\n",
       "        vertical-align: middle;\n",
       "    }\n",
       "\n",
       "    .dataframe tbody tr th {\n",
       "        vertical-align: top;\n",
       "    }\n",
       "\n",
       "    .dataframe thead th {\n",
       "        text-align: right;\n",
       "    }\n",
       "</style>\n",
       "<table border=\"1\" class=\"dataframe\">\n",
       "  <thead>\n",
       "    <tr style=\"text-align: right;\">\n",
       "      <th></th>\n",
       "      <th>Name</th>\n",
       "      <th>Address</th>\n",
       "      <th>Description</th>\n",
       "    </tr>\n",
       "  </thead>\n",
       "  <tbody>\n",
       "    <tr>\n",
       "      <th>81</th>\n",
       "      <td>Ariana Carroll</td>\n",
       "      <td>NaN</td>\n",
       "      <td>Food store less buy</td>\n",
       "    </tr>\n",
       "  </tbody>\n",
       "</table>\n",
       "</div>"
      ],
      "text/plain": [
       "              Name Address           Description\n",
       "81  Ariana Carroll     NaN  Food store less buy "
      ]
     },
     "execution_count": 90,
     "metadata": {},
     "output_type": "execute_result"
    }
   ],
   "source": [
    "df[df['Name']=='Ariana Carroll']"
   ]
  }
 ],
 "metadata": {
  "kernelspec": {
   "display_name": "image_task",
   "language": "python",
   "name": "python3"
  },
  "language_info": {
   "codemirror_mode": {
    "name": "ipython",
    "version": 3
   },
   "file_extension": ".py",
   "mimetype": "text/x-python",
   "name": "python",
   "nbconvert_exporter": "python",
   "pygments_lexer": "ipython3",
   "version": "3.10.12"
  }
 },
 "nbformat": 4,
 "nbformat_minor": 2
}
