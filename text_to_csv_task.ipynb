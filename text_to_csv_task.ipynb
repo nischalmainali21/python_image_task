{
 "cells": [
  {
   "cell_type": "markdown",
   "metadata": {},
   "source": [
    "# Data Generation using faker"
   ]
  },
  {
   "cell_type": "code",
   "execution_count": 2,
   "metadata": {},
   "outputs": [],
   "source": [
    "from faker import Faker"
   ]
  },
  {
   "cell_type": "code",
   "execution_count": 3,
   "metadata": {},
   "outputs": [],
   "source": [
    "fake  = Faker()"
   ]
  },
  {
   "cell_type": "code",
   "execution_count": 8,
   "metadata": {},
   "outputs": [
    {
     "data": {
      "text/plain": [
       "'Seth Berry'"
      ]
     },
     "execution_count": 8,
     "metadata": {},
     "output_type": "execute_result"
    }
   ],
   "source": [
    "fake.name()"
   ]
  },
  {
   "cell_type": "code",
   "execution_count": 9,
   "metadata": {},
   "outputs": [
    {
     "data": {
      "text/plain": [
       "'3925 Martinez Keys Suite 622\\nNorth Andreachester, SC 95834'"
      ]
     },
     "execution_count": 9,
     "metadata": {},
     "output_type": "execute_result"
    }
   ],
   "source": [
    "fake.address()"
   ]
  },
  {
   "cell_type": "code",
   "execution_count": 10,
   "metadata": {},
   "outputs": [
    {
     "data": {
      "text/plain": [
       "'Director white would their kitchen commercial responsibility. Man policy police.\\nIncluding cover population nor adult standard nice see. Establish happen continue general.'"
      ]
     },
     "execution_count": 10,
     "metadata": {},
     "output_type": "execute_result"
    }
   ],
   "source": [
    "fake.text()"
   ]
  },
  {
   "cell_type": "code",
   "execution_count": 17,
   "metadata": {},
   "outputs": [],
   "source": [
    "import os\n",
    "\n",
    "root_dir = './fake_text_data'\n",
    "os.makedirs(root_dir, exist_ok=True)\n",
    "\n",
    "num_folders = 3\n",
    "files_per_folder = 5\n",
    "\n",
    "for i in range(1, num_folders + 1):\n",
    "    folder_path = os.path.join(root_dir, f'Area{i}')\n",
    "    os.makedirs(folder_path, exist_ok=True)\n",
    "    \n",
    "    for j in range(1, files_per_folder + 1):\n",
    "        file_path = os.path.join(folder_path, f'file{j}.txt')\n",
    "        with open(file_path, 'w', encoding='utf-8') as file:\n",
    "            file.write('Name;Address;Description\\n')\n",
    "            for _ in range(10):\n",
    "                name = fake.name()\n",
    "                address = fake.address().replace('\\n', ', ')\n",
    "                description = fake.text()[:20]\n",
    "                file.write(f'{name};{address};{description}\\n')\n"
   ]
  }
 ],
 "metadata": {
  "kernelspec": {
   "display_name": "image_task",
   "language": "python",
   "name": "python3"
  },
  "language_info": {
   "codemirror_mode": {
    "name": "ipython",
    "version": 3
   },
   "file_extension": ".py",
   "mimetype": "text/x-python",
   "name": "python",
   "nbconvert_exporter": "python",
   "pygments_lexer": "ipython3",
   "version": "3.10.12"
  }
 },
 "nbformat": 4,
 "nbformat_minor": 2
}
