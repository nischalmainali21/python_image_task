{
 "cells": [
  {
   "cell_type": "code",
   "execution_count": 1,
   "metadata": {},
   "outputs": [],
   "source": [
    "import pandas as pd\n",
    "import glob"
   ]
  },
  {
   "cell_type": "code",
   "execution_count": 2,
   "metadata": {},
   "outputs": [],
   "source": [
    "# def extract_diagnostic_data(root_directory_path):\n",
    "    # file_paths = glob.glob(f\"{root_directory_path}*.json\")\n",
    "file_paths = glob.glob(f\"./health_data/healthcare-datasets/*.json\")\n",
    "dfs = [pd.read_json(file_path) for file_path in file_paths]\n",
    "combined_df = pd.concat(dfs, ignore_index=True)\n",
    "entries = pd.json_normalize(combined_df['entry'])\n",
    "    "
   ]
  },
  {
   "cell_type": "code",
   "execution_count": 3,
   "metadata": {},
   "outputs": [
    {
     "data": {
      "text/plain": [
       "array(['Patient', 'Encounter', 'Condition', 'Observation',\n",
       "       'MedicationRequest', 'Immunization', 'Procedure', 'CarePlan',\n",
       "       'AllergyIntolerance', 'DiagnosticReport'], dtype=object)"
      ]
     },
     "execution_count": 3,
     "metadata": {},
     "output_type": "execute_result"
    }
   ],
   "source": [
    "entries['resource.resourceType'].unique()"
   ]
  },
  {
   "cell_type": "code",
   "execution_count": 4,
   "metadata": {},
   "outputs": [],
   "source": [
    "diagnostic_data = entries[entries['resource.resourceType'] == 'DiagnosticReport']\n",
    "diagnostic_data.reset_index(drop=True,inplace=True)\n"
   ]
  },
  {
   "cell_type": "code",
   "execution_count": 5,
   "metadata": {},
   "outputs": [
    {
     "data": {
      "text/plain": [
       "0     final\n",
       "1     final\n",
       "2     final\n",
       "3     final\n",
       "4     final\n",
       "      ...  \n",
       "84    final\n",
       "85    final\n",
       "86    final\n",
       "87    final\n",
       "88    final\n",
       "Name: resource.status, Length: 89, dtype: object"
      ]
     },
     "execution_count": 5,
     "metadata": {},
     "output_type": "execute_result"
    }
   ],
   "source": [
    "\n",
    "diagnostic_status = diagnostic_data.get('resource.status',None)\n",
    "diagnostic_status"
   ]
  },
  {
   "cell_type": "code",
   "execution_count": 6,
   "metadata": {},
   "outputs": [
    {
     "data": {
      "text/plain": [
       "0                                           Lipid Panel\n",
       "1                                 Basic Metabolic Panel\n",
       "2                                 Basic Metabolic Panel\n",
       "3                                 Basic Metabolic Panel\n",
       "4                                           Lipid Panel\n",
       "                            ...                        \n",
       "84                                Basic Metabolic Panel\n",
       "85                                Basic Metabolic Panel\n",
       "86    U.S. standard certificate of death - 2003 revi...\n",
       "87                                          Lipid Panel\n",
       "88                                          Lipid Panel\n",
       "Name: display, Length: 89, dtype: object"
      ]
     },
     "metadata": {},
     "output_type": "display_data"
    }
   ],
   "source": [
    "diagnostic_name_raw = diagnostic_data.get('resource.code.coding',None)\n",
    "if not diagnostic_name_raw is None:\n",
    "    diagnostic_name_intermediate = pd.json_normalize(diagnostic_name_raw.explode())\n",
    "    diagnostic_name = diagnostic_name_intermediate.get('display',None)\n",
    "    display(diagnostic_name)"
   ]
  },
  {
   "cell_type": "code",
   "execution_count": 7,
   "metadata": {},
   "outputs": [
    {
     "data": {
      "text/plain": [
       "0     2014-03-19T16:56:31-04:00\n",
       "1     2010-10-30T16:48:25-04:00\n",
       "2     2011-11-18T07:54:42-05:00\n",
       "3     2012-10-02T21:50:16-04:00\n",
       "4     2013-09-11T10:15:45-04:00\n",
       "                ...            \n",
       "84    2015-06-29T20:52:05-04:00\n",
       "85    2016-07-22T20:20:06-04:00\n",
       "86    1986-06-24T04:50:26-04:00\n",
       "87    2010-08-17T16:46:17-04:00\n",
       "88    2014-02-20T22:44:54-05:00\n",
       "Name: resource.effectiveDateTime, Length: 89, dtype: object"
      ]
     },
     "execution_count": 7,
     "metadata": {},
     "output_type": "execute_result"
    }
   ],
   "source": [
    "diagnostic_date_time = diagnostic_data.get('resource.effectiveDateTime',None)\n",
    "diagnostic_date_time"
   ]
  },
  {
   "cell_type": "code",
   "execution_count": 17,
   "metadata": {},
   "outputs": [
    {
     "data": {
      "text/plain": [
       "0     Hospital Lab\n",
       "1     Hospital Lab\n",
       "2     Hospital Lab\n",
       "3     Hospital Lab\n",
       "4     Hospital Lab\n",
       "          ...     \n",
       "84    Hospital Lab\n",
       "85    Hospital Lab\n",
       "86    Hospital Lab\n",
       "87    Hospital Lab\n",
       "88    Hospital Lab\n",
       "Name: display, Length: 89, dtype: object"
      ]
     },
     "execution_count": 17,
     "metadata": {},
     "output_type": "execute_result"
    }
   ],
   "source": [
    "diagnostic_performer_raw = diagnostic_data.get('resource.performer',None)\n",
    "if not diagnostic_performer_raw is None:\n",
    "    diagnostic_perfomer = pd.json_normalize(diagnostic_performer_raw.explode()).get('display',None)\n",
    "else:\n",
    "    diagnostic_perfomer = None\n",
    "diagnostic_perfomer\n"
   ]
  },
  {
   "cell_type": "code",
   "execution_count": 20,
   "metadata": {},
   "outputs": [
    {
     "data": {
      "text/plain": [
       "0     e23fb9ad-56f4-4e34-8073-6c89277f03f8\n",
       "1     0e41d495-029e-4338-8173-25e62f81a199\n",
       "2     b2a27b96-82b2-4755-b5be-ec6aff5b8028\n",
       "3     1f6fc603-26d8-4dd2-b8c5-3fb1bbdb12dd\n",
       "4     98bfac77-82aa-4ffa-a63c-06f13e722550\n",
       "                      ...                 \n",
       "84    4a7757cc-7803-4513-93cb-1923d571534d\n",
       "85    a4431145-6284-4220-ad71-00593251099d\n",
       "86    dc68d226-b62b-45b8-baab-a1cc6d26427f\n",
       "87    b7bb6bd2-9c67-44c5-9595-43a0844262fb\n",
       "88    d90f6271-c1ce-4d06-831e-060142761020\n",
       "Name: resource.encounter.reference, Length: 89, dtype: object"
      ]
     },
     "execution_count": 20,
     "metadata": {},
     "output_type": "execute_result"
    }
   ],
   "source": [
    "diagnostic_encounter_id = diagnostic_data['resource.encounter.reference'].str.replace('urn:uuid:','')\n",
    "diagnostic_encounter_id"
   ]
  },
  {
   "cell_type": "code",
   "execution_count": 21,
   "metadata": {},
   "outputs": [
    {
     "data": {
      "text/plain": [
       "0     a195633e-d36d-4abe-92bb-02994e9cb348\n",
       "1     d0ed1873-9ac6-4c98-813e-86a041ce78c5\n",
       "2     d0ed1873-9ac6-4c98-813e-86a041ce78c5\n",
       "3     d0ed1873-9ac6-4c98-813e-86a041ce78c5\n",
       "4     d76cce33-3dec-4874-b352-fa81812517c7\n",
       "                      ...                 \n",
       "84    bb357dc7-2f8a-444e-ba57-8291b6f18bf0\n",
       "85    bb357dc7-2f8a-444e-ba57-8291b6f18bf0\n",
       "86    1bd855fa-45c4-4c23-a608-fdeeb3bc2d8b\n",
       "87    a5399e95-981c-4a78-8019-873662fc7901\n",
       "88    a5399e95-981c-4a78-8019-873662fc7901\n",
       "Name: resource.subject.reference, Length: 89, dtype: object"
      ]
     },
     "execution_count": 21,
     "metadata": {},
     "output_type": "execute_result"
    }
   ],
   "source": [
    "diagnostic_patient_id = diagnostic_data['resource.subject.reference'].str.replace('urn:uuid:','')\n",
    "diagnostic_patient_id"
   ]
  },
  {
   "cell_type": "code",
   "execution_count": 34,
   "metadata": {},
   "outputs": [
    {
     "data": {
      "text/plain": [
       "0     a07a9a48-de2f-4b5a-896e-c44d56eeb3c0\n",
       "1     f74a3d92-b549-4a12-9e10-6a6d2204b59b\n",
       "2     99940d72-22d0-4829-9e9e-3d89fa1510e0\n",
       "3     18cb1577-3300-47b2-8d57-38f9cd8b950b\n",
       "4     d79b10af-0929-46a2-a880-494d4affbba8\n",
       "                      ...                 \n",
       "84    4441a96f-8d8f-413f-9e9d-35c42a4068a5\n",
       "85    ba5b3f7b-2fb9-46b5-b4f0-56258b7fcf6f\n",
       "86    2b638fda-a7aa-4c83-940c-0fc1b0275993\n",
       "87    9422835c-c46a-4479-a851-ac09d1f23b08\n",
       "88    4376e02a-1e53-4d33-b127-1731d53b1dfb\n",
       "Name: resource.id, Length: 89, dtype: object"
      ]
     },
     "execution_count": 34,
     "metadata": {},
     "output_type": "execute_result"
    }
   ],
   "source": [
    "diagnostic_id = diagnostic_data['resource.id']\n",
    "diagnostic_id"
   ]
  },
  {
   "cell_type": "code",
   "execution_count": 32,
   "metadata": {},
   "outputs": [
    {
     "data": {
      "text/plain": [
       "0     [{'reference': 'urn:uuid:616bd45e-f48a-4935-be...\n",
       "1     [{'reference': 'urn:uuid:9d0430d9-d252-4eb7-b9...\n",
       "2     [{'reference': 'urn:uuid:71e8b639-ada6-4a74-9f...\n",
       "3     [{'reference': 'urn:uuid:ad0ecd5a-ca4c-41ef-a8...\n",
       "4     [{'reference': 'urn:uuid:d510ea01-7a5c-403a-8b...\n",
       "                            ...                        \n",
       "84    [{'reference': 'urn:uuid:5d1035d8-4cc3-4477-8d...\n",
       "85    [{'reference': 'urn:uuid:3eeb2fc0-7e1a-4916-89...\n",
       "86    [{'reference': 'urn:uuid:c757f1fb-b069-46d4-87...\n",
       "87    [{'reference': 'urn:uuid:d5a8ba27-a56a-4d24-94...\n",
       "88    [{'reference': 'urn:uuid:8e653cef-54fa-4b8c-ad...\n",
       "Name: resource.result, Length: 89, dtype: object"
      ]
     },
     "execution_count": 32,
     "metadata": {},
     "output_type": "execute_result"
    }
   ],
   "source": [
    "diagnostic_result = diagnostic_data.get('resource.result',None)\n",
    "diagnostic_result"
   ]
  },
  {
   "cell_type": "markdown",
   "metadata": {},
   "source": [
    "extracting only the reference part of the resutl"
   ]
  },
  {
   "cell_type": "code",
   "execution_count": 31,
   "metadata": {},
   "outputs": [],
   "source": [
    "diagnostic_result_reference_lst = diagnostic_result.apply(lambda lst: [d['reference'] for d in lst])"
   ]
  },
  {
   "cell_type": "markdown",
   "metadata": {},
   "source": [
    "## Diagnostic Data Extraction"
   ]
  },
  {
   "cell_type": "code",
   "execution_count": 42,
   "metadata": {},
   "outputs": [],
   "source": [
    "import pandas as pd\n",
    "import glob"
   ]
  },
  {
   "cell_type": "code",
   "execution_count": 125,
   "metadata": {},
   "outputs": [],
   "source": [
    "def extract_diagnostic_data(root_directory_path):\n",
    "    file_paths = glob.glob(f\"{root_directory_path}*.json\")\n",
    "    dfs = [pd.read_json(file_path) for file_path in file_paths]\n",
    "    combined_df = pd.concat(dfs, ignore_index=True)\n",
    "    entries = pd.json_normalize(combined_df['entry'])\n",
    "\n",
    "    diagnostic_data = entries[entries['resource.resourceType'] == 'DiagnosticReport']\n",
    "    diagnostic_data.reset_index(drop=True,inplace=True)\n",
    "\n",
    "    diagnostic_status = diagnostic_data.get('resource.status',None)\n",
    "    diagnostic_name_raw = diagnostic_data.get('resource.code.coding',None)\n",
    "    if not diagnostic_name_raw is None:\n",
    "        diagnostic_name_intermediate = pd.json_normalize(diagnostic_name_raw.explode())\n",
    "        diagnostic_name = diagnostic_name_intermediate.get('display',None)\n",
    "    else:\n",
    "        diagnostic_name = None\n",
    "    diagnostic_date_time = diagnostic_data.get('resource.effectiveDateTime',None)\n",
    "    diagnostic_performer_raw = diagnostic_data.get('resource.performer',None)\n",
    "    if not diagnostic_performer_raw is None:\n",
    "        diagnostic_perfomer = pd.json_normalize(diagnostic_performer_raw.explode()).get('display',None)\n",
    "    else:\n",
    "        diagnostic_perfomer = None\n",
    "    diagnostic_encounter_id = diagnostic_data['resource.encounter.reference'].str.replace('urn:uuid:','')\n",
    "    diagnostic_patient_id = diagnostic_data['resource.subject.reference'].str.replace('urn:uuid:','')\n",
    "    diagnostic_id = diagnostic_data['resource.id']\n",
    "\n",
    "    diagnostic_result = diagnostic_data.get('resource.result',None)\n",
    "\n",
    "    result_df = pd.DataFrame({\n",
    "        'Diagnostic Report ID':diagnostic_id,\n",
    "        'Status':diagnostic_status,\n",
    "        'Diagnostic Name':diagnostic_name,\n",
    "        'Patient ID':diagnostic_patient_id,\n",
    "        'Encounter ID':diagnostic_encounter_id,\n",
    "        'Diagnostic Date Time':diagnostic_date_time,\n",
    "        'Performer':diagnostic_perfomer,\n",
    "        'Result':diagnostic_result,\n",
    "    })\n",
    "    result_df = result_df.explode('Result')\n",
    "    diagnostic_result_reference = result_df['Result'].apply(lambda lst:lst['reference'])\n",
    "    diagnostic_result_display = result_df['Result'].apply(lambda lst:lst['display'])\n",
    "    result_df['result_reference'] = diagnostic_result_reference\n",
    "    result_df['result_display'] = diagnostic_result_display\n",
    "    result_df.drop(columns=['Result'],inplace=True)\n",
    "\n",
    "    # display(result_df.head())\n",
    "    result_df.to_csv('./output_csv/diagnostic_data.csv',index=False)"
   ]
  },
  {
   "cell_type": "code",
   "execution_count": 126,
   "metadata": {},
   "outputs": [],
   "source": [
    "extract_diagnostic_data('./health_data/healthcare-datasets/')"
   ]
  },
  {
   "cell_type": "markdown",
   "metadata": {},
   "source": [
    "# Process Diagnostic Data"
   ]
  },
  {
   "cell_type": "code",
   "execution_count": 127,
   "metadata": {},
   "outputs": [],
   "source": [
    "import pandas as pd\n",
    "diagnostic = pd.read_csv('./output_csv/diagnostic_data.csv')"
   ]
  },
  {
   "cell_type": "code",
   "execution_count": 128,
   "metadata": {},
   "outputs": [
    {
     "data": {
      "text/html": [
       "<div>\n",
       "<style scoped>\n",
       "    .dataframe tbody tr th:only-of-type {\n",
       "        vertical-align: middle;\n",
       "    }\n",
       "\n",
       "    .dataframe tbody tr th {\n",
       "        vertical-align: top;\n",
       "    }\n",
       "\n",
       "    .dataframe thead th {\n",
       "        text-align: right;\n",
       "    }\n",
       "</style>\n",
       "<table border=\"1\" class=\"dataframe\">\n",
       "  <thead>\n",
       "    <tr style=\"text-align: right;\">\n",
       "      <th></th>\n",
       "      <th>Diagnostic Report ID</th>\n",
       "      <th>Status</th>\n",
       "      <th>Diagnostic Name</th>\n",
       "      <th>Patient ID</th>\n",
       "      <th>Encounter ID</th>\n",
       "      <th>Diagnostic Date Time</th>\n",
       "      <th>Performer</th>\n",
       "      <th>result_reference</th>\n",
       "      <th>result_display</th>\n",
       "    </tr>\n",
       "  </thead>\n",
       "  <tbody>\n",
       "    <tr>\n",
       "      <th>0</th>\n",
       "      <td>a07a9a48-de2f-4b5a-896e-c44d56eeb3c0</td>\n",
       "      <td>final</td>\n",
       "      <td>Lipid Panel</td>\n",
       "      <td>a195633e-d36d-4abe-92bb-02994e9cb348</td>\n",
       "      <td>e23fb9ad-56f4-4e34-8073-6c89277f03f8</td>\n",
       "      <td>2014-03-19T16:56:31-04:00</td>\n",
       "      <td>Hospital Lab</td>\n",
       "      <td>urn:uuid:616bd45e-f48a-4935-be31-61f3d2c91a58</td>\n",
       "      <td>Total Cholesterol</td>\n",
       "    </tr>\n",
       "    <tr>\n",
       "      <th>1</th>\n",
       "      <td>a07a9a48-de2f-4b5a-896e-c44d56eeb3c0</td>\n",
       "      <td>final</td>\n",
       "      <td>Lipid Panel</td>\n",
       "      <td>a195633e-d36d-4abe-92bb-02994e9cb348</td>\n",
       "      <td>e23fb9ad-56f4-4e34-8073-6c89277f03f8</td>\n",
       "      <td>2014-03-19T16:56:31-04:00</td>\n",
       "      <td>Hospital Lab</td>\n",
       "      <td>urn:uuid:d8d0648f-7c89-4ab1-a877-bf88e3ee69a8</td>\n",
       "      <td>Triglycerides</td>\n",
       "    </tr>\n",
       "    <tr>\n",
       "      <th>2</th>\n",
       "      <td>a07a9a48-de2f-4b5a-896e-c44d56eeb3c0</td>\n",
       "      <td>final</td>\n",
       "      <td>Lipid Panel</td>\n",
       "      <td>a195633e-d36d-4abe-92bb-02994e9cb348</td>\n",
       "      <td>e23fb9ad-56f4-4e34-8073-6c89277f03f8</td>\n",
       "      <td>2014-03-19T16:56:31-04:00</td>\n",
       "      <td>Hospital Lab</td>\n",
       "      <td>urn:uuid:76c1a941-d92a-4aee-ad0b-11e09939069e</td>\n",
       "      <td>Low Density Lipoprotein Cholesterol</td>\n",
       "    </tr>\n",
       "    <tr>\n",
       "      <th>3</th>\n",
       "      <td>a07a9a48-de2f-4b5a-896e-c44d56eeb3c0</td>\n",
       "      <td>final</td>\n",
       "      <td>Lipid Panel</td>\n",
       "      <td>a195633e-d36d-4abe-92bb-02994e9cb348</td>\n",
       "      <td>e23fb9ad-56f4-4e34-8073-6c89277f03f8</td>\n",
       "      <td>2014-03-19T16:56:31-04:00</td>\n",
       "      <td>Hospital Lab</td>\n",
       "      <td>urn:uuid:f745b0d8-0458-411d-966f-97a8fbf09398</td>\n",
       "      <td>High Density Lipoprotein Cholesterol</td>\n",
       "    </tr>\n",
       "    <tr>\n",
       "      <th>4</th>\n",
       "      <td>f74a3d92-b549-4a12-9e10-6a6d2204b59b</td>\n",
       "      <td>final</td>\n",
       "      <td>Basic Metabolic Panel</td>\n",
       "      <td>d0ed1873-9ac6-4c98-813e-86a041ce78c5</td>\n",
       "      <td>0e41d495-029e-4338-8173-25e62f81a199</td>\n",
       "      <td>2010-10-30T16:48:25-04:00</td>\n",
       "      <td>Hospital Lab</td>\n",
       "      <td>urn:uuid:9d0430d9-d252-4eb7-b9e6-3229bfbc477d</td>\n",
       "      <td>Glucose</td>\n",
       "    </tr>\n",
       "  </tbody>\n",
       "</table>\n",
       "</div>"
      ],
      "text/plain": [
       "                   Diagnostic Report ID Status        Diagnostic Name  \\\n",
       "0  a07a9a48-de2f-4b5a-896e-c44d56eeb3c0  final            Lipid Panel   \n",
       "1  a07a9a48-de2f-4b5a-896e-c44d56eeb3c0  final            Lipid Panel   \n",
       "2  a07a9a48-de2f-4b5a-896e-c44d56eeb3c0  final            Lipid Panel   \n",
       "3  a07a9a48-de2f-4b5a-896e-c44d56eeb3c0  final            Lipid Panel   \n",
       "4  f74a3d92-b549-4a12-9e10-6a6d2204b59b  final  Basic Metabolic Panel   \n",
       "\n",
       "                             Patient ID                          Encounter ID  \\\n",
       "0  a195633e-d36d-4abe-92bb-02994e9cb348  e23fb9ad-56f4-4e34-8073-6c89277f03f8   \n",
       "1  a195633e-d36d-4abe-92bb-02994e9cb348  e23fb9ad-56f4-4e34-8073-6c89277f03f8   \n",
       "2  a195633e-d36d-4abe-92bb-02994e9cb348  e23fb9ad-56f4-4e34-8073-6c89277f03f8   \n",
       "3  a195633e-d36d-4abe-92bb-02994e9cb348  e23fb9ad-56f4-4e34-8073-6c89277f03f8   \n",
       "4  d0ed1873-9ac6-4c98-813e-86a041ce78c5  0e41d495-029e-4338-8173-25e62f81a199   \n",
       "\n",
       "        Diagnostic Date Time     Performer  \\\n",
       "0  2014-03-19T16:56:31-04:00  Hospital Lab   \n",
       "1  2014-03-19T16:56:31-04:00  Hospital Lab   \n",
       "2  2014-03-19T16:56:31-04:00  Hospital Lab   \n",
       "3  2014-03-19T16:56:31-04:00  Hospital Lab   \n",
       "4  2010-10-30T16:48:25-04:00  Hospital Lab   \n",
       "\n",
       "                                result_reference  \\\n",
       "0  urn:uuid:616bd45e-f48a-4935-be31-61f3d2c91a58   \n",
       "1  urn:uuid:d8d0648f-7c89-4ab1-a877-bf88e3ee69a8   \n",
       "2  urn:uuid:76c1a941-d92a-4aee-ad0b-11e09939069e   \n",
       "3  urn:uuid:f745b0d8-0458-411d-966f-97a8fbf09398   \n",
       "4  urn:uuid:9d0430d9-d252-4eb7-b9e6-3229bfbc477d   \n",
       "\n",
       "                         result_display  \n",
       "0                     Total Cholesterol  \n",
       "1                         Triglycerides  \n",
       "2   Low Density Lipoprotein Cholesterol  \n",
       "3  High Density Lipoprotein Cholesterol  \n",
       "4                               Glucose  "
      ]
     },
     "execution_count": 128,
     "metadata": {},
     "output_type": "execute_result"
    }
   ],
   "source": [
    "diagnostic.head()"
   ]
  },
  {
   "cell_type": "code",
   "execution_count": 129,
   "metadata": {},
   "outputs": [
    {
     "data": {
      "text/html": [
       "<div>\n",
       "<style scoped>\n",
       "    .dataframe tbody tr th:only-of-type {\n",
       "        vertical-align: middle;\n",
       "    }\n",
       "\n",
       "    .dataframe tbody tr th {\n",
       "        vertical-align: top;\n",
       "    }\n",
       "\n",
       "    .dataframe thead th {\n",
       "        text-align: right;\n",
       "    }\n",
       "</style>\n",
       "<table border=\"1\" class=\"dataframe\">\n",
       "  <thead>\n",
       "    <tr style=\"text-align: right;\">\n",
       "      <th></th>\n",
       "      <th>Diagnostic Report ID</th>\n",
       "      <th>Status</th>\n",
       "      <th>Diagnostic Name</th>\n",
       "      <th>Patient ID</th>\n",
       "      <th>Encounter ID</th>\n",
       "      <th>Diagnostic Date Time</th>\n",
       "      <th>Performer</th>\n",
       "      <th>result_reference</th>\n",
       "      <th>result_display</th>\n",
       "    </tr>\n",
       "  </thead>\n",
       "  <tbody>\n",
       "    <tr>\n",
       "      <th>count</th>\n",
       "      <td>524</td>\n",
       "      <td>524</td>\n",
       "      <td>524</td>\n",
       "      <td>524</td>\n",
       "      <td>524</td>\n",
       "      <td>524</td>\n",
       "      <td>524</td>\n",
       "      <td>524</td>\n",
       "      <td>524</td>\n",
       "    </tr>\n",
       "    <tr>\n",
       "      <th>unique</th>\n",
       "      <td>89</td>\n",
       "      <td>1</td>\n",
       "      <td>3</td>\n",
       "      <td>23</td>\n",
       "      <td>69</td>\n",
       "      <td>69</td>\n",
       "      <td>1</td>\n",
       "      <td>524</td>\n",
       "      <td>13</td>\n",
       "    </tr>\n",
       "    <tr>\n",
       "      <th>top</th>\n",
       "      <td>31f7ba53-5e87-44f3-bf78-c908b69ed740</td>\n",
       "      <td>final</td>\n",
       "      <td>Basic Metabolic Panel</td>\n",
       "      <td>aa3973d9-b64f-4a36-8cb6-f2719080b52f</td>\n",
       "      <td>b8edeb00-4f36-47b5-9b99-12a05ad57691</td>\n",
       "      <td>2014-09-11T11:29:25-04:00</td>\n",
       "      <td>Hospital Lab</td>\n",
       "      <td>urn:uuid:616bd45e-f48a-4935-be31-61f3d2c91a58</td>\n",
       "      <td>Glucose</td>\n",
       "    </tr>\n",
       "    <tr>\n",
       "      <th>freq</th>\n",
       "      <td>8</td>\n",
       "      <td>524</td>\n",
       "      <td>360</td>\n",
       "      <td>108</td>\n",
       "      <td>12</td>\n",
       "      <td>12</td>\n",
       "      <td>524</td>\n",
       "      <td>1</td>\n",
       "      <td>45</td>\n",
       "    </tr>\n",
       "  </tbody>\n",
       "</table>\n",
       "</div>"
      ],
      "text/plain": [
       "                        Diagnostic Report ID Status        Diagnostic Name  \\\n",
       "count                                    524    524                    524   \n",
       "unique                                    89      1                      3   \n",
       "top     31f7ba53-5e87-44f3-bf78-c908b69ed740  final  Basic Metabolic Panel   \n",
       "freq                                       8    524                    360   \n",
       "\n",
       "                                  Patient ID  \\\n",
       "count                                    524   \n",
       "unique                                    23   \n",
       "top     aa3973d9-b64f-4a36-8cb6-f2719080b52f   \n",
       "freq                                     108   \n",
       "\n",
       "                                Encounter ID       Diagnostic Date Time  \\\n",
       "count                                    524                        524   \n",
       "unique                                    69                         69   \n",
       "top     b8edeb00-4f36-47b5-9b99-12a05ad57691  2014-09-11T11:29:25-04:00   \n",
       "freq                                      12                         12   \n",
       "\n",
       "           Performer                               result_reference  \\\n",
       "count            524                                            524   \n",
       "unique             1                                            524   \n",
       "top     Hospital Lab  urn:uuid:616bd45e-f48a-4935-be31-61f3d2c91a58   \n",
       "freq             524                                              1   \n",
       "\n",
       "       result_display  \n",
       "count             524  \n",
       "unique             13  \n",
       "top           Glucose  \n",
       "freq               45  "
      ]
     },
     "execution_count": 129,
     "metadata": {},
     "output_type": "execute_result"
    }
   ],
   "source": [
    "diagnostic.describe()"
   ]
  },
  {
   "cell_type": "code",
   "execution_count": 130,
   "metadata": {},
   "outputs": [
    {
     "data": {
      "text/html": [
       "<div>\n",
       "<style scoped>\n",
       "    .dataframe tbody tr th:only-of-type {\n",
       "        vertical-align: middle;\n",
       "    }\n",
       "\n",
       "    .dataframe tbody tr th {\n",
       "        vertical-align: top;\n",
       "    }\n",
       "\n",
       "    .dataframe thead th {\n",
       "        text-align: right;\n",
       "    }\n",
       "</style>\n",
       "<table border=\"1\" class=\"dataframe\">\n",
       "  <thead>\n",
       "    <tr style=\"text-align: right;\">\n",
       "      <th></th>\n",
       "      <th>Diagnostic Report ID</th>\n",
       "      <th>result_reference</th>\n",
       "      <th>result_display</th>\n",
       "    </tr>\n",
       "  </thead>\n",
       "  <tbody>\n",
       "    <tr>\n",
       "      <th>0</th>\n",
       "      <td>a07a9a48-de2f-4b5a-896e-c44d56eeb3c0</td>\n",
       "      <td>urn:uuid:616bd45e-f48a-4935-be31-61f3d2c91a58</td>\n",
       "      <td>Total Cholesterol</td>\n",
       "    </tr>\n",
       "    <tr>\n",
       "      <th>1</th>\n",
       "      <td>a07a9a48-de2f-4b5a-896e-c44d56eeb3c0</td>\n",
       "      <td>urn:uuid:d8d0648f-7c89-4ab1-a877-bf88e3ee69a8</td>\n",
       "      <td>Triglycerides</td>\n",
       "    </tr>\n",
       "    <tr>\n",
       "      <th>2</th>\n",
       "      <td>a07a9a48-de2f-4b5a-896e-c44d56eeb3c0</td>\n",
       "      <td>urn:uuid:76c1a941-d92a-4aee-ad0b-11e09939069e</td>\n",
       "      <td>Low Density Lipoprotein Cholesterol</td>\n",
       "    </tr>\n",
       "    <tr>\n",
       "      <th>3</th>\n",
       "      <td>a07a9a48-de2f-4b5a-896e-c44d56eeb3c0</td>\n",
       "      <td>urn:uuid:f745b0d8-0458-411d-966f-97a8fbf09398</td>\n",
       "      <td>High Density Lipoprotein Cholesterol</td>\n",
       "    </tr>\n",
       "  </tbody>\n",
       "</table>\n",
       "</div>"
      ],
      "text/plain": [
       "                   Diagnostic Report ID  \\\n",
       "0  a07a9a48-de2f-4b5a-896e-c44d56eeb3c0   \n",
       "1  a07a9a48-de2f-4b5a-896e-c44d56eeb3c0   \n",
       "2  a07a9a48-de2f-4b5a-896e-c44d56eeb3c0   \n",
       "3  a07a9a48-de2f-4b5a-896e-c44d56eeb3c0   \n",
       "\n",
       "                                result_reference  \\\n",
       "0  urn:uuid:616bd45e-f48a-4935-be31-61f3d2c91a58   \n",
       "1  urn:uuid:d8d0648f-7c89-4ab1-a877-bf88e3ee69a8   \n",
       "2  urn:uuid:76c1a941-d92a-4aee-ad0b-11e09939069e   \n",
       "3  urn:uuid:f745b0d8-0458-411d-966f-97a8fbf09398   \n",
       "\n",
       "                         result_display  \n",
       "0                     Total Cholesterol  \n",
       "1                         Triglycerides  \n",
       "2   Low Density Lipoprotein Cholesterol  \n",
       "3  High Density Lipoprotein Cholesterol  "
      ]
     },
     "execution_count": 130,
     "metadata": {},
     "output_type": "execute_result"
    }
   ],
   "source": [
    "pd.set_option('display.max_colwidth',400)\n",
    "diagnostic[['Diagnostic Report ID','result_reference','result_display']][:4]"
   ]
  }
 ],
 "metadata": {
  "kernelspec": {
   "display_name": "image_task",
   "language": "python",
   "name": "python3"
  },
  "language_info": {
   "codemirror_mode": {
    "name": "ipython",
    "version": 3
   },
   "file_extension": ".py",
   "mimetype": "text/x-python",
   "name": "python",
   "nbconvert_exporter": "python",
   "pygments_lexer": "ipython3",
   "version": "3.10.12"
  }
 },
 "nbformat": 4,
 "nbformat_minor": 2
}
