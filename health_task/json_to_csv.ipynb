{
 "cells": [
  {
   "cell_type": "markdown",
   "metadata": {},
   "source": [
    "# Patient Data"
   ]
  },
  {
   "cell_type": "code",
   "execution_count": 35,
   "metadata": {},
   "outputs": [],
   "source": [
    "import pandas as pd"
   ]
  },
  {
   "cell_type": "code",
   "execution_count": 216,
   "metadata": {},
   "outputs": [],
   "source": [
    "json_path = './health_data/healthcare-datasets/000e7fac-5ea9-404d-8434-1229c16c29b0.json'"
   ]
  },
  {
   "cell_type": "code",
   "execution_count": 133,
   "metadata": {},
   "outputs": [],
   "source": [
    "json_path = './health_data/healthcare-datasets/000a336a-41c8-4e46-8526-1e502346e28f.json'"
   ]
  },
  {
   "cell_type": "code",
   "execution_count": 217,
   "metadata": {},
   "outputs": [],
   "source": [
    "rawdata = pd.read_json(json_path)"
   ]
  },
  {
   "cell_type": "code",
   "execution_count": 218,
   "metadata": {},
   "outputs": [
    {
     "data": {
      "text/plain": [
       "0     {'fullUrl': 'urn:uuid:65d12976-9588-4cfa-a795-...\n",
       "1     {'fullUrl': 'urn:uuid:a3e3bd43-ef3c-48fd-9851-...\n",
       "2     {'fullUrl': 'urn:uuid:dff431d5-79b9-40c0-91b6-...\n",
       "3     {'fullUrl': 'urn:uuid:166ab0d5-66bc-40fc-922b-...\n",
       "4     {'resource': {'status': 'active', 'stage': {'c...\n",
       "5     {'fullUrl': 'urn:uuid:7e969f44-f034-48c1-82c9-...\n",
       "6     {'fullUrl': 'urn:uuid:be9865e1-76d5-4e23-b94d-...\n",
       "7     {'fullUrl': 'urn:uuid:77bda9d9-e213-471f-9dec-...\n",
       "8     {'fullUrl': 'urn:uuid:a5e0fd67-d09f-4861-a58f-...\n",
       "9     {'fullUrl': 'urn:uuid:322e6431-9a54-4e5f-9904-...\n",
       "10    {'fullUrl': 'urn:uuid:7d2b3ee3-1190-45fc-a876-...\n",
       "11    {'fullUrl': 'urn:uuid:3fd3dd3d-4382-4ae0-b1cc-...\n",
       "12    {'fullUrl': 'urn:uuid:978f5428-239c-4ab8-b593-...\n",
       "13    {'resource': {'status': 'completed', 'date': '...\n",
       "14    {'resource': {'status': 'completed', 'date': '...\n",
       "15    {'fullUrl': 'urn:uuid:8c679a80-a381-4fa8-af8a-...\n",
       "16    {'fullUrl': 'urn:uuid:3f257d68-ea56-42b5-b926-...\n",
       "17    {'fullUrl': 'urn:uuid:7b7130df-8af7-406e-b980-...\n",
       "18    {'fullUrl': 'urn:uuid:3695e3a0-2d14-4372-81b1-...\n",
       "19    {'fullUrl': 'urn:uuid:4a12bf0b-f986-4f37-b208-...\n",
       "20    {'fullUrl': 'urn:uuid:72ac7252-8f54-4768-bd5d-...\n",
       "21    {'fullUrl': 'urn:uuid:0e6b883a-6760-45ec-85e7-...\n",
       "22    {'resource': {'status': 'completed', 'code': {...\n",
       "23    {'resource': {'status': 'completed', 'date': '...\n",
       "24    {'fullUrl': 'urn:uuid:30e580b6-1b8c-4dfe-b283-...\n",
       "25    {'fullUrl': 'urn:uuid:7b8930a5-fa52-4e2b-9c77-...\n",
       "26    {'fullUrl': 'urn:uuid:24cd4ecb-7f0e-41b2-8d23-...\n",
       "27    {'fullUrl': 'urn:uuid:1ad0f288-820d-42e3-b246-...\n",
       "28    {'fullUrl': 'urn:uuid:3d02dca3-6069-4ba9-a953-...\n",
       "29    {'resource': {'status': 'completed', 'date': '...\n",
       "30    {'fullUrl': 'urn:uuid:744566ba-5740-4e51-a218-...\n",
       "31    {'fullUrl': 'urn:uuid:98179d1a-9c00-47b0-a067-...\n",
       "32    {'fullUrl': 'urn:uuid:50f2bbe2-2e4c-4549-8535-...\n",
       "33    {'fullUrl': 'urn:uuid:a2897811-ec8c-4983-911f-...\n",
       "34    {'fullUrl': 'urn:uuid:37a229f8-c696-451d-b7c2-...\n",
       "35    {'resource': {'status': 'completed', 'code': {...\n",
       "36    {'resource': {'status': 'completed', 'date': '...\n",
       "37    {'resource': {'status': 'completed', 'date': '...\n",
       "38    {'fullUrl': 'urn:uuid:1f0d1c73-ede0-4436-bbbb-...\n",
       "39    {'fullUrl': 'urn:uuid:08ff5a30-7b7d-4985-8c14-...\n",
       "40    {'fullUrl': 'urn:uuid:3f86773a-c81a-45d7-add5-...\n",
       "41    {'fullUrl': 'urn:uuid:18571155-8061-460d-beba-...\n",
       "42    {'fullUrl': 'urn:uuid:a5b5b174-0a8e-4782-bc35-...\n",
       "43    {'resource': {'status': 'completed', 'date': '...\n",
       "44    {'fullUrl': 'urn:uuid:ddc2fb3c-6ea7-4b66-931b-...\n",
       "45    {'fullUrl': 'urn:uuid:bda57d2c-732a-4f5b-a0bc-...\n",
       "46    {'resource': {'status': 'completed', 'code': {...\n",
       "47    {'resource': {'status': 'completed', 'category...\n",
       "48    {'resource': {'status': 'stopped', 'stage': {'...\n",
       "49    {'fullUrl': 'urn:uuid:80fd8fc5-4770-4e35-b31c-...\n",
       "50    {'fullUrl': 'urn:uuid:41b412e2-fc7f-4f0d-8a31-...\n",
       "51    {'resource': {'status': 'completed', 'code': {...\n",
       "52    {'resource': {'status': 'completed', 'category...\n",
       "53    {'fullUrl': 'urn:uuid:6df781cb-1041-46b2-be33-...\n",
       "54    {'fullUrl': 'urn:uuid:cf1b995e-8c31-43bd-86ca-...\n",
       "55    {'fullUrl': 'urn:uuid:13c08b76-527f-4922-aed8-...\n",
       "56    {'fullUrl': 'urn:uuid:910ab3f7-5af2-4a6a-963c-...\n",
       "57    {'fullUrl': 'urn:uuid:074b2ec3-e899-4da6-a6c4-...\n",
       "58    {'fullUrl': 'urn:uuid:9e86653c-fcde-415d-90f3-...\n",
       "59    {'fullUrl': 'urn:uuid:13bc1b75-f439-45b4-bced-...\n",
       "60    {'fullUrl': 'urn:uuid:e10b8cca-1c03-4b8f-816a-...\n",
       "61    {'resource': {'status': 'completed', 'date': '...\n",
       "62    {'fullUrl': 'urn:uuid:671100d2-6dff-4ddb-a79c-...\n",
       "63    {'fullUrl': 'urn:uuid:c4d0c9c3-2711-4834-b2ea-...\n",
       "64    {'fullUrl': 'urn:uuid:7f079a09-e7ca-42a1-a4fc-...\n",
       "65    {'fullUrl': 'urn:uuid:df832f8f-457e-4706-a476-...\n",
       "66    {'resource': {'status': 'completed', 'code': {...\n",
       "67    {'resource': {'status': 'completed', 'code': {...\n",
       "68    {'fullUrl': 'urn:uuid:b6997c07-c33a-4db9-b3d9-...\n",
       "69    {'fullUrl': 'urn:uuid:f3d500e9-f395-4223-a8f3-...\n",
       "70    {'fullUrl': 'urn:uuid:41b416ca-94fb-42f3-9663-...\n",
       "71    {'fullUrl': 'urn:uuid:225e0dab-69ee-4059-af24-...\n",
       "72    {'fullUrl': 'urn:uuid:8b3bf982-4ddf-4872-a830-...\n",
       "73    {'resource': {'status': 'completed', 'code': {...\n",
       "74    {'resource': {'status': 'completed', 'date': '...\n",
       "Name: entry, dtype: object"
      ]
     },
     "execution_count": 218,
     "metadata": {},
     "output_type": "execute_result"
    }
   ],
   "source": [
    "entries = rawdata['entry']\n",
    "entries"
   ]
  },
  {
   "cell_type": "code",
   "execution_count": 219,
   "metadata": {},
   "outputs": [
    {
     "data": {
      "text/plain": [
       "'Patient'"
      ]
     },
     "execution_count": 219,
     "metadata": {},
     "output_type": "execute_result"
    }
   ],
   "source": [
    "patient_resource = entries[0]['resource']\n",
    "patient_resource['resourceType']"
   ]
  },
  {
   "cell_type": "code",
   "execution_count": 220,
   "metadata": {},
   "outputs": [],
   "source": [
    "patient_data = pd.json_normalize(patient_resource)"
   ]
  },
  {
   "cell_type": "code",
   "execution_count": 221,
   "metadata": {},
   "outputs": [
    {
     "data": {
      "text/html": [
       "<div>\n",
       "<style scoped>\n",
       "    .dataframe tbody tr th:only-of-type {\n",
       "        vertical-align: middle;\n",
       "    }\n",
       "\n",
       "    .dataframe tbody tr th {\n",
       "        vertical-align: top;\n",
       "    }\n",
       "\n",
       "    .dataframe thead th {\n",
       "        text-align: right;\n",
       "    }\n",
       "</style>\n",
       "<table border=\"1\" class=\"dataframe\">\n",
       "  <thead>\n",
       "    <tr style=\"text-align: right;\">\n",
       "      <th></th>\n",
       "      <th>id</th>\n",
       "      <th>extension</th>\n",
       "      <th>identifier</th>\n",
       "      <th>name</th>\n",
       "      <th>telecom</th>\n",
       "      <th>gender</th>\n",
       "      <th>birthDate</th>\n",
       "      <th>address</th>\n",
       "      <th>multipleBirthBoolean</th>\n",
       "      <th>photo</th>\n",
       "      <th>resourceType</th>\n",
       "      <th>text.status</th>\n",
       "      <th>text.div</th>\n",
       "    </tr>\n",
       "  </thead>\n",
       "  <tbody>\n",
       "    <tr>\n",
       "      <th>0</th>\n",
       "      <td>65d12976-9588-4cfa-a795-216302a2ece9</td>\n",
       "      <td>[{'url': 'http://hl7.org/fhir/StructureDefinit...</td>\n",
       "      <td>[{'system': 'https://github.com/synthetichealt...</td>\n",
       "      <td>[{'use': 'official', 'family': 'Stracke702', '...</td>\n",
       "      <td>[{'extension': [{'url': 'http://standardhealth...</td>\n",
       "      <td>female</td>\n",
       "      <td>1997-06-23</td>\n",
       "      <td>[{'extension': [{'extension': [{'url': 'latitu...</td>\n",
       "      <td>False</td>\n",
       "      <td>[{'contentType': 'image/png', 'data': 'iVBORw0...</td>\n",
       "      <td>Patient</td>\n",
       "      <td>generated</td>\n",
       "      <td>&lt;div&gt;Generated by &lt;a href=\"https://github.com/...</td>\n",
       "    </tr>\n",
       "  </tbody>\n",
       "</table>\n",
       "</div>"
      ],
      "text/plain": [
       "                                     id  \\\n",
       "0  65d12976-9588-4cfa-a795-216302a2ece9   \n",
       "\n",
       "                                           extension  \\\n",
       "0  [{'url': 'http://hl7.org/fhir/StructureDefinit...   \n",
       "\n",
       "                                          identifier  \\\n",
       "0  [{'system': 'https://github.com/synthetichealt...   \n",
       "\n",
       "                                                name  \\\n",
       "0  [{'use': 'official', 'family': 'Stracke702', '...   \n",
       "\n",
       "                                             telecom  gender   birthDate  \\\n",
       "0  [{'extension': [{'url': 'http://standardhealth...  female  1997-06-23   \n",
       "\n",
       "                                             address  multipleBirthBoolean  \\\n",
       "0  [{'extension': [{'extension': [{'url': 'latitu...                 False   \n",
       "\n",
       "                                               photo resourceType text.status  \\\n",
       "0  [{'contentType': 'image/png', 'data': 'iVBORw0...      Patient   generated   \n",
       "\n",
       "                                            text.div  \n",
       "0  <div>Generated by <a href=\"https://github.com/...  "
      ]
     },
     "execution_count": 221,
     "metadata": {},
     "output_type": "execute_result"
    }
   ],
   "source": [
    "patient_data\n"
   ]
  },
  {
   "cell_type": "code",
   "execution_count": 222,
   "metadata": {},
   "outputs": [
    {
     "name": "stdout",
     "output_type": "stream",
     "text": [
      "<class 'pandas.core.frame.DataFrame'>\n",
      "RangeIndex: 1 entries, 0 to 0\n",
      "Data columns (total 13 columns):\n",
      " #   Column                Non-Null Count  Dtype \n",
      "---  ------                --------------  ----- \n",
      " 0   id                    1 non-null      object\n",
      " 1   extension             1 non-null      object\n",
      " 2   identifier            1 non-null      object\n",
      " 3   name                  1 non-null      object\n",
      " 4   telecom               1 non-null      object\n",
      " 5   gender                1 non-null      object\n",
      " 6   birthDate             1 non-null      object\n",
      " 7   address               1 non-null      object\n",
      " 8   multipleBirthBoolean  1 non-null      bool  \n",
      " 9   photo                 1 non-null      object\n",
      " 10  resourceType          1 non-null      object\n",
      " 11  text.status           1 non-null      object\n",
      " 12  text.div              1 non-null      object\n",
      "dtypes: bool(1), object(12)\n",
      "memory usage: 225.0+ bytes\n"
     ]
    }
   ],
   "source": [
    "patient_data.info()"
   ]
  },
  {
   "cell_type": "markdown",
   "metadata": {},
   "source": [
    "## Patient Id"
   ]
  },
  {
   "cell_type": "code",
   "execution_count": 161,
   "metadata": {},
   "outputs": [
    {
     "data": {
      "text/plain": [
       "'f72f7612-7acd-4dbd-b736-948a44bb1a36'"
      ]
     },
     "execution_count": 161,
     "metadata": {},
     "output_type": "execute_result"
    }
   ],
   "source": [
    "patient_id = patient_data['id']\n",
    "patient_id[0]"
   ]
  },
  {
   "cell_type": "markdown",
   "metadata": {},
   "source": [
    "## Patient Name"
   ]
  },
  {
   "cell_type": "code",
   "execution_count": 223,
   "metadata": {},
   "outputs": [
    {
     "data": {
      "text/plain": [
       "<bound method Series.keys of 0    [{'use': 'official', 'family': 'Stracke702', '...\n",
       "Name: name, dtype: object>"
      ]
     },
     "execution_count": 223,
     "metadata": {},
     "output_type": "execute_result"
    }
   ],
   "source": [
    "patient_name_raw = patient_data['name']\n",
    "patient_name_raw.keys"
   ]
  },
  {
   "cell_type": "code",
   "execution_count": 224,
   "metadata": {},
   "outputs": [
    {
     "data": {
      "text/plain": [
       "{'use': 'official',\n",
       " 'family': 'Stracke702',\n",
       " 'given': ['Conrad130'],\n",
       " 'prefix': ['Ms.']}"
      ]
     },
     "execution_count": 224,
     "metadata": {},
     "output_type": "execute_result"
    }
   ],
   "source": [
    "patient_family_name_raw  = patient_name_raw[0][0]\n",
    "patient_family_name_raw"
   ]
  },
  {
   "cell_type": "code",
   "execution_count": 51,
   "metadata": {},
   "outputs": [
    {
     "data": {
      "text/plain": [
       "'Ms. Conrad130 Stracke702'"
      ]
     },
     "execution_count": 51,
     "metadata": {},
     "output_type": "execute_result"
    }
   ],
   "source": [
    "patient_name = f\"{patient_family_name_raw['prefix'][0]} {patient_family_name_raw['given'][0]} {patient_family_name_raw['family']}\"\n",
    "patient_name"
   ]
  },
  {
   "cell_type": "code",
   "execution_count": 209,
   "metadata": {},
   "outputs": [],
   "source": [
    "\n",
    "patient_name_prefix  = patient_name_raw.get('prefix',[''])[0]\n",
    "patient_name = f\"{patient_name_prefix} {patient_family_name_raw['given'][0]} {patient_family_name_raw['family']}\""
   ]
  },
  {
   "cell_type": "code",
   "execution_count": 210,
   "metadata": {},
   "outputs": [],
   "source": [
    "patient_name_raw = patient_data['name']\n",
    "patient_family_name_raw = patient_name_raw[0][0]\n",
    "# del patient_family_name_raw['prefix']"
   ]
  },
  {
   "cell_type": "code",
   "execution_count": 212,
   "metadata": {},
   "outputs": [
    {
     "data": {
      "text/plain": [
       "{'use': 'official', 'family': 'Stracke702', 'given': ['Conrad130']}"
      ]
     },
     "execution_count": 212,
     "metadata": {},
     "output_type": "execute_result"
    }
   ],
   "source": [
    "patient_family_name_raw"
   ]
  },
  {
   "cell_type": "code",
   "execution_count": 225,
   "metadata": {},
   "outputs": [
    {
     "data": {
      "text/plain": [
       "'Ms.'"
      ]
     },
     "execution_count": 225,
     "metadata": {},
     "output_type": "execute_result"
    }
   ],
   "source": [
    "patient_name_prefix  = patient_family_name_raw.get('prefix',[''])[0]\n",
    "patient_name_prefix"
   ]
  },
  {
   "cell_type": "code",
   "execution_count": 197,
   "metadata": {},
   "outputs": [
    {
     "data": {
      "text/plain": [
       "' Lavon303 Medhurst137'"
      ]
     },
     "execution_count": 197,
     "metadata": {},
     "output_type": "execute_result"
    }
   ],
   "source": [
    "patient_name"
   ]
  },
  {
   "cell_type": "markdown",
   "metadata": {},
   "source": [
    "## Patient Gender"
   ]
  },
  {
   "cell_type": "code",
   "execution_count": 52,
   "metadata": {},
   "outputs": [
    {
     "data": {
      "text/plain": [
       "0    female\n",
       "Name: gender, dtype: object"
      ]
     },
     "execution_count": 52,
     "metadata": {},
     "output_type": "execute_result"
    }
   ],
   "source": [
    "patient_gender = patient_data['gender']\n",
    "patient_gender"
   ]
  },
  {
   "cell_type": "markdown",
   "metadata": {},
   "source": [
    "## Age"
   ]
  },
  {
   "cell_type": "code",
   "execution_count": 53,
   "metadata": {},
   "outputs": [
    {
     "data": {
      "text/plain": [
       "0    1997-06-23\n",
       "Name: birthDate, dtype: object"
      ]
     },
     "execution_count": 53,
     "metadata": {},
     "output_type": "execute_result"
    }
   ],
   "source": [
    "patient_birth_date_raw = patient_data['birthDate']\n",
    "patient_birth_date_raw"
   ]
  },
  {
   "cell_type": "code",
   "execution_count": 54,
   "metadata": {},
   "outputs": [
    {
     "data": {
      "text/plain": [
       "pandas.core.series.Series"
      ]
     },
     "execution_count": 54,
     "metadata": {},
     "output_type": "execute_result"
    }
   ],
   "source": [
    "type(patient_birth_date_raw)"
   ]
  },
  {
   "cell_type": "code",
   "execution_count": 55,
   "metadata": {},
   "outputs": [
    {
     "data": {
      "text/plain": [
       "'1997-06-23'"
      ]
     },
     "execution_count": 55,
     "metadata": {},
     "output_type": "execute_result"
    }
   ],
   "source": [
    "patient_birth_date_raw_value = patient_birth_date_raw.array[0]\n",
    "patient_birth_date_raw_value"
   ]
  },
  {
   "cell_type": "code",
   "execution_count": 56,
   "metadata": {},
   "outputs": [
    {
     "data": {
      "text/plain": [
       "'27 years'"
      ]
     },
     "execution_count": 56,
     "metadata": {},
     "output_type": "execute_result"
    }
   ],
   "source": [
    "import datetime\n",
    "if patient_birth_date_raw_value:\n",
    "    birth_year = datetime.datetime.strptime(patient_birth_date_raw_value, '%Y-%m-%d').year\n",
    "    patient_age = str(datetime.datetime.now().year - birth_year)\n",
    "patient_age + ' years'"
   ]
  },
  {
   "cell_type": "markdown",
   "metadata": {},
   "source": [
    "## Phone Number"
   ]
  },
  {
   "cell_type": "code",
   "execution_count": 58,
   "metadata": {},
   "outputs": [
    {
     "data": {
      "text/plain": [
       "0    [{'extension': [{'url': 'http://standardhealth...\n",
       "Name: telecom, dtype: object"
      ]
     },
     "metadata": {},
     "output_type": "display_data"
    }
   ],
   "source": [
    "patient_phone_number_raw = patient_data['telecom']\n",
    "display(patient_phone_number_raw)"
   ]
  },
  {
   "cell_type": "code",
   "execution_count": 59,
   "metadata": {},
   "outputs": [
    {
     "data": {
      "text/plain": [
       "[{'extension': [{'url': 'http://standardhealthrecord.org/fhir/extensions/okayToLeaveMessage',\n",
       "    'valueBoolean': True}],\n",
       "  'system': 'phone',\n",
       "  'value': '(316) 617-5096',\n",
       "  'use': 'home'}]"
      ]
     },
     "execution_count": 59,
     "metadata": {},
     "output_type": "execute_result"
    }
   ],
   "source": [
    "patient_phone_number_raw[0]"
   ]
  },
  {
   "cell_type": "code",
   "execution_count": 66,
   "metadata": {},
   "outputs": [
    {
     "data": {
      "text/plain": [
       "'(316) 617-5096'"
      ]
     },
     "execution_count": 66,
     "metadata": {},
     "output_type": "execute_result"
    }
   ],
   "source": [
    "patient_phone_number_raw_value = patient_phone_number_raw[0][0]['value']\n",
    "patient_phone_number_raw_value"
   ]
  },
  {
   "cell_type": "code",
   "execution_count": 67,
   "metadata": {},
   "outputs": [],
   "source": [
    "import re"
   ]
  },
  {
   "cell_type": "code",
   "execution_count": 74,
   "metadata": {},
   "outputs": [],
   "source": [
    "match = re.match(r'\\((\\d{3})\\) (\\d{3})-(\\d{4})( x\\d+)?', patient_phone_number_raw_value)"
   ]
  },
  {
   "cell_type": "code",
   "execution_count": 75,
   "metadata": {},
   "outputs": [
    {
     "data": {
      "text/plain": [
       "('316', '617', '5096', None)"
      ]
     },
     "execution_count": 75,
     "metadata": {},
     "output_type": "execute_result"
    }
   ],
   "source": [
    "match.groups()"
   ]
  },
  {
   "cell_type": "code",
   "execution_count": 76,
   "metadata": {},
   "outputs": [],
   "source": [
    "if match:\n",
    "    area_code, first_part, second_part, extension = match.groups()\n",
    "    if extension:\n",
    "        patient_phone_number = f\"{area_code}.{first_part}.{second_part}{extension}\"\n",
    "    else:\n",
    "        patient_phone_number = f\"{area_code}.{first_part}.{second_part}\"\n",
    "    "
   ]
  },
  {
   "cell_type": "code",
   "execution_count": 77,
   "metadata": {},
   "outputs": [
    {
     "data": {
      "text/plain": [
       "'316.617.5096'"
      ]
     },
     "execution_count": 77,
     "metadata": {},
     "output_type": "execute_result"
    }
   ],
   "source": [
    "patient_phone_number"
   ]
  },
  {
   "cell_type": "markdown",
   "metadata": {},
   "source": [
    "## Address"
   ]
  },
  {
   "cell_type": "code",
   "execution_count": 79,
   "metadata": {},
   "outputs": [
    {
     "data": {
      "text/plain": [
       "0    [{'extension': [{'extension': [{'url': 'latitu...\n",
       "Name: address, dtype: object"
      ]
     },
     "execution_count": 79,
     "metadata": {},
     "output_type": "execute_result"
    }
   ],
   "source": [
    "patient_address_raw = patient_data['address']\n",
    "patient_address_raw"
   ]
  },
  {
   "cell_type": "code",
   "execution_count": 80,
   "metadata": {},
   "outputs": [
    {
     "data": {
      "text/plain": [
       "{'extension': [{'extension': [{'url': 'latitude',\n",
       "     'valueDecimal': 42.322218705608705},\n",
       "    {'url': 'longitude', 'valueDecimal': -71.23987949611592}],\n",
       "   'url': 'http://hl7.org/fhir/StructureDefinition/geolocation'}],\n",
       " 'line': ['965 Leta Club', 'Suite 724'],\n",
       " 'city': 'Newton',\n",
       " 'state': 'MA',\n",
       " 'postalCode': '02468'}"
      ]
     },
     "execution_count": 80,
     "metadata": {},
     "output_type": "execute_result"
    }
   ],
   "source": [
    "patient_address_raw[0][0]"
   ]
  },
  {
   "cell_type": "code",
   "execution_count": 81,
   "metadata": {},
   "outputs": [],
   "source": [
    "patient_address_raw_city_value = patient_address_raw[0][0]['city']\n",
    "patient_address_raw_state_value = patient_address_raw[0][0]['state']"
   ]
  },
  {
   "cell_type": "code",
   "execution_count": 82,
   "metadata": {},
   "outputs": [
    {
     "data": {
      "text/plain": [
       "'Newton, MA'"
      ]
     },
     "execution_count": 82,
     "metadata": {},
     "output_type": "execute_result"
    }
   ],
   "source": [
    "patient_address = f\"{patient_address_raw_city_value}, {patient_address_raw_state_value}\"\n",
    "patient_address"
   ]
  },
  {
   "cell_type": "markdown",
   "metadata": {},
   "source": [
    "## Race"
   ]
  },
  {
   "cell_type": "code",
   "execution_count": 83,
   "metadata": {},
   "outputs": [
    {
     "data": {
      "text/plain": [
       "0    [{'url': 'http://hl7.org/fhir/StructureDefinit...\n",
       "Name: extension, dtype: object"
      ]
     },
     "execution_count": 83,
     "metadata": {},
     "output_type": "execute_result"
    }
   ],
   "source": [
    "patient_race_raw = patient_data['extension']\n",
    "patient_race_raw"
   ]
  },
  {
   "cell_type": "code",
   "execution_count": 84,
   "metadata": {},
   "outputs": [
    {
     "data": {
      "text/plain": [
       "{'coding': [{'system': 'http://hl7.org/fhir/v3/Race',\n",
       "   'code': '2106-3',\n",
       "   'display': 'White'}],\n",
       " 'text': 'race'}"
      ]
     },
     "execution_count": 84,
     "metadata": {},
     "output_type": "execute_result"
    }
   ],
   "source": [
    "patient_race_raw_data = patient_race_raw[0][0]['valueCodeableConcept']\n",
    "patient_race_raw_data"
   ]
  },
  {
   "cell_type": "code",
   "execution_count": 85,
   "metadata": {},
   "outputs": [
    {
     "data": {
      "text/plain": [
       "[{'system': 'http://hl7.org/fhir/v3/Race',\n",
       "  'code': '2106-3',\n",
       "  'display': 'White'}]"
      ]
     },
     "metadata": {},
     "output_type": "display_data"
    }
   ],
   "source": [
    "display(patient_race_raw_data['coding'])"
   ]
  },
  {
   "cell_type": "code",
   "execution_count": 86,
   "metadata": {},
   "outputs": [],
   "source": [
    "if patient_race_raw_data['text'] == 'race':\n",
    "    patient_race = patient_race_raw_data['coding'][0]['display']"
   ]
  },
  {
   "cell_type": "code",
   "execution_count": 87,
   "metadata": {},
   "outputs": [
    {
     "data": {
      "text/plain": [
       "'White'"
      ]
     },
     "execution_count": 87,
     "metadata": {},
     "output_type": "execute_result"
    }
   ],
   "source": [
    "patient_race"
   ]
  },
  {
   "cell_type": "markdown",
   "metadata": {},
   "source": [
    "## Ethnicity"
   ]
  },
  {
   "cell_type": "code",
   "execution_count": 88,
   "metadata": {},
   "outputs": [
    {
     "data": {
      "text/plain": [
       "0    [{'url': 'http://hl7.org/fhir/StructureDefinit...\n",
       "Name: extension, dtype: object"
      ]
     },
     "execution_count": 88,
     "metadata": {},
     "output_type": "execute_result"
    }
   ],
   "source": [
    "patient_ethnicity_raw = patient_data['extension']\n",
    "patient_ethnicity_raw"
   ]
  },
  {
   "cell_type": "code",
   "execution_count": 89,
   "metadata": {},
   "outputs": [
    {
     "data": {
      "text/plain": [
       "{'coding': [{'system': 'http://hl7.org/fhir/v3/Ethnicity',\n",
       "   'code': '2186-5',\n",
       "   'display': 'Nonhispanic'}],\n",
       " 'text': 'ethnicity'}"
      ]
     },
     "execution_count": 89,
     "metadata": {},
     "output_type": "execute_result"
    }
   ],
   "source": [
    "patient_ethnicity_raw_data = patient_ethnicity_raw[0][1]['valueCodeableConcept']\n",
    "patient_ethnicity_raw_data"
   ]
  },
  {
   "cell_type": "code",
   "execution_count": 90,
   "metadata": {},
   "outputs": [],
   "source": [
    "if patient_ethnicity_raw_data['text'] == 'ethnicity':\n",
    "    patient_ethnicity = patient_ethnicity_raw_data['coding'][0]['display']"
   ]
  },
  {
   "cell_type": "code",
   "execution_count": 91,
   "metadata": {},
   "outputs": [
    {
     "data": {
      "text/plain": [
       "'Nonhispanic'"
      ]
     },
     "execution_count": 91,
     "metadata": {},
     "output_type": "execute_result"
    }
   ],
   "source": [
    "patient_ethnicity"
   ]
  },
  {
   "cell_type": "markdown",
   "metadata": {},
   "source": [
    "## Marital Status"
   ]
  },
  {
   "cell_type": "code",
   "execution_count": 141,
   "metadata": {},
   "outputs": [
    {
     "data": {
      "text/plain": [
       "0    [{'system': 'http://hl7.org/fhir/v3/MaritalSta...\n",
       "Name: maritalStatus.coding, dtype: object"
      ]
     },
     "execution_count": 141,
     "metadata": {},
     "output_type": "execute_result"
    }
   ],
   "source": [
    "patient_marital_status_raw = patient_data.get('maritalStatus.coding',None)\n",
    "patient_marital_status_raw"
   ]
  },
  {
   "cell_type": "code",
   "execution_count": 142,
   "metadata": {},
   "outputs": [
    {
     "data": {
      "text/plain": [
       "{'system': 'http://hl7.org/fhir/v3/MaritalStatus', 'code': 'M'}"
      ]
     },
     "metadata": {},
     "output_type": "display_data"
    }
   ],
   "source": [
    "if patient_marital_status_raw is not None:\n",
    "    display(patient_marital_status_raw[0][0])\n"
   ]
  },
  {
   "cell_type": "code",
   "execution_count": 131,
   "metadata": {},
   "outputs": [
    {
     "ename": "AttributeError",
     "evalue": "'NoneType' object has no attribute 'empty'",
     "output_type": "error",
     "traceback": [
      "\u001b[0;31m---------------------------------------------------------------------------\u001b[0m",
      "\u001b[0;31mAttributeError\u001b[0m                            Traceback (most recent call last)",
      "Cell \u001b[0;32mIn[131], line 1\u001b[0m\n\u001b[0;32m----> 1\u001b[0m \u001b[38;5;28;01mif\u001b[39;00m \u001b[38;5;129;01mnot\u001b[39;00m \u001b[43mpatient_marital_status_raw\u001b[49m\u001b[38;5;241;43m.\u001b[39;49m\u001b[43mempty\u001b[49m:\n\u001b[1;32m      2\u001b[0m     display(patient_marital_status_raw[\u001b[38;5;241m0\u001b[39m][\u001b[38;5;241m0\u001b[39m])\n",
      "\u001b[0;31mAttributeError\u001b[0m: 'NoneType' object has no attribute 'empty'"
     ]
    }
   ],
   "source": [
    "if not patient_marital_status_raw.empty:\n",
    "    display(patient_marital_status_raw[0][0])"
   ]
  },
  {
   "cell_type": "code",
   "execution_count": 117,
   "metadata": {},
   "outputs": [],
   "source": [
    "marital_status_mapping = {'M':'married','S':'single'}"
   ]
  },
  {
   "cell_type": "code",
   "execution_count": 143,
   "metadata": {},
   "outputs": [],
   "source": [
    "\n",
    "if not patient_marital_status_raw.empty: \n",
    "    patient_marital_status = marital_status_mapping[patient_marital_status_raw[0][0]['code']]\n",
    "else:\n",
    "    patient_marital_status = 'unknown'"
   ]
  },
  {
   "cell_type": "code",
   "execution_count": 144,
   "metadata": {},
   "outputs": [
    {
     "data": {
      "text/plain": [
       "'married'"
      ]
     },
     "execution_count": 144,
     "metadata": {},
     "output_type": "execute_result"
    }
   ],
   "source": [
    "patient_marital_status"
   ]
  },
  {
   "cell_type": "markdown",
   "metadata": {},
   "source": [
    "## Patient Data Extraction"
   ]
  },
  {
   "cell_type": "code",
   "execution_count": 22,
   "metadata": {},
   "outputs": [],
   "source": [
    "import re\n",
    "import datetime\n",
    "import pandas as pd\n",
    "import os\n",
    "from tqdm import tqdm"
   ]
  },
  {
   "cell_type": "code",
   "execution_count": 23,
   "metadata": {},
   "outputs": [],
   "source": [
    "def extract_patient_data(json_file_path):\n",
    "    rawdata = pd.read_json(json_file_path)\n",
    "    entries = rawdata['entry']\n",
    "    for entry in entries:\n",
    "        if entry['resource']['resourceType'] == 'Patient':\n",
    "            patient_resource = entry['resource']\n",
    "            patient_data = pd.json_normalize(patient_resource)\n",
    "\n",
    "            # Patient Id\n",
    "            patient_id = patient_data['id'][0]\n",
    "\n",
    "            # Patient Name\n",
    "            patient_name_raw = patient_data['name']\n",
    "            patient_family_name_raw = patient_name_raw[0][0]\n",
    "            patient_name_prefix  = patient_family_name_raw.get('prefix',[''])[0]\n",
    "            patient_name = f\"{patient_name_prefix} {patient_family_name_raw['given'][0]} {patient_family_name_raw['family']}\"\n",
    "\n",
    "            # Patient Gender\n",
    "            patient_gender = patient_data['gender'][0]\n",
    "\n",
    "            # Age\n",
    "            patient_birth_date_raw = patient_data['birthDate']\n",
    "            patient_birth_date_raw_value = patient_birth_date_raw.array[0]\n",
    "            if patient_birth_date_raw_value:\n",
    "                birth_year = datetime.datetime.strptime(\n",
    "                    patient_birth_date_raw_value, '%Y-%m-%d').year\n",
    "                patient_age = str(datetime.datetime.now().year - birth_year)\n",
    "            patient_age = patient_age + ' years'\n",
    "\n",
    "            # Phone Number\n",
    "            patient_phone_number_raw = patient_data['telecom']\n",
    "            patient_phone_number = patient_phone_number_raw[0][0]['value']\n",
    "\n",
    "            # Address\n",
    "            patient_address_raw = patient_data['address']\n",
    "            patient_address_raw_city_value = patient_address_raw[0][0]['city']\n",
    "            patient_address_raw_state_value = patient_address_raw[0][0]['state']\n",
    "            patient_address = f\"{patient_address_raw_city_value}, {patient_address_raw_state_value}\"\n",
    "\n",
    "            # Race\n",
    "            patient_race_raw = patient_data['extension']\n",
    "            patient_race_raw_data = patient_race_raw[0][0]['valueCodeableConcept']\n",
    "            if patient_race_raw_data['text'] == 'race':\n",
    "                patient_race = patient_race_raw_data['coding'][0]['display']\n",
    "\n",
    "            # Ethnicity\n",
    "            patient_ethnicity_raw = patient_data['extension']\n",
    "            patient_ethnicity_raw_data = patient_ethnicity_raw[0][1]['valueCodeableConcept']\n",
    "            if patient_ethnicity_raw_data['text'] == 'ethnicity':\n",
    "                patient_ethnicity = patient_ethnicity_raw_data['coding'][0]['display']\n",
    "\n",
    "            # Marital Status\n",
    "            patient_marital_status_raw = patient_data.get('maritalStatus.coding',None)\n",
    "            if patient_marital_status_raw is not None:\n",
    "                marital_status_mapping = {'M': 'married', 'S': 'single'}\n",
    "                patient_marital_status = marital_status_mapping[patient_marital_status_raw[0][0]['code']]\n",
    "            else:\n",
    "                patient_marital_status = 'unknown'\n",
    "\n",
    "            return [patient_id, patient_name, patient_gender, patient_age, patient_phone_number, patient_address, patient_race, patient_ethnicity, patient_marital_status]"
   ]
  },
  {
   "cell_type": "code",
   "execution_count": 24,
   "metadata": {},
   "outputs": [],
   "source": [
    "def patient_data_csv(root_directory_path, output_csv_path):\n",
    "    columns = ['Patient ID','Name',\t'Gender',\t'Age',\t'Phone Number',\t'Address',\t'Race',\t'Ethnicity',\t'Marital Status'\n",
    "               ]\n",
    "    with open(output_csv_path, 'w') as f:\n",
    "        pd.DataFrame(columns=columns).to_csv(f, index=False)\n",
    "    for subdir, _, files in os.walk(root_directory_path):\n",
    "        for file in tqdm(files):\n",
    "            file_path = os.path.join(subdir, file)\n",
    "            patient_data = extract_patient_data(file_path)\n",
    "            with open(output_csv_path, 'a') as f:\n",
    "                pd.DataFrame([patient_data], columns=columns).to_csv(\n",
    "                    f, header=False, index=False)"
   ]
  },
  {
   "cell_type": "code",
   "execution_count": 26,
   "metadata": {},
   "outputs": [
    {
     "name": "stderr",
     "output_type": "stream",
     "text": [
      "100%|██████████| 39/39 [00:00<00:00, 147.70it/s]\n"
     ]
    }
   ],
   "source": [
    "patient_data_csv('./health_data/healthcare-datasets/','./output_csv/patient_data.csv')"
   ]
  },
  {
   "cell_type": "markdown",
   "metadata": {},
   "source": [
    "## Processing Patient Data"
   ]
  },
  {
   "cell_type": "code",
   "execution_count": 27,
   "metadata": {},
   "outputs": [
    {
     "data": {
      "text/html": [
       "<div>\n",
       "<style scoped>\n",
       "    .dataframe tbody tr th:only-of-type {\n",
       "        vertical-align: middle;\n",
       "    }\n",
       "\n",
       "    .dataframe tbody tr th {\n",
       "        vertical-align: top;\n",
       "    }\n",
       "\n",
       "    .dataframe thead th {\n",
       "        text-align: right;\n",
       "    }\n",
       "</style>\n",
       "<table border=\"1\" class=\"dataframe\">\n",
       "  <thead>\n",
       "    <tr style=\"text-align: right;\">\n",
       "      <th></th>\n",
       "      <th>Patient ID</th>\n",
       "      <th>Name</th>\n",
       "      <th>Gender</th>\n",
       "      <th>Age</th>\n",
       "      <th>Phone Number</th>\n",
       "      <th>Address</th>\n",
       "      <th>Race</th>\n",
       "      <th>Ethnicity</th>\n",
       "      <th>Marital Status</th>\n",
       "    </tr>\n",
       "  </thead>\n",
       "  <tbody>\n",
       "    <tr>\n",
       "      <th>0</th>\n",
       "      <td>65d12976-9588-4cfa-a795-216302a2ece9</td>\n",
       "      <td>Ms. Conrad130 Stracke702</td>\n",
       "      <td>female</td>\n",
       "      <td>27 years</td>\n",
       "      <td>(316) 617-5096</td>\n",
       "      <td>Newton, MA</td>\n",
       "      <td>White</td>\n",
       "      <td>Nonhispanic</td>\n",
       "      <td>unknown</td>\n",
       "    </tr>\n",
       "    <tr>\n",
       "      <th>1</th>\n",
       "      <td>a195633e-d36d-4abe-92bb-02994e9cb348</td>\n",
       "      <td>Mrs. Blanca183 Denesik412</td>\n",
       "      <td>female</td>\n",
       "      <td>49 years</td>\n",
       "      <td>1-734-978-8625</td>\n",
       "      <td>Stoughton, MA</td>\n",
       "      <td>White</td>\n",
       "      <td>Nonhispanic</td>\n",
       "      <td>married</td>\n",
       "    </tr>\n",
       "    <tr>\n",
       "      <th>2</th>\n",
       "      <td>d0ed1873-9ac6-4c98-813e-86a041ce78c5</td>\n",
       "      <td>Mr. Felton828 Bosco90</td>\n",
       "      <td>male</td>\n",
       "      <td>93 years</td>\n",
       "      <td>707.709.1861</td>\n",
       "      <td>Easton, MA</td>\n",
       "      <td>White</td>\n",
       "      <td>Nonhispanic</td>\n",
       "      <td>married</td>\n",
       "    </tr>\n",
       "    <tr>\n",
       "      <th>3</th>\n",
       "      <td>2db81051-c02a-4c72-b17d-feb8c49cded7</td>\n",
       "      <td>Madaline694 Gorczany145</td>\n",
       "      <td>male</td>\n",
       "      <td>9 years</td>\n",
       "      <td>(580) 812-0728 x20440</td>\n",
       "      <td>Southborough, MA</td>\n",
       "      <td>White</td>\n",
       "      <td>Nonhispanic</td>\n",
       "      <td>unknown</td>\n",
       "    </tr>\n",
       "    <tr>\n",
       "      <th>4</th>\n",
       "      <td>d76cce33-3dec-4874-b352-fa81812517c7</td>\n",
       "      <td>Mrs. Trycia159 Koch741</td>\n",
       "      <td>female</td>\n",
       "      <td>76 years</td>\n",
       "      <td>496-882-5625 x30016</td>\n",
       "      <td>Southbridge, MA</td>\n",
       "      <td>Black</td>\n",
       "      <td>Nonhispanic</td>\n",
       "      <td>married</td>\n",
       "    </tr>\n",
       "    <tr>\n",
       "      <th>5</th>\n",
       "      <td>aa3973d9-b64f-4a36-8cb6-f2719080b52f</td>\n",
       "      <td>Mr. Ashlynn633 Gleichner469</td>\n",
       "      <td>male</td>\n",
       "      <td>70 years</td>\n",
       "      <td>(779) 283-1133 x7121</td>\n",
       "      <td>Dedham, MA</td>\n",
       "      <td>White</td>\n",
       "      <td>Nonhispanic</td>\n",
       "      <td>married</td>\n",
       "    </tr>\n",
       "    <tr>\n",
       "      <th>6</th>\n",
       "      <td>80bb41d3-ebb4-42e6-b087-6ee89b0463a9</td>\n",
       "      <td>Mrs. Zachary691 Willms133</td>\n",
       "      <td>female</td>\n",
       "      <td>65 years</td>\n",
       "      <td>493.648.2471 x26272</td>\n",
       "      <td>Shrewsbury, MA</td>\n",
       "      <td>White</td>\n",
       "      <td>Nonhispanic</td>\n",
       "      <td>married</td>\n",
       "    </tr>\n",
       "    <tr>\n",
       "      <th>7</th>\n",
       "      <td>117335bb-33ff-4897-ac27-af4b3f11135f</td>\n",
       "      <td>Mr. Bart857 Schaden124</td>\n",
       "      <td>male</td>\n",
       "      <td>75 years</td>\n",
       "      <td>375-025-8548 x42903</td>\n",
       "      <td>Worcester, MA</td>\n",
       "      <td>White</td>\n",
       "      <td>Nonhispanic</td>\n",
       "      <td>married</td>\n",
       "    </tr>\n",
       "    <tr>\n",
       "      <th>8</th>\n",
       "      <td>9bf6df85-12db-49d1-b754-b5adcdbb6115</td>\n",
       "      <td>Frederique754 Witting246</td>\n",
       "      <td>male</td>\n",
       "      <td>47 years</td>\n",
       "      <td>358.845.4625</td>\n",
       "      <td>Sharon, MA</td>\n",
       "      <td>White</td>\n",
       "      <td>Nonhispanic</td>\n",
       "      <td>unknown</td>\n",
       "    </tr>\n",
       "    <tr>\n",
       "      <th>9</th>\n",
       "      <td>f72f7612-7acd-4dbd-b736-948a44bb1a36</td>\n",
       "      <td>Mrs. Lavon303 Medhurst137</td>\n",
       "      <td>female</td>\n",
       "      <td>98 years</td>\n",
       "      <td>(963) 376-1584 x17841</td>\n",
       "      <td>Easthampton, MA</td>\n",
       "      <td>Asian</td>\n",
       "      <td>Nonhispanic</td>\n",
       "      <td>married</td>\n",
       "    </tr>\n",
       "  </tbody>\n",
       "</table>\n",
       "</div>"
      ],
      "text/plain": [
       "                             Patient ID                         Name  Gender  \\\n",
       "0  65d12976-9588-4cfa-a795-216302a2ece9     Ms. Conrad130 Stracke702  female   \n",
       "1  a195633e-d36d-4abe-92bb-02994e9cb348    Mrs. Blanca183 Denesik412  female   \n",
       "2  d0ed1873-9ac6-4c98-813e-86a041ce78c5        Mr. Felton828 Bosco90    male   \n",
       "3  2db81051-c02a-4c72-b17d-feb8c49cded7      Madaline694 Gorczany145    male   \n",
       "4  d76cce33-3dec-4874-b352-fa81812517c7       Mrs. Trycia159 Koch741  female   \n",
       "5  aa3973d9-b64f-4a36-8cb6-f2719080b52f  Mr. Ashlynn633 Gleichner469    male   \n",
       "6  80bb41d3-ebb4-42e6-b087-6ee89b0463a9    Mrs. Zachary691 Willms133  female   \n",
       "7  117335bb-33ff-4897-ac27-af4b3f11135f       Mr. Bart857 Schaden124    male   \n",
       "8  9bf6df85-12db-49d1-b754-b5adcdbb6115     Frederique754 Witting246    male   \n",
       "9  f72f7612-7acd-4dbd-b736-948a44bb1a36    Mrs. Lavon303 Medhurst137  female   \n",
       "\n",
       "        Age           Phone Number           Address   Race    Ethnicity  \\\n",
       "0  27 years         (316) 617-5096        Newton, MA  White  Nonhispanic   \n",
       "1  49 years         1-734-978-8625     Stoughton, MA  White  Nonhispanic   \n",
       "2  93 years           707.709.1861        Easton, MA  White  Nonhispanic   \n",
       "3   9 years  (580) 812-0728 x20440  Southborough, MA  White  Nonhispanic   \n",
       "4  76 years    496-882-5625 x30016   Southbridge, MA  Black  Nonhispanic   \n",
       "5  70 years   (779) 283-1133 x7121        Dedham, MA  White  Nonhispanic   \n",
       "6  65 years    493.648.2471 x26272    Shrewsbury, MA  White  Nonhispanic   \n",
       "7  75 years    375-025-8548 x42903     Worcester, MA  White  Nonhispanic   \n",
       "8  47 years           358.845.4625        Sharon, MA  White  Nonhispanic   \n",
       "9  98 years  (963) 376-1584 x17841   Easthampton, MA  Asian  Nonhispanic   \n",
       "\n",
       "  Marital Status  \n",
       "0        unknown  \n",
       "1        married  \n",
       "2        married  \n",
       "3        unknown  \n",
       "4        married  \n",
       "5        married  \n",
       "6        married  \n",
       "7        married  \n",
       "8        unknown  \n",
       "9        married  "
      ]
     },
     "execution_count": 27,
     "metadata": {},
     "output_type": "execute_result"
    }
   ],
   "source": [
    "patient_data = pd.read_csv('./output_csv/patient_data.csv')\n",
    "patient_data.head(10)"
   ]
  },
  {
   "cell_type": "code",
   "execution_count": 28,
   "metadata": {},
   "outputs": [],
   "source": [
    "patient_data['Name'] = patient_data['Name'].apply(lambda name : re.sub(r'\\d+','',name))"
   ]
  },
  {
   "cell_type": "code",
   "execution_count": 29,
   "metadata": {},
   "outputs": [
    {
     "data": {
      "text/html": [
       "<div>\n",
       "<style scoped>\n",
       "    .dataframe tbody tr th:only-of-type {\n",
       "        vertical-align: middle;\n",
       "    }\n",
       "\n",
       "    .dataframe tbody tr th {\n",
       "        vertical-align: top;\n",
       "    }\n",
       "\n",
       "    .dataframe thead th {\n",
       "        text-align: right;\n",
       "    }\n",
       "</style>\n",
       "<table border=\"1\" class=\"dataframe\">\n",
       "  <thead>\n",
       "    <tr style=\"text-align: right;\">\n",
       "      <th></th>\n",
       "      <th>Patient ID</th>\n",
       "      <th>Name</th>\n",
       "      <th>Gender</th>\n",
       "      <th>Age</th>\n",
       "      <th>Phone Number</th>\n",
       "      <th>Address</th>\n",
       "      <th>Race</th>\n",
       "      <th>Ethnicity</th>\n",
       "      <th>Marital Status</th>\n",
       "    </tr>\n",
       "  </thead>\n",
       "  <tbody>\n",
       "    <tr>\n",
       "      <th>0</th>\n",
       "      <td>65d12976-9588-4cfa-a795-216302a2ece9</td>\n",
       "      <td>Ms. Conrad Stracke</td>\n",
       "      <td>female</td>\n",
       "      <td>27 years</td>\n",
       "      <td>(316) 617-5096</td>\n",
       "      <td>Newton, MA</td>\n",
       "      <td>White</td>\n",
       "      <td>Nonhispanic</td>\n",
       "      <td>unknown</td>\n",
       "    </tr>\n",
       "    <tr>\n",
       "      <th>1</th>\n",
       "      <td>a195633e-d36d-4abe-92bb-02994e9cb348</td>\n",
       "      <td>Mrs. Blanca Denesik</td>\n",
       "      <td>female</td>\n",
       "      <td>49 years</td>\n",
       "      <td>1-734-978-8625</td>\n",
       "      <td>Stoughton, MA</td>\n",
       "      <td>White</td>\n",
       "      <td>Nonhispanic</td>\n",
       "      <td>married</td>\n",
       "    </tr>\n",
       "    <tr>\n",
       "      <th>2</th>\n",
       "      <td>d0ed1873-9ac6-4c98-813e-86a041ce78c5</td>\n",
       "      <td>Mr. Felton Bosco</td>\n",
       "      <td>male</td>\n",
       "      <td>93 years</td>\n",
       "      <td>707.709.1861</td>\n",
       "      <td>Easton, MA</td>\n",
       "      <td>White</td>\n",
       "      <td>Nonhispanic</td>\n",
       "      <td>married</td>\n",
       "    </tr>\n",
       "    <tr>\n",
       "      <th>3</th>\n",
       "      <td>2db81051-c02a-4c72-b17d-feb8c49cded7</td>\n",
       "      <td>Madaline Gorczany</td>\n",
       "      <td>male</td>\n",
       "      <td>9 years</td>\n",
       "      <td>(580) 812-0728 x20440</td>\n",
       "      <td>Southborough, MA</td>\n",
       "      <td>White</td>\n",
       "      <td>Nonhispanic</td>\n",
       "      <td>unknown</td>\n",
       "    </tr>\n",
       "    <tr>\n",
       "      <th>4</th>\n",
       "      <td>d76cce33-3dec-4874-b352-fa81812517c7</td>\n",
       "      <td>Mrs. Trycia Koch</td>\n",
       "      <td>female</td>\n",
       "      <td>76 years</td>\n",
       "      <td>496-882-5625 x30016</td>\n",
       "      <td>Southbridge, MA</td>\n",
       "      <td>Black</td>\n",
       "      <td>Nonhispanic</td>\n",
       "      <td>married</td>\n",
       "    </tr>\n",
       "  </tbody>\n",
       "</table>\n",
       "</div>"
      ],
      "text/plain": [
       "                             Patient ID                 Name  Gender  \\\n",
       "0  65d12976-9588-4cfa-a795-216302a2ece9   Ms. Conrad Stracke  female   \n",
       "1  a195633e-d36d-4abe-92bb-02994e9cb348  Mrs. Blanca Denesik  female   \n",
       "2  d0ed1873-9ac6-4c98-813e-86a041ce78c5     Mr. Felton Bosco    male   \n",
       "3  2db81051-c02a-4c72-b17d-feb8c49cded7    Madaline Gorczany    male   \n",
       "4  d76cce33-3dec-4874-b352-fa81812517c7     Mrs. Trycia Koch  female   \n",
       "\n",
       "        Age           Phone Number           Address   Race    Ethnicity  \\\n",
       "0  27 years         (316) 617-5096        Newton, MA  White  Nonhispanic   \n",
       "1  49 years         1-734-978-8625     Stoughton, MA  White  Nonhispanic   \n",
       "2  93 years           707.709.1861        Easton, MA  White  Nonhispanic   \n",
       "3   9 years  (580) 812-0728 x20440  Southborough, MA  White  Nonhispanic   \n",
       "4  76 years    496-882-5625 x30016   Southbridge, MA  Black  Nonhispanic   \n",
       "\n",
       "  Marital Status  \n",
       "0        unknown  \n",
       "1        married  \n",
       "2        married  \n",
       "3        unknown  \n",
       "4        married  "
      ]
     },
     "execution_count": 29,
     "metadata": {},
     "output_type": "execute_result"
    }
   ],
   "source": [
    "patient_data.head()"
   ]
  },
  {
   "cell_type": "code",
   "execution_count": 30,
   "metadata": {},
   "outputs": [
    {
     "data": {
      "text/plain": [
       "array(['Newton, MA', 'Stoughton, MA', 'Easton, MA', 'Southborough, MA',\n",
       "       'Southbridge, MA', 'Dedham, MA', 'Shrewsbury, MA', 'Worcester, MA',\n",
       "       'Sharon, MA', 'Easthampton, MA', 'Lowell, MA', 'Templeton, MA',\n",
       "       'Boston, MA', 'Lynn, MA', 'Springfield, MA', 'Westfield, MA',\n",
       "       'Abington, MA', 'Peabody, MA', 'Brockton, MA', 'Haverhill, MA',\n",
       "       'Malden, MA', 'Leicester, MA', 'Holliston, MA', 'Hudson, MA',\n",
       "       'Brewster, MA', 'Stoneham, MA', 'Hubbardston, MA', 'Andover, MA',\n",
       "       'Methuen, MA', 'Acton, MA', 'Northampton, MA'], dtype=object)"
      ]
     },
     "execution_count": 30,
     "metadata": {},
     "output_type": "execute_result"
    }
   ],
   "source": [
    "patient_data['Address'].unique()"
   ]
  },
  {
   "cell_type": "code",
   "execution_count": 31,
   "metadata": {},
   "outputs": [
    {
     "data": {
      "text/plain": [
       "array(['(316) 617-5096', '1-734-978-8625', '707.709.1861',\n",
       "       '(580) 812-0728 x20440', '496-882-5625 x30016',\n",
       "       '(779) 283-1133 x7121', '493.648.2471 x26272',\n",
       "       '375-025-8548 x42903', '358.845.4625', '(963) 376-1584 x17841',\n",
       "       '682-907-8225 x71601', '456-050-1930 x9499', '(223) 369-1024',\n",
       "       '1-109-767-6386 x585', '616-811-8945', '940.129.3889 x903',\n",
       "       '(392) 129-8441', '533.091.9937', '506.111.6833',\n",
       "       '(509) 809-9798 x03337', '(382) 333-7091 x51246',\n",
       "       '195.230.2003 x9892', '(619) 737-6908', '742.429.3479',\n",
       "       '(386) 001-8200 x5002', '1-309-534-9052', '1-569-036-1912 x83432',\n",
       "       '(984) 384-1363 x31838', '653.189.9071 x849',\n",
       "       '564.380.6900 x16552', '891.889.5056', '(485) 116-7599',\n",
       "       '(575) 621-7064 x1127', '680-431-1926 x154', '(608) 524-4834',\n",
       "       '(446) 912-8743 x8502', '936-012-7686 x01564', '237.167.0269 x694',\n",
       "       '697-104-6654'], dtype=object)"
      ]
     },
     "execution_count": 31,
     "metadata": {},
     "output_type": "execute_result"
    }
   ],
   "source": [
    "patient_data['Phone Number'].unique()"
   ]
  },
  {
   "cell_type": "code",
   "execution_count": 32,
   "metadata": {},
   "outputs": [
    {
     "data": {
      "text/html": [
       "<div>\n",
       "<style scoped>\n",
       "    .dataframe tbody tr th:only-of-type {\n",
       "        vertical-align: middle;\n",
       "    }\n",
       "\n",
       "    .dataframe tbody tr th {\n",
       "        vertical-align: top;\n",
       "    }\n",
       "\n",
       "    .dataframe thead th {\n",
       "        text-align: right;\n",
       "    }\n",
       "</style>\n",
       "<table border=\"1\" class=\"dataframe\">\n",
       "  <thead>\n",
       "    <tr style=\"text-align: right;\">\n",
       "      <th></th>\n",
       "      <th>Patient ID</th>\n",
       "      <th>Name</th>\n",
       "      <th>Gender</th>\n",
       "      <th>Age</th>\n",
       "      <th>Phone Number</th>\n",
       "      <th>Address</th>\n",
       "      <th>Race</th>\n",
       "      <th>Ethnicity</th>\n",
       "      <th>Marital Status</th>\n",
       "    </tr>\n",
       "  </thead>\n",
       "  <tbody>\n",
       "    <tr>\n",
       "      <th>1</th>\n",
       "      <td>a195633e-d36d-4abe-92bb-02994e9cb348</td>\n",
       "      <td>Mrs. Blanca Denesik</td>\n",
       "      <td>female</td>\n",
       "      <td>49 years</td>\n",
       "      <td>1-734-978-8625</td>\n",
       "      <td>Stoughton, MA</td>\n",
       "      <td>White</td>\n",
       "      <td>Nonhispanic</td>\n",
       "      <td>married</td>\n",
       "    </tr>\n",
       "    <tr>\n",
       "      <th>13</th>\n",
       "      <td>8b47143f-2d3b-4425-a872-569af4ec0818</td>\n",
       "      <td>Mrs. Tremaine Dicki</td>\n",
       "      <td>female</td>\n",
       "      <td>44 years</td>\n",
       "      <td>1-109-767-6386 x585</td>\n",
       "      <td>Boston, MA</td>\n",
       "      <td>White</td>\n",
       "      <td>Nonhispanic</td>\n",
       "      <td>married</td>\n",
       "    </tr>\n",
       "    <tr>\n",
       "      <th>25</th>\n",
       "      <td>3a268300-21fb-4ef0-b794-02aa0e5a7e5f</td>\n",
       "      <td>Mrs. Robbie Kling</td>\n",
       "      <td>female</td>\n",
       "      <td>95 years</td>\n",
       "      <td>1-309-534-9052</td>\n",
       "      <td>Leicester, MA</td>\n",
       "      <td>White</td>\n",
       "      <td>Nonhispanic</td>\n",
       "      <td>married</td>\n",
       "    </tr>\n",
       "    <tr>\n",
       "      <th>26</th>\n",
       "      <td>509474a0-baf3-48f2-a595-67b6e2b34c87</td>\n",
       "      <td>Mr. Tess DuBuque</td>\n",
       "      <td>male</td>\n",
       "      <td>33 years</td>\n",
       "      <td>1-569-036-1912 x83432</td>\n",
       "      <td>Boston, MA</td>\n",
       "      <td>Other</td>\n",
       "      <td>Puerto_rican</td>\n",
       "      <td>unknown</td>\n",
       "    </tr>\n",
       "  </tbody>\n",
       "</table>\n",
       "</div>"
      ],
      "text/plain": [
       "                              Patient ID                 Name  Gender  \\\n",
       "1   a195633e-d36d-4abe-92bb-02994e9cb348  Mrs. Blanca Denesik  female   \n",
       "13  8b47143f-2d3b-4425-a872-569af4ec0818  Mrs. Tremaine Dicki  female   \n",
       "25  3a268300-21fb-4ef0-b794-02aa0e5a7e5f    Mrs. Robbie Kling  female   \n",
       "26  509474a0-baf3-48f2-a595-67b6e2b34c87     Mr. Tess DuBuque    male   \n",
       "\n",
       "         Age           Phone Number        Address   Race     Ethnicity  \\\n",
       "1   49 years         1-734-978-8625  Stoughton, MA  White   Nonhispanic   \n",
       "13  44 years    1-109-767-6386 x585     Boston, MA  White   Nonhispanic   \n",
       "25  95 years         1-309-534-9052  Leicester, MA  White   Nonhispanic   \n",
       "26  33 years  1-569-036-1912 x83432     Boston, MA  Other  Puerto_rican   \n",
       "\n",
       "   Marital Status  \n",
       "1         married  \n",
       "13        married  \n",
       "25        married  \n",
       "26        unknown  "
      ]
     },
     "execution_count": 32,
     "metadata": {},
     "output_type": "execute_result"
    }
   ],
   "source": [
    "patient_data[patient_data['Phone Number'].str.startswith('1-')]"
   ]
  },
  {
   "cell_type": "code",
   "execution_count": 33,
   "metadata": {},
   "outputs": [],
   "source": [
    "def format_phone_number(phone_number:str):\n",
    "    if phone_number.startswith('1-'):\n",
    "        if 'x' in phone_number:\n",
    "            main_number,extension = phone_number.split('x')\n",
    "            digits = re.sub(r'\\D','',main_number)\n",
    "            formatted_number = f'{digits[:1]}-{digits[1:4]}-{digits[4:7]}-{digits[7:]} x{extension}'\n",
    "            return formatted_number\n",
    "        \n",
    "        digits = re.sub(r'\\D','',phone_number)\n",
    "        formatted_number = f'{digits[:1]}-{digits[1:4]}-{digits[4:7]}-{digits[7:]}'\n",
    "        return formatted_number\n",
    "\n",
    "    if 'x' in phone_number:\n",
    "        main_number,extension = phone_number.split('x')\n",
    "        digits = re.sub(r'\\D','',main_number)\n",
    "        formatted_number = f'{digits[:3]}-{digits[3:6]}-{digits[6:]} x{extension}'\n",
    "        return formatted_number\n",
    "    \n",
    "    digits = re.sub(r'\\D','',phone_number)\n",
    "    formatted_number = f'{digits[:3]}-{digits[3:6]}-{digits[6:]}'\n",
    "    return formatted_number"
   ]
  },
  {
   "cell_type": "code",
   "execution_count": 34,
   "metadata": {},
   "outputs": [],
   "source": [
    "patient_data['Phone Number'] = patient_data['Phone Number'].apply(format_phone_number)"
   ]
  },
  {
   "cell_type": "code",
   "execution_count": 35,
   "metadata": {},
   "outputs": [
    {
     "data": {
      "text/html": [
       "<div>\n",
       "<style scoped>\n",
       "    .dataframe tbody tr th:only-of-type {\n",
       "        vertical-align: middle;\n",
       "    }\n",
       "\n",
       "    .dataframe tbody tr th {\n",
       "        vertical-align: top;\n",
       "    }\n",
       "\n",
       "    .dataframe thead th {\n",
       "        text-align: right;\n",
       "    }\n",
       "</style>\n",
       "<table border=\"1\" class=\"dataframe\">\n",
       "  <thead>\n",
       "    <tr style=\"text-align: right;\">\n",
       "      <th></th>\n",
       "      <th>Patient ID</th>\n",
       "      <th>Name</th>\n",
       "      <th>Gender</th>\n",
       "      <th>Age</th>\n",
       "      <th>Phone Number</th>\n",
       "      <th>Address</th>\n",
       "      <th>Race</th>\n",
       "      <th>Ethnicity</th>\n",
       "      <th>Marital Status</th>\n",
       "    </tr>\n",
       "  </thead>\n",
       "  <tbody>\n",
       "    <tr>\n",
       "      <th>0</th>\n",
       "      <td>65d12976-9588-4cfa-a795-216302a2ece9</td>\n",
       "      <td>Ms. Conrad Stracke</td>\n",
       "      <td>female</td>\n",
       "      <td>27 years</td>\n",
       "      <td>316-617-5096</td>\n",
       "      <td>Newton, MA</td>\n",
       "      <td>White</td>\n",
       "      <td>Nonhispanic</td>\n",
       "      <td>unknown</td>\n",
       "    </tr>\n",
       "    <tr>\n",
       "      <th>1</th>\n",
       "      <td>a195633e-d36d-4abe-92bb-02994e9cb348</td>\n",
       "      <td>Mrs. Blanca Denesik</td>\n",
       "      <td>female</td>\n",
       "      <td>49 years</td>\n",
       "      <td>1-734-978-8625</td>\n",
       "      <td>Stoughton, MA</td>\n",
       "      <td>White</td>\n",
       "      <td>Nonhispanic</td>\n",
       "      <td>married</td>\n",
       "    </tr>\n",
       "    <tr>\n",
       "      <th>2</th>\n",
       "      <td>d0ed1873-9ac6-4c98-813e-86a041ce78c5</td>\n",
       "      <td>Mr. Felton Bosco</td>\n",
       "      <td>male</td>\n",
       "      <td>93 years</td>\n",
       "      <td>707-709-1861</td>\n",
       "      <td>Easton, MA</td>\n",
       "      <td>White</td>\n",
       "      <td>Nonhispanic</td>\n",
       "      <td>married</td>\n",
       "    </tr>\n",
       "    <tr>\n",
       "      <th>3</th>\n",
       "      <td>2db81051-c02a-4c72-b17d-feb8c49cded7</td>\n",
       "      <td>Madaline Gorczany</td>\n",
       "      <td>male</td>\n",
       "      <td>9 years</td>\n",
       "      <td>580-812-0728 x20440</td>\n",
       "      <td>Southborough, MA</td>\n",
       "      <td>White</td>\n",
       "      <td>Nonhispanic</td>\n",
       "      <td>unknown</td>\n",
       "    </tr>\n",
       "    <tr>\n",
       "      <th>4</th>\n",
       "      <td>d76cce33-3dec-4874-b352-fa81812517c7</td>\n",
       "      <td>Mrs. Trycia Koch</td>\n",
       "      <td>female</td>\n",
       "      <td>76 years</td>\n",
       "      <td>496-882-5625 x30016</td>\n",
       "      <td>Southbridge, MA</td>\n",
       "      <td>Black</td>\n",
       "      <td>Nonhispanic</td>\n",
       "      <td>married</td>\n",
       "    </tr>\n",
       "    <tr>\n",
       "      <th>5</th>\n",
       "      <td>aa3973d9-b64f-4a36-8cb6-f2719080b52f</td>\n",
       "      <td>Mr. Ashlynn Gleichner</td>\n",
       "      <td>male</td>\n",
       "      <td>70 years</td>\n",
       "      <td>779-283-1133 x7121</td>\n",
       "      <td>Dedham, MA</td>\n",
       "      <td>White</td>\n",
       "      <td>Nonhispanic</td>\n",
       "      <td>married</td>\n",
       "    </tr>\n",
       "    <tr>\n",
       "      <th>6</th>\n",
       "      <td>80bb41d3-ebb4-42e6-b087-6ee89b0463a9</td>\n",
       "      <td>Mrs. Zachary Willms</td>\n",
       "      <td>female</td>\n",
       "      <td>65 years</td>\n",
       "      <td>493-648-2471 x26272</td>\n",
       "      <td>Shrewsbury, MA</td>\n",
       "      <td>White</td>\n",
       "      <td>Nonhispanic</td>\n",
       "      <td>married</td>\n",
       "    </tr>\n",
       "    <tr>\n",
       "      <th>7</th>\n",
       "      <td>117335bb-33ff-4897-ac27-af4b3f11135f</td>\n",
       "      <td>Mr. Bart Schaden</td>\n",
       "      <td>male</td>\n",
       "      <td>75 years</td>\n",
       "      <td>375-025-8548 x42903</td>\n",
       "      <td>Worcester, MA</td>\n",
       "      <td>White</td>\n",
       "      <td>Nonhispanic</td>\n",
       "      <td>married</td>\n",
       "    </tr>\n",
       "    <tr>\n",
       "      <th>8</th>\n",
       "      <td>9bf6df85-12db-49d1-b754-b5adcdbb6115</td>\n",
       "      <td>Frederique Witting</td>\n",
       "      <td>male</td>\n",
       "      <td>47 years</td>\n",
       "      <td>358-845-4625</td>\n",
       "      <td>Sharon, MA</td>\n",
       "      <td>White</td>\n",
       "      <td>Nonhispanic</td>\n",
       "      <td>unknown</td>\n",
       "    </tr>\n",
       "    <tr>\n",
       "      <th>9</th>\n",
       "      <td>f72f7612-7acd-4dbd-b736-948a44bb1a36</td>\n",
       "      <td>Mrs. Lavon Medhurst</td>\n",
       "      <td>female</td>\n",
       "      <td>98 years</td>\n",
       "      <td>963-376-1584 x17841</td>\n",
       "      <td>Easthampton, MA</td>\n",
       "      <td>Asian</td>\n",
       "      <td>Nonhispanic</td>\n",
       "      <td>married</td>\n",
       "    </tr>\n",
       "    <tr>\n",
       "      <th>10</th>\n",
       "      <td>3a5357d9-13f3-42de-8fdc-14a1a6cae148</td>\n",
       "      <td>Mr. Elouise Dooley</td>\n",
       "      <td>male</td>\n",
       "      <td>84 years</td>\n",
       "      <td>682-907-8225 x71601</td>\n",
       "      <td>Lowell, MA</td>\n",
       "      <td>White</td>\n",
       "      <td>Nonhispanic</td>\n",
       "      <td>married</td>\n",
       "    </tr>\n",
       "    <tr>\n",
       "      <th>11</th>\n",
       "      <td>2f3f9a7e-8142-40c8-8c4a-b58bc815b48d</td>\n",
       "      <td>Quincy Treutel</td>\n",
       "      <td>female</td>\n",
       "      <td>16 years</td>\n",
       "      <td>456-050-1930 x9499</td>\n",
       "      <td>Worcester, MA</td>\n",
       "      <td>White</td>\n",
       "      <td>Nonhispanic</td>\n",
       "      <td>unknown</td>\n",
       "    </tr>\n",
       "    <tr>\n",
       "      <th>12</th>\n",
       "      <td>ffb90781-eea4-4635-aeb5-790c0b67bb4a</td>\n",
       "      <td>Mrs. Emelia Ferry</td>\n",
       "      <td>female</td>\n",
       "      <td>116 years</td>\n",
       "      <td>223-369-1024</td>\n",
       "      <td>Templeton, MA</td>\n",
       "      <td>White</td>\n",
       "      <td>Nonhispanic</td>\n",
       "      <td>married</td>\n",
       "    </tr>\n",
       "    <tr>\n",
       "      <th>13</th>\n",
       "      <td>8b47143f-2d3b-4425-a872-569af4ec0818</td>\n",
       "      <td>Mrs. Tremaine Dicki</td>\n",
       "      <td>female</td>\n",
       "      <td>44 years</td>\n",
       "      <td>1-109-767-6386 x585</td>\n",
       "      <td>Boston, MA</td>\n",
       "      <td>White</td>\n",
       "      <td>Nonhispanic</td>\n",
       "      <td>married</td>\n",
       "    </tr>\n",
       "    <tr>\n",
       "      <th>14</th>\n",
       "      <td>83044f55-e41f-4489-a0b8-f69bd6c7b1d4</td>\n",
       "      <td>Mrs. Waylon Wunsch</td>\n",
       "      <td>female</td>\n",
       "      <td>37 years</td>\n",
       "      <td>616-811-8945</td>\n",
       "      <td>Lynn, MA</td>\n",
       "      <td>Other</td>\n",
       "      <td>Puerto_rican</td>\n",
       "      <td>married</td>\n",
       "    </tr>\n",
       "    <tr>\n",
       "      <th>15</th>\n",
       "      <td>5265a2b0-1bbc-4993-9042-b8d86ba65f10</td>\n",
       "      <td>Mrs. Berneice Kshlerin</td>\n",
       "      <td>female</td>\n",
       "      <td>69 years</td>\n",
       "      <td>940-129-3889 x903</td>\n",
       "      <td>Springfield, MA</td>\n",
       "      <td>White</td>\n",
       "      <td>Nonhispanic</td>\n",
       "      <td>married</td>\n",
       "    </tr>\n",
       "    <tr>\n",
       "      <th>16</th>\n",
       "      <td>99937389-654f-4a48-8e74-ac81cf260e0f</td>\n",
       "      <td>Mr. Lexi Swift</td>\n",
       "      <td>male</td>\n",
       "      <td>42 years</td>\n",
       "      <td>392-129-8441</td>\n",
       "      <td>Westfield, MA</td>\n",
       "      <td>White</td>\n",
       "      <td>Nonhispanic</td>\n",
       "      <td>single</td>\n",
       "    </tr>\n",
       "    <tr>\n",
       "      <th>17</th>\n",
       "      <td>c92cad20-6dd1-4e22-b3d9-6f0507854a96</td>\n",
       "      <td>Mrs. Jada Gerhold</td>\n",
       "      <td>female</td>\n",
       "      <td>62 years</td>\n",
       "      <td>533-091-9937</td>\n",
       "      <td>Abington, MA</td>\n",
       "      <td>White</td>\n",
       "      <td>Nonhispanic</td>\n",
       "      <td>married</td>\n",
       "    </tr>\n",
       "    <tr>\n",
       "      <th>18</th>\n",
       "      <td>bd0acd69-580e-4896-9974-2ad9d041ca0b</td>\n",
       "      <td>Mrs. Lavina Lemke</td>\n",
       "      <td>female</td>\n",
       "      <td>103 years</td>\n",
       "      <td>506-111-6833</td>\n",
       "      <td>Worcester, MA</td>\n",
       "      <td>White</td>\n",
       "      <td>Nonhispanic</td>\n",
       "      <td>married</td>\n",
       "    </tr>\n",
       "    <tr>\n",
       "      <th>19</th>\n",
       "      <td>f10fd607-58ce-4be6-b1bd-a98898c8e0e5</td>\n",
       "      <td>Mrs. Victor Kuphal</td>\n",
       "      <td>female</td>\n",
       "      <td>89 years</td>\n",
       "      <td>509-809-9798 x03337</td>\n",
       "      <td>Peabody, MA</td>\n",
       "      <td>White</td>\n",
       "      <td>Nonhispanic</td>\n",
       "      <td>married</td>\n",
       "    </tr>\n",
       "    <tr>\n",
       "      <th>20</th>\n",
       "      <td>32c72cdb-66bf-4301-895e-16da54ffd72d</td>\n",
       "      <td>Ms. Kennith Morar</td>\n",
       "      <td>female</td>\n",
       "      <td>34 years</td>\n",
       "      <td>382-333-7091 x51246</td>\n",
       "      <td>Newton, MA</td>\n",
       "      <td>White</td>\n",
       "      <td>Nonhispanic</td>\n",
       "      <td>unknown</td>\n",
       "    </tr>\n",
       "    <tr>\n",
       "      <th>21</th>\n",
       "      <td>aeb76067-0f32-40a2-a29d-dfe7c4ab6638</td>\n",
       "      <td>Ms. Frederick Gulgowski</td>\n",
       "      <td>female</td>\n",
       "      <td>32 years</td>\n",
       "      <td>195-230-2003 x9892</td>\n",
       "      <td>Brockton, MA</td>\n",
       "      <td>Black</td>\n",
       "      <td>Nonhispanic</td>\n",
       "      <td>unknown</td>\n",
       "    </tr>\n",
       "    <tr>\n",
       "      <th>22</th>\n",
       "      <td>cb13a48a-0dea-40c9-8eeb-8e275e101e5d</td>\n",
       "      <td>Mr. Viviane Kunde</td>\n",
       "      <td>male</td>\n",
       "      <td>53 years</td>\n",
       "      <td>619-737-6908</td>\n",
       "      <td>Haverhill, MA</td>\n",
       "      <td>Other</td>\n",
       "      <td>Puerto_rican</td>\n",
       "      <td>married</td>\n",
       "    </tr>\n",
       "    <tr>\n",
       "      <th>23</th>\n",
       "      <td>c71d235f-9b58-4106-b744-c554da5e13fa</td>\n",
       "      <td>Mr. Sylvia Reilly</td>\n",
       "      <td>male</td>\n",
       "      <td>86 years</td>\n",
       "      <td>742-429-3479</td>\n",
       "      <td>Malden, MA</td>\n",
       "      <td>White</td>\n",
       "      <td>Nonhispanic</td>\n",
       "      <td>married</td>\n",
       "    </tr>\n",
       "    <tr>\n",
       "      <th>24</th>\n",
       "      <td>a0dcd747-1d40-40fd-8e42-1f9395f034ca</td>\n",
       "      <td>Ms. Evan Klocko</td>\n",
       "      <td>female</td>\n",
       "      <td>80 years</td>\n",
       "      <td>386-001-8200 x5002</td>\n",
       "      <td>Lynn, MA</td>\n",
       "      <td>White</td>\n",
       "      <td>Nonhispanic</td>\n",
       "      <td>single</td>\n",
       "    </tr>\n",
       "    <tr>\n",
       "      <th>25</th>\n",
       "      <td>3a268300-21fb-4ef0-b794-02aa0e5a7e5f</td>\n",
       "      <td>Mrs. Robbie Kling</td>\n",
       "      <td>female</td>\n",
       "      <td>95 years</td>\n",
       "      <td>1-309-534-9052</td>\n",
       "      <td>Leicester, MA</td>\n",
       "      <td>White</td>\n",
       "      <td>Nonhispanic</td>\n",
       "      <td>married</td>\n",
       "    </tr>\n",
       "    <tr>\n",
       "      <th>26</th>\n",
       "      <td>509474a0-baf3-48f2-a595-67b6e2b34c87</td>\n",
       "      <td>Mr. Tess DuBuque</td>\n",
       "      <td>male</td>\n",
       "      <td>33 years</td>\n",
       "      <td>1-569-036-1912 x83432</td>\n",
       "      <td>Boston, MA</td>\n",
       "      <td>Other</td>\n",
       "      <td>Puerto_rican</td>\n",
       "      <td>unknown</td>\n",
       "    </tr>\n",
       "    <tr>\n",
       "      <th>27</th>\n",
       "      <td>65dfe191-c7ef-4148-8f12-49f832525d4c</td>\n",
       "      <td>Destinee Welch</td>\n",
       "      <td>female</td>\n",
       "      <td>11 years</td>\n",
       "      <td>984-384-1363 x31838</td>\n",
       "      <td>Holliston, MA</td>\n",
       "      <td>White</td>\n",
       "      <td>Nonhispanic</td>\n",
       "      <td>unknown</td>\n",
       "    </tr>\n",
       "    <tr>\n",
       "      <th>28</th>\n",
       "      <td>1694897b-912e-401f-a135-aa59857a401e</td>\n",
       "      <td>Julien Barrows</td>\n",
       "      <td>male</td>\n",
       "      <td>17 years</td>\n",
       "      <td>653-189-9071 x849</td>\n",
       "      <td>Hudson, MA</td>\n",
       "      <td>White</td>\n",
       "      <td>Nonhispanic</td>\n",
       "      <td>unknown</td>\n",
       "    </tr>\n",
       "    <tr>\n",
       "      <th>29</th>\n",
       "      <td>21e19329-b572-414b-9cd1-ecf96af4f568</td>\n",
       "      <td>Mrs. Mekhi Flatley</td>\n",
       "      <td>female</td>\n",
       "      <td>77 years</td>\n",
       "      <td>564-380-6900 x16552</td>\n",
       "      <td>Brewster, MA</td>\n",
       "      <td>White</td>\n",
       "      <td>Nonhispanic</td>\n",
       "      <td>married</td>\n",
       "    </tr>\n",
       "    <tr>\n",
       "      <th>30</th>\n",
       "      <td>ddd6fcc5-4a60-450d-a55c-927113ec312e</td>\n",
       "      <td>Mrs. Casimer Hyatt</td>\n",
       "      <td>female</td>\n",
       "      <td>36 years</td>\n",
       "      <td>891-889-5056</td>\n",
       "      <td>Stoneham, MA</td>\n",
       "      <td>White</td>\n",
       "      <td>Nonhispanic</td>\n",
       "      <td>married</td>\n",
       "    </tr>\n",
       "    <tr>\n",
       "      <th>31</th>\n",
       "      <td>2c96b52c-5771-4563-a8a5-ef209924d5b2</td>\n",
       "      <td>Mrs. Jaydon Langworth</td>\n",
       "      <td>female</td>\n",
       "      <td>81 years</td>\n",
       "      <td>485-116-7599</td>\n",
       "      <td>Brockton, MA</td>\n",
       "      <td>White</td>\n",
       "      <td>Nonhispanic</td>\n",
       "      <td>married</td>\n",
       "    </tr>\n",
       "    <tr>\n",
       "      <th>32</th>\n",
       "      <td>95ad0405-ec9e-4464-a708-750296dc1548</td>\n",
       "      <td>Mrs. Estell Hodkiewicz</td>\n",
       "      <td>female</td>\n",
       "      <td>41 years</td>\n",
       "      <td>575-621-7064 x1127</td>\n",
       "      <td>Hubbardston, MA</td>\n",
       "      <td>White</td>\n",
       "      <td>Nonhispanic</td>\n",
       "      <td>married</td>\n",
       "    </tr>\n",
       "    <tr>\n",
       "      <th>33</th>\n",
       "      <td>7384d82c-2d1e-4595-99e4-f0ae962dddf1</td>\n",
       "      <td>Vincenza Crooks</td>\n",
       "      <td>male</td>\n",
       "      <td>18 years</td>\n",
       "      <td>680-431-1926 x154</td>\n",
       "      <td>Lowell, MA</td>\n",
       "      <td>White</td>\n",
       "      <td>Nonhispanic</td>\n",
       "      <td>unknown</td>\n",
       "    </tr>\n",
       "    <tr>\n",
       "      <th>34</th>\n",
       "      <td>bb357dc7-2f8a-444e-ba57-8291b6f18bf0</td>\n",
       "      <td>Ms. Sunny Pouros</td>\n",
       "      <td>female</td>\n",
       "      <td>71 years</td>\n",
       "      <td>608-524-4834</td>\n",
       "      <td>Andover, MA</td>\n",
       "      <td>White</td>\n",
       "      <td>Nonhispanic</td>\n",
       "      <td>single</td>\n",
       "    </tr>\n",
       "    <tr>\n",
       "      <th>35</th>\n",
       "      <td>1bd855fa-45c4-4c23-a608-fdeeb3bc2d8b</td>\n",
       "      <td>Mr. Mario Gulgowski</td>\n",
       "      <td>male</td>\n",
       "      <td>92 years</td>\n",
       "      <td>446-912-8743 x8502</td>\n",
       "      <td>Lynn, MA</td>\n",
       "      <td>Other</td>\n",
       "      <td>Puerto_rican</td>\n",
       "      <td>married</td>\n",
       "    </tr>\n",
       "    <tr>\n",
       "      <th>36</th>\n",
       "      <td>00d869e2-6793-4ebf-9340-38bf18d223c4</td>\n",
       "      <td>Ms. Melisa Gerhold</td>\n",
       "      <td>female</td>\n",
       "      <td>31 years</td>\n",
       "      <td>936-012-7686 x01564</td>\n",
       "      <td>Methuen, MA</td>\n",
       "      <td>White</td>\n",
       "      <td>Nonhispanic</td>\n",
       "      <td>unknown</td>\n",
       "    </tr>\n",
       "    <tr>\n",
       "      <th>37</th>\n",
       "      <td>a5399e95-981c-4a78-8019-873662fc7901</td>\n",
       "      <td>Mr. Jeanne Carter</td>\n",
       "      <td>male</td>\n",
       "      <td>46 years</td>\n",
       "      <td>237-167-0269 x694</td>\n",
       "      <td>Acton, MA</td>\n",
       "      <td>White</td>\n",
       "      <td>Nonhispanic</td>\n",
       "      <td>single</td>\n",
       "    </tr>\n",
       "    <tr>\n",
       "      <th>38</th>\n",
       "      <td>1b9a49ca-2cd4-492b-b040-dbb82a3348ab</td>\n",
       "      <td>Mr. Noe Rempel</td>\n",
       "      <td>male</td>\n",
       "      <td>114 years</td>\n",
       "      <td>697-104-6654</td>\n",
       "      <td>Northampton, MA</td>\n",
       "      <td>White</td>\n",
       "      <td>Nonhispanic</td>\n",
       "      <td>married</td>\n",
       "    </tr>\n",
       "  </tbody>\n",
       "</table>\n",
       "</div>"
      ],
      "text/plain": [
       "                              Patient ID                     Name  Gender  \\\n",
       "0   65d12976-9588-4cfa-a795-216302a2ece9       Ms. Conrad Stracke  female   \n",
       "1   a195633e-d36d-4abe-92bb-02994e9cb348      Mrs. Blanca Denesik  female   \n",
       "2   d0ed1873-9ac6-4c98-813e-86a041ce78c5         Mr. Felton Bosco    male   \n",
       "3   2db81051-c02a-4c72-b17d-feb8c49cded7        Madaline Gorczany    male   \n",
       "4   d76cce33-3dec-4874-b352-fa81812517c7         Mrs. Trycia Koch  female   \n",
       "5   aa3973d9-b64f-4a36-8cb6-f2719080b52f    Mr. Ashlynn Gleichner    male   \n",
       "6   80bb41d3-ebb4-42e6-b087-6ee89b0463a9      Mrs. Zachary Willms  female   \n",
       "7   117335bb-33ff-4897-ac27-af4b3f11135f         Mr. Bart Schaden    male   \n",
       "8   9bf6df85-12db-49d1-b754-b5adcdbb6115       Frederique Witting    male   \n",
       "9   f72f7612-7acd-4dbd-b736-948a44bb1a36      Mrs. Lavon Medhurst  female   \n",
       "10  3a5357d9-13f3-42de-8fdc-14a1a6cae148       Mr. Elouise Dooley    male   \n",
       "11  2f3f9a7e-8142-40c8-8c4a-b58bc815b48d           Quincy Treutel  female   \n",
       "12  ffb90781-eea4-4635-aeb5-790c0b67bb4a        Mrs. Emelia Ferry  female   \n",
       "13  8b47143f-2d3b-4425-a872-569af4ec0818      Mrs. Tremaine Dicki  female   \n",
       "14  83044f55-e41f-4489-a0b8-f69bd6c7b1d4       Mrs. Waylon Wunsch  female   \n",
       "15  5265a2b0-1bbc-4993-9042-b8d86ba65f10   Mrs. Berneice Kshlerin  female   \n",
       "16  99937389-654f-4a48-8e74-ac81cf260e0f           Mr. Lexi Swift    male   \n",
       "17  c92cad20-6dd1-4e22-b3d9-6f0507854a96        Mrs. Jada Gerhold  female   \n",
       "18  bd0acd69-580e-4896-9974-2ad9d041ca0b        Mrs. Lavina Lemke  female   \n",
       "19  f10fd607-58ce-4be6-b1bd-a98898c8e0e5       Mrs. Victor Kuphal  female   \n",
       "20  32c72cdb-66bf-4301-895e-16da54ffd72d        Ms. Kennith Morar  female   \n",
       "21  aeb76067-0f32-40a2-a29d-dfe7c4ab6638  Ms. Frederick Gulgowski  female   \n",
       "22  cb13a48a-0dea-40c9-8eeb-8e275e101e5d        Mr. Viviane Kunde    male   \n",
       "23  c71d235f-9b58-4106-b744-c554da5e13fa        Mr. Sylvia Reilly    male   \n",
       "24  a0dcd747-1d40-40fd-8e42-1f9395f034ca          Ms. Evan Klocko  female   \n",
       "25  3a268300-21fb-4ef0-b794-02aa0e5a7e5f        Mrs. Robbie Kling  female   \n",
       "26  509474a0-baf3-48f2-a595-67b6e2b34c87         Mr. Tess DuBuque    male   \n",
       "27  65dfe191-c7ef-4148-8f12-49f832525d4c           Destinee Welch  female   \n",
       "28  1694897b-912e-401f-a135-aa59857a401e           Julien Barrows    male   \n",
       "29  21e19329-b572-414b-9cd1-ecf96af4f568       Mrs. Mekhi Flatley  female   \n",
       "30  ddd6fcc5-4a60-450d-a55c-927113ec312e       Mrs. Casimer Hyatt  female   \n",
       "31  2c96b52c-5771-4563-a8a5-ef209924d5b2    Mrs. Jaydon Langworth  female   \n",
       "32  95ad0405-ec9e-4464-a708-750296dc1548   Mrs. Estell Hodkiewicz  female   \n",
       "33  7384d82c-2d1e-4595-99e4-f0ae962dddf1          Vincenza Crooks    male   \n",
       "34  bb357dc7-2f8a-444e-ba57-8291b6f18bf0         Ms. Sunny Pouros  female   \n",
       "35  1bd855fa-45c4-4c23-a608-fdeeb3bc2d8b      Mr. Mario Gulgowski    male   \n",
       "36  00d869e2-6793-4ebf-9340-38bf18d223c4       Ms. Melisa Gerhold  female   \n",
       "37  a5399e95-981c-4a78-8019-873662fc7901        Mr. Jeanne Carter    male   \n",
       "38  1b9a49ca-2cd4-492b-b040-dbb82a3348ab           Mr. Noe Rempel    male   \n",
       "\n",
       "          Age           Phone Number           Address   Race     Ethnicity  \\\n",
       "0    27 years           316-617-5096        Newton, MA  White   Nonhispanic   \n",
       "1    49 years         1-734-978-8625     Stoughton, MA  White   Nonhispanic   \n",
       "2    93 years           707-709-1861        Easton, MA  White   Nonhispanic   \n",
       "3     9 years    580-812-0728 x20440  Southborough, MA  White   Nonhispanic   \n",
       "4    76 years    496-882-5625 x30016   Southbridge, MA  Black   Nonhispanic   \n",
       "5    70 years     779-283-1133 x7121        Dedham, MA  White   Nonhispanic   \n",
       "6    65 years    493-648-2471 x26272    Shrewsbury, MA  White   Nonhispanic   \n",
       "7    75 years    375-025-8548 x42903     Worcester, MA  White   Nonhispanic   \n",
       "8    47 years           358-845-4625        Sharon, MA  White   Nonhispanic   \n",
       "9    98 years    963-376-1584 x17841   Easthampton, MA  Asian   Nonhispanic   \n",
       "10   84 years    682-907-8225 x71601        Lowell, MA  White   Nonhispanic   \n",
       "11   16 years     456-050-1930 x9499     Worcester, MA  White   Nonhispanic   \n",
       "12  116 years           223-369-1024     Templeton, MA  White   Nonhispanic   \n",
       "13   44 years    1-109-767-6386 x585        Boston, MA  White   Nonhispanic   \n",
       "14   37 years           616-811-8945          Lynn, MA  Other  Puerto_rican   \n",
       "15   69 years      940-129-3889 x903   Springfield, MA  White   Nonhispanic   \n",
       "16   42 years           392-129-8441     Westfield, MA  White   Nonhispanic   \n",
       "17   62 years           533-091-9937      Abington, MA  White   Nonhispanic   \n",
       "18  103 years           506-111-6833     Worcester, MA  White   Nonhispanic   \n",
       "19   89 years    509-809-9798 x03337       Peabody, MA  White   Nonhispanic   \n",
       "20   34 years    382-333-7091 x51246        Newton, MA  White   Nonhispanic   \n",
       "21   32 years     195-230-2003 x9892      Brockton, MA  Black   Nonhispanic   \n",
       "22   53 years           619-737-6908     Haverhill, MA  Other  Puerto_rican   \n",
       "23   86 years           742-429-3479        Malden, MA  White   Nonhispanic   \n",
       "24   80 years     386-001-8200 x5002          Lynn, MA  White   Nonhispanic   \n",
       "25   95 years         1-309-534-9052     Leicester, MA  White   Nonhispanic   \n",
       "26   33 years  1-569-036-1912 x83432        Boston, MA  Other  Puerto_rican   \n",
       "27   11 years    984-384-1363 x31838     Holliston, MA  White   Nonhispanic   \n",
       "28   17 years      653-189-9071 x849        Hudson, MA  White   Nonhispanic   \n",
       "29   77 years    564-380-6900 x16552      Brewster, MA  White   Nonhispanic   \n",
       "30   36 years           891-889-5056      Stoneham, MA  White   Nonhispanic   \n",
       "31   81 years           485-116-7599      Brockton, MA  White   Nonhispanic   \n",
       "32   41 years     575-621-7064 x1127   Hubbardston, MA  White   Nonhispanic   \n",
       "33   18 years      680-431-1926 x154        Lowell, MA  White   Nonhispanic   \n",
       "34   71 years           608-524-4834       Andover, MA  White   Nonhispanic   \n",
       "35   92 years     446-912-8743 x8502          Lynn, MA  Other  Puerto_rican   \n",
       "36   31 years    936-012-7686 x01564       Methuen, MA  White   Nonhispanic   \n",
       "37   46 years      237-167-0269 x694         Acton, MA  White   Nonhispanic   \n",
       "38  114 years           697-104-6654   Northampton, MA  White   Nonhispanic   \n",
       "\n",
       "   Marital Status  \n",
       "0         unknown  \n",
       "1         married  \n",
       "2         married  \n",
       "3         unknown  \n",
       "4         married  \n",
       "5         married  \n",
       "6         married  \n",
       "7         married  \n",
       "8         unknown  \n",
       "9         married  \n",
       "10        married  \n",
       "11        unknown  \n",
       "12        married  \n",
       "13        married  \n",
       "14        married  \n",
       "15        married  \n",
       "16         single  \n",
       "17        married  \n",
       "18        married  \n",
       "19        married  \n",
       "20        unknown  \n",
       "21        unknown  \n",
       "22        married  \n",
       "23        married  \n",
       "24         single  \n",
       "25        married  \n",
       "26        unknown  \n",
       "27        unknown  \n",
       "28        unknown  \n",
       "29        married  \n",
       "30        married  \n",
       "31        married  \n",
       "32        married  \n",
       "33        unknown  \n",
       "34         single  \n",
       "35        married  \n",
       "36        unknown  \n",
       "37         single  \n",
       "38        married  "
      ]
     },
     "execution_count": 35,
     "metadata": {},
     "output_type": "execute_result"
    }
   ],
   "source": [
    "patient_data"
   ]
  },
  {
   "cell_type": "markdown",
   "metadata": {},
   "source": [
    "save cleaned data"
   ]
  },
  {
   "cell_type": "code",
   "execution_count": 36,
   "metadata": {},
   "outputs": [],
   "source": [
    "patient_data.to_csv('./output_csv/patient_data_cleaned.csv')"
   ]
  },
  {
   "cell_type": "markdown",
   "metadata": {},
   "source": [
    "# Encounter Data"
   ]
  },
  {
   "cell_type": "code",
   "execution_count": 37,
   "metadata": {},
   "outputs": [],
   "source": [
    "import pandas as pd"
   ]
  },
  {
   "cell_type": "code",
   "execution_count": 46,
   "metadata": {},
   "outputs": [],
   "source": [
    "json_path = './health_data/healthcare-datasets/000e7fac-5ea9-404d-8434-1229c16c29b0.json'"
   ]
  },
  {
   "cell_type": "code",
   "execution_count": 47,
   "metadata": {},
   "outputs": [],
   "source": [
    "rawdata = pd.read_json(json_path)"
   ]
  },
  {
   "cell_type": "code",
   "execution_count": 50,
   "metadata": {},
   "outputs": [
    {
     "data": {
      "text/plain": [
       "0     {'fullUrl': 'urn:uuid:65d12976-9588-4cfa-a795-...\n",
       "1     {'fullUrl': 'urn:uuid:a3e3bd43-ef3c-48fd-9851-...\n",
       "2     {'fullUrl': 'urn:uuid:dff431d5-79b9-40c0-91b6-...\n",
       "3     {'fullUrl': 'urn:uuid:166ab0d5-66bc-40fc-922b-...\n",
       "4     {'resource': {'status': 'active', 'stage': {'c...\n",
       "                            ...                        \n",
       "70    {'fullUrl': 'urn:uuid:41b416ca-94fb-42f3-9663-...\n",
       "71    {'fullUrl': 'urn:uuid:225e0dab-69ee-4059-af24-...\n",
       "72    {'fullUrl': 'urn:uuid:8b3bf982-4ddf-4872-a830-...\n",
       "73    {'resource': {'status': 'completed', 'code': {...\n",
       "74    {'resource': {'status': 'completed', 'date': '...\n",
       "Name: entry, Length: 75, dtype: object"
      ]
     },
     "execution_count": 50,
     "metadata": {},
     "output_type": "execute_result"
    }
   ],
   "source": [
    "entries = rawdata['entry']\n",
    "entries"
   ]
  },
  {
   "cell_type": "markdown",
   "metadata": {},
   "source": [
    "number of encounters and the index position in the entries array and get the `patient id`"
   ]
  },
  {
   "cell_type": "code",
   "execution_count": 52,
   "metadata": {},
   "outputs": [
    {
     "data": {
      "text/plain": [
       "'65d12976-9588-4cfa-a795-216302a2ece9'"
      ]
     },
     "metadata": {},
     "output_type": "display_data"
    },
    {
     "data": {
      "text/plain": [
       "19"
      ]
     },
     "metadata": {},
     "output_type": "display_data"
    },
    {
     "data": {
      "text/plain": [
       "[1, 5, 8, 15, 17, 24, 30, 38, 44, 49, 53, 54, 55, 56, 62, 63, 64, 65, 68]"
      ]
     },
     "metadata": {},
     "output_type": "display_data"
    }
   ],
   "source": [
    "encounter_length = 0\n",
    "enconter_pos = []\n",
    "for idx,entry in enumerate(entries):\n",
    "     resource = entry['resource']\n",
    "     if resource['resourceType'] == 'Patient':\n",
    "          patient_id = resource['id']\n",
    "     if resource['resourceType'] == 'Encounter':\n",
    "          encounter_length += 1\n",
    "          enconter_pos.append(idx)\n",
    "display(patient_id)\n",
    "display(encounter_length)\n",
    "display(enconter_pos)"
   ]
  },
  {
   "cell_type": "code",
   "execution_count": 53,
   "metadata": {},
   "outputs": [],
   "source": [
    "encounter_resource = entries[5]"
   ]
  },
  {
   "cell_type": "code",
   "execution_count": 54,
   "metadata": {},
   "outputs": [],
   "source": [
    "encounter_data = encounter_resource['resource']"
   ]
  },
  {
   "cell_type": "code",
   "execution_count": 55,
   "metadata": {},
   "outputs": [
    {
     "data": {
      "text/plain": [
       "{'id': '7e969f44-f034-48c1-82c9-0fcf4b24e20c',\n",
       " 'status': 'finished',\n",
       " 'class': {'code': 'ambulatory'},\n",
       " 'type': [{'coding': [{'system': 'http://snomed.info/sct',\n",
       "     'code': '185345009'}],\n",
       "   'text': 'Encounter for symptom'}],\n",
       " 'patient': {'reference': 'urn:uuid:65d12976-9588-4cfa-a795-216302a2ece9'},\n",
       " 'period': {'start': '2010-09-15T10:46:26-04:00',\n",
       "  'end': '2010-09-15T10:46:26-04:00'},\n",
       " 'reason': {'coding': [{'system': 'http://snomed.info/sct',\n",
       "    'code': '195662009',\n",
       "    'display': 'Acute viral pharyngitis (disorder)'}]},\n",
       " 'resourceType': 'Encounter'}"
      ]
     },
     "execution_count": 55,
     "metadata": {},
     "output_type": "execute_result"
    }
   ],
   "source": [
    "encounter_data"
   ]
  },
  {
   "cell_type": "code",
   "execution_count": 56,
   "metadata": {},
   "outputs": [
    {
     "data": {
      "text/plain": [
       "'7e969f44-f034-48c1-82c9-0fcf4b24e20c'"
      ]
     },
     "execution_count": 56,
     "metadata": {},
     "output_type": "execute_result"
    }
   ],
   "source": [
    "encounter_id = encounter_data['id']\n",
    "encounter_id"
   ]
  },
  {
   "cell_type": "code",
   "execution_count": 57,
   "metadata": {},
   "outputs": [
    {
     "data": {
      "text/plain": [
       "'finished'"
      ]
     },
     "execution_count": 57,
     "metadata": {},
     "output_type": "execute_result"
    }
   ],
   "source": [
    "encounter_status = encounter_data['status']\n",
    "encounter_status"
   ]
  },
  {
   "cell_type": "code",
   "execution_count": 93,
   "metadata": {},
   "outputs": [
    {
     "data": {
      "text/plain": [
       "'ambulatory'"
      ]
     },
     "execution_count": 93,
     "metadata": {},
     "output_type": "execute_result"
    }
   ],
   "source": [
    "encounter_class = encounter_data['class']\n",
    "encounter_class['code']"
   ]
  },
  {
   "cell_type": "code",
   "execution_count": 58,
   "metadata": {},
   "outputs": [
    {
     "data": {
      "text/plain": [
       "{'coding': [{'system': 'http://snomed.info/sct', 'code': '185345009'}],\n",
       " 'text': 'Encounter for symptom'}"
      ]
     },
     "execution_count": 58,
     "metadata": {},
     "output_type": "execute_result"
    }
   ],
   "source": [
    "encounter_type_raw = encounter_data['type']\n",
    "encounter_type_raw[0]"
   ]
  },
  {
   "cell_type": "code",
   "execution_count": 59,
   "metadata": {},
   "outputs": [
    {
     "data": {
      "text/plain": [
       "'Encounter for symptom'"
      ]
     },
     "execution_count": 59,
     "metadata": {},
     "output_type": "execute_result"
    }
   ],
   "source": [
    "encounter_type = encounter_type_raw[0]['text']\n",
    "encounter_type"
   ]
  },
  {
   "cell_type": "code",
   "execution_count": 60,
   "metadata": {},
   "outputs": [
    {
     "data": {
      "text/plain": [
       "'2010-09-15T10:46:26-04:00'"
      ]
     },
     "execution_count": 60,
     "metadata": {},
     "output_type": "execute_result"
    }
   ],
   "source": [
    "encounter_start_date = encounter_data['period']['start']\n",
    "encounter_start_date"
   ]
  },
  {
   "cell_type": "markdown",
   "metadata": {},
   "source": []
  },
  {
   "cell_type": "code",
   "execution_count": 61,
   "metadata": {},
   "outputs": [
    {
     "data": {
      "text/plain": [
       "'2010-09-15T10:46:26-04:00'"
      ]
     },
     "execution_count": 61,
     "metadata": {},
     "output_type": "execute_result"
    }
   ],
   "source": [
    "encounter_end_date = encounter_data['period']['end']\n",
    "encounter_end_date"
   ]
  },
  {
   "cell_type": "markdown",
   "metadata": {},
   "source": [
    "## Extract Encounter Data"
   ]
  },
  {
   "cell_type": "code",
   "execution_count": 94,
   "metadata": {},
   "outputs": [],
   "source": [
    "def extract_single_encounter_data(encounter_data):\n",
    "    encounter_id = encounter_data['id']\n",
    "    encounter_status = encounter_data['status']\n",
    "    encounter_class = encounter_data['class']['code']\n",
    "    encounter_type = encounter_data['type'][0]['text']\n",
    "    encounter_start_date = encounter_data['period']['start']\n",
    "    encounter_end_date = encounter_data['period']['end']\n",
    "    return [encounter_id,encounter_status,encounter_type,encounter_class,encounter_start_date,encounter_end_date]"
   ]
  },
  {
   "cell_type": "code",
   "execution_count": 95,
   "metadata": {},
   "outputs": [],
   "source": [
    "def extract_encounters_data(json_file_path):\n",
    "    res= []\n",
    "    rawdata = pd.read_json(json_file_path)\n",
    "    entries = rawdata['entry']\n",
    "    encounter_pos = []\n",
    "    for idx,entry in enumerate(entries):\n",
    "        resource = entry['resource']\n",
    "        if resource['resourceType'] == 'Patient':\n",
    "            patient_id = resource['id']\n",
    "        if resource['resourceType'] == 'Encounter':\n",
    "            encounter_pos.append(idx)\n",
    "    for pos in encounter_pos:\n",
    "        encounter_data = entries[pos]['resource']\n",
    "        single_encounter_data = extract_single_encounter_data(encounter_data)\n",
    "        single_encounter_data.append(patient_id)\n",
    "        res.append(single_encounter_data)\n",
    "    return res"
   ]
  },
  {
   "cell_type": "code",
   "execution_count": 97,
   "metadata": {},
   "outputs": [],
   "source": [
    "def encounters_data_csv(root_directory_path, output_csv_path):\n",
    "    columns = ['Encounter ID','Status','Class',\t'Type',\t'Start Date','End Date','Patient ID']\n",
    "    with open(output_csv_path,'w') as f:\n",
    "        pd.DataFrame(columns=columns).to_csv(f,index=False)\n",
    "    for subdir, _, files in os.walk(root_directory_path):\n",
    "        for file in tqdm(files):\n",
    "            file_path = os.path.join(subdir, file)\n",
    "            encounter_data = extract_encounters_data(file_path)\n",
    "            for encounter in encounter_data:\n",
    "                with open(output_csv_path, 'a') as f:\n",
    "                    pd.DataFrame([encounter], columns=columns).to_csv(\n",
    "                        f, header=False, index=False)"
   ]
  },
  {
   "cell_type": "code",
   "execution_count": 98,
   "metadata": {},
   "outputs": [
    {
     "name": "stderr",
     "output_type": "stream",
     "text": [
      "100%|██████████| 39/39 [00:00<00:00, 101.98it/s]\n"
     ]
    }
   ],
   "source": [
    "encounters_data_csv('./health_data/healthcare-datasets/','./output_csv/encounter_data.csv')"
   ]
  },
  {
   "cell_type": "markdown",
   "metadata": {},
   "source": [
    "## Encounter Data Processing"
   ]
  },
  {
   "cell_type": "code",
   "execution_count": 99,
   "metadata": {},
   "outputs": [],
   "source": [
    "encounter_data = pd.read_csv('./output_csv/encounter_data.csv')"
   ]
  },
  {
   "cell_type": "code",
   "execution_count": 102,
   "metadata": {},
   "outputs": [
    {
     "data": {
      "text/html": [
       "<div>\n",
       "<style scoped>\n",
       "    .dataframe tbody tr th:only-of-type {\n",
       "        vertical-align: middle;\n",
       "    }\n",
       "\n",
       "    .dataframe tbody tr th {\n",
       "        vertical-align: top;\n",
       "    }\n",
       "\n",
       "    .dataframe thead th {\n",
       "        text-align: right;\n",
       "    }\n",
       "</style>\n",
       "<table border=\"1\" class=\"dataframe\">\n",
       "  <thead>\n",
       "    <tr style=\"text-align: right;\">\n",
       "      <th></th>\n",
       "      <th>Encounter ID</th>\n",
       "      <th>Status</th>\n",
       "      <th>Class</th>\n",
       "      <th>Type</th>\n",
       "      <th>Start Date</th>\n",
       "      <th>End Date</th>\n",
       "      <th>Patient ID</th>\n",
       "    </tr>\n",
       "  </thead>\n",
       "  <tbody>\n",
       "    <tr>\n",
       "      <th>0</th>\n",
       "      <td>a3e3bd43-ef3c-48fd-9851-5302d1aa84c6</td>\n",
       "      <td>finished</td>\n",
       "      <td>Encounter for symptom</td>\n",
       "      <td>ambulatory</td>\n",
       "      <td>2010-07-31T13:21:25-04:00</td>\n",
       "      <td>2010-07-31T13:21:25-04:00</td>\n",
       "      <td>65d12976-9588-4cfa-a795-216302a2ece9</td>\n",
       "    </tr>\n",
       "    <tr>\n",
       "      <th>1</th>\n",
       "      <td>7e969f44-f034-48c1-82c9-0fcf4b24e20c</td>\n",
       "      <td>finished</td>\n",
       "      <td>Encounter for symptom</td>\n",
       "      <td>ambulatory</td>\n",
       "      <td>2010-09-15T10:46:26-04:00</td>\n",
       "      <td>2010-09-15T10:46:26-04:00</td>\n",
       "      <td>65d12976-9588-4cfa-a795-216302a2ece9</td>\n",
       "    </tr>\n",
       "    <tr>\n",
       "      <th>2</th>\n",
       "      <td>a5e0fd67-d09f-4861-a58f-5726d81faafc</td>\n",
       "      <td>finished</td>\n",
       "      <td>Outpatient Encounter</td>\n",
       "      <td>outpatient</td>\n",
       "      <td>2010-11-14T10:21:49-05:00</td>\n",
       "      <td>2010-11-14T11:21:49-05:00</td>\n",
       "      <td>65d12976-9588-4cfa-a795-216302a2ece9</td>\n",
       "    </tr>\n",
       "    <tr>\n",
       "      <th>3</th>\n",
       "      <td>8c679a80-a381-4fa8-af8a-31cb44d65b7b</td>\n",
       "      <td>finished</td>\n",
       "      <td>Encounter for symptom</td>\n",
       "      <td>ambulatory</td>\n",
       "      <td>2011-10-31T02:59:03-04:00</td>\n",
       "      <td>2011-10-31T02:59:03-04:00</td>\n",
       "      <td>65d12976-9588-4cfa-a795-216302a2ece9</td>\n",
       "    </tr>\n",
       "    <tr>\n",
       "      <th>4</th>\n",
       "      <td>7b7130df-8af7-406e-b980-5d2f3a946867</td>\n",
       "      <td>finished</td>\n",
       "      <td>Outpatient Encounter</td>\n",
       "      <td>outpatient</td>\n",
       "      <td>2011-11-02T02:39:45-04:00</td>\n",
       "      <td>2011-11-02T03:39:45-04:00</td>\n",
       "      <td>65d12976-9588-4cfa-a795-216302a2ece9</td>\n",
       "    </tr>\n",
       "    <tr>\n",
       "      <th>5</th>\n",
       "      <td>30e580b6-1b8c-4dfe-b283-824035cd30a6</td>\n",
       "      <td>finished</td>\n",
       "      <td>Outpatient Encounter</td>\n",
       "      <td>outpatient</td>\n",
       "      <td>2012-11-05T13:01:56-05:00</td>\n",
       "      <td>2012-11-05T14:01:56-05:00</td>\n",
       "      <td>65d12976-9588-4cfa-a795-216302a2ece9</td>\n",
       "    </tr>\n",
       "    <tr>\n",
       "      <th>6</th>\n",
       "      <td>744566ba-5740-4e51-a218-283f74312061</td>\n",
       "      <td>finished</td>\n",
       "      <td>Outpatient Encounter</td>\n",
       "      <td>outpatient</td>\n",
       "      <td>2013-10-27T14:48:25-04:00</td>\n",
       "      <td>2013-10-27T15:48:25-04:00</td>\n",
       "      <td>65d12976-9588-4cfa-a795-216302a2ece9</td>\n",
       "    </tr>\n",
       "    <tr>\n",
       "      <th>7</th>\n",
       "      <td>1f0d1c73-ede0-4436-bbbb-71f4fc38eca6</td>\n",
       "      <td>finished</td>\n",
       "      <td>Outpatient Encounter</td>\n",
       "      <td>outpatient</td>\n",
       "      <td>2014-09-24T20:18:26-04:00</td>\n",
       "      <td>2014-09-24T21:18:26-04:00</td>\n",
       "      <td>65d12976-9588-4cfa-a795-216302a2ece9</td>\n",
       "    </tr>\n",
       "    <tr>\n",
       "      <th>8</th>\n",
       "      <td>ddc2fb3c-6ea7-4b66-931b-0a0b4bfd3a75</td>\n",
       "      <td>finished</td>\n",
       "      <td>Encounter for symptom</td>\n",
       "      <td>ambulatory</td>\n",
       "      <td>2015-01-07T16:12:31-05:00</td>\n",
       "      <td>2015-01-07T16:22:39-05:00</td>\n",
       "      <td>65d12976-9588-4cfa-a795-216302a2ece9</td>\n",
       "    </tr>\n",
       "    <tr>\n",
       "      <th>9</th>\n",
       "      <td>80fd8fc5-4770-4e35-b31c-4d7b1be19c2f</td>\n",
       "      <td>finished</td>\n",
       "      <td>Prenatal initial visit</td>\n",
       "      <td>ambulatory</td>\n",
       "      <td>2015-05-08T20:38:47-04:00</td>\n",
       "      <td>2015-05-08T20:38:47-04:00</td>\n",
       "      <td>65d12976-9588-4cfa-a795-216302a2ece9</td>\n",
       "    </tr>\n",
       "  </tbody>\n",
       "</table>\n",
       "</div>"
      ],
      "text/plain": [
       "                           Encounter ID    Status                   Class  \\\n",
       "0  a3e3bd43-ef3c-48fd-9851-5302d1aa84c6  finished   Encounter for symptom   \n",
       "1  7e969f44-f034-48c1-82c9-0fcf4b24e20c  finished   Encounter for symptom   \n",
       "2  a5e0fd67-d09f-4861-a58f-5726d81faafc  finished    Outpatient Encounter   \n",
       "3  8c679a80-a381-4fa8-af8a-31cb44d65b7b  finished   Encounter for symptom   \n",
       "4  7b7130df-8af7-406e-b980-5d2f3a946867  finished    Outpatient Encounter   \n",
       "5  30e580b6-1b8c-4dfe-b283-824035cd30a6  finished    Outpatient Encounter   \n",
       "6  744566ba-5740-4e51-a218-283f74312061  finished    Outpatient Encounter   \n",
       "7  1f0d1c73-ede0-4436-bbbb-71f4fc38eca6  finished    Outpatient Encounter   \n",
       "8  ddc2fb3c-6ea7-4b66-931b-0a0b4bfd3a75  finished   Encounter for symptom   \n",
       "9  80fd8fc5-4770-4e35-b31c-4d7b1be19c2f  finished  Prenatal initial visit   \n",
       "\n",
       "         Type                 Start Date                   End Date  \\\n",
       "0  ambulatory  2010-07-31T13:21:25-04:00  2010-07-31T13:21:25-04:00   \n",
       "1  ambulatory  2010-09-15T10:46:26-04:00  2010-09-15T10:46:26-04:00   \n",
       "2  outpatient  2010-11-14T10:21:49-05:00  2010-11-14T11:21:49-05:00   \n",
       "3  ambulatory  2011-10-31T02:59:03-04:00  2011-10-31T02:59:03-04:00   \n",
       "4  outpatient  2011-11-02T02:39:45-04:00  2011-11-02T03:39:45-04:00   \n",
       "5  outpatient  2012-11-05T13:01:56-05:00  2012-11-05T14:01:56-05:00   \n",
       "6  outpatient  2013-10-27T14:48:25-04:00  2013-10-27T15:48:25-04:00   \n",
       "7  outpatient  2014-09-24T20:18:26-04:00  2014-09-24T21:18:26-04:00   \n",
       "8  ambulatory  2015-01-07T16:12:31-05:00  2015-01-07T16:22:39-05:00   \n",
       "9  ambulatory  2015-05-08T20:38:47-04:00  2015-05-08T20:38:47-04:00   \n",
       "\n",
       "                             Patient ID  \n",
       "0  65d12976-9588-4cfa-a795-216302a2ece9  \n",
       "1  65d12976-9588-4cfa-a795-216302a2ece9  \n",
       "2  65d12976-9588-4cfa-a795-216302a2ece9  \n",
       "3  65d12976-9588-4cfa-a795-216302a2ece9  \n",
       "4  65d12976-9588-4cfa-a795-216302a2ece9  \n",
       "5  65d12976-9588-4cfa-a795-216302a2ece9  \n",
       "6  65d12976-9588-4cfa-a795-216302a2ece9  \n",
       "7  65d12976-9588-4cfa-a795-216302a2ece9  \n",
       "8  65d12976-9588-4cfa-a795-216302a2ece9  \n",
       "9  65d12976-9588-4cfa-a795-216302a2ece9  "
      ]
     },
     "execution_count": 102,
     "metadata": {},
     "output_type": "execute_result"
    }
   ],
   "source": [
    "encounter_data.head(10)"
   ]
  },
  {
   "cell_type": "code",
   "execution_count": 103,
   "metadata": {},
   "outputs": [
    {
     "data": {
      "text/html": [
       "<div>\n",
       "<style scoped>\n",
       "    .dataframe tbody tr th:only-of-type {\n",
       "        vertical-align: middle;\n",
       "    }\n",
       "\n",
       "    .dataframe tbody tr th {\n",
       "        vertical-align: top;\n",
       "    }\n",
       "\n",
       "    .dataframe thead th {\n",
       "        text-align: right;\n",
       "    }\n",
       "</style>\n",
       "<table border=\"1\" class=\"dataframe\">\n",
       "  <thead>\n",
       "    <tr style=\"text-align: right;\">\n",
       "      <th></th>\n",
       "      <th>Encounter ID</th>\n",
       "      <th>Status</th>\n",
       "      <th>Class</th>\n",
       "      <th>Type</th>\n",
       "      <th>Start Date</th>\n",
       "      <th>End Date</th>\n",
       "      <th>Patient ID</th>\n",
       "    </tr>\n",
       "  </thead>\n",
       "  <tbody>\n",
       "    <tr>\n",
       "      <th>count</th>\n",
       "      <td>317</td>\n",
       "      <td>317</td>\n",
       "      <td>317</td>\n",
       "      <td>317</td>\n",
       "      <td>317</td>\n",
       "      <td>317</td>\n",
       "      <td>317</td>\n",
       "    </tr>\n",
       "    <tr>\n",
       "      <th>unique</th>\n",
       "      <td>317</td>\n",
       "      <td>1</td>\n",
       "      <td>15</td>\n",
       "      <td>3</td>\n",
       "      <td>317</td>\n",
       "      <td>317</td>\n",
       "      <td>34</td>\n",
       "    </tr>\n",
       "    <tr>\n",
       "      <th>top</th>\n",
       "      <td>a3e3bd43-ef3c-48fd-9851-5302d1aa84c6</td>\n",
       "      <td>finished</td>\n",
       "      <td>Outpatient Encounter</td>\n",
       "      <td>outpatient</td>\n",
       "      <td>2010-07-31T13:21:25-04:00</td>\n",
       "      <td>2010-07-31T13:21:25-04:00</td>\n",
       "      <td>65d12976-9588-4cfa-a795-216302a2ece9</td>\n",
       "    </tr>\n",
       "    <tr>\n",
       "      <th>freq</th>\n",
       "      <td>1</td>\n",
       "      <td>317</td>\n",
       "      <td>161</td>\n",
       "      <td>164</td>\n",
       "      <td>1</td>\n",
       "      <td>1</td>\n",
       "      <td>19</td>\n",
       "    </tr>\n",
       "  </tbody>\n",
       "</table>\n",
       "</div>"
      ],
      "text/plain": [
       "                                Encounter ID    Status                 Class  \\\n",
       "count                                    317       317                   317   \n",
       "unique                                   317         1                    15   \n",
       "top     a3e3bd43-ef3c-48fd-9851-5302d1aa84c6  finished  Outpatient Encounter   \n",
       "freq                                       1       317                   161   \n",
       "\n",
       "              Type                 Start Date                   End Date  \\\n",
       "count          317                        317                        317   \n",
       "unique           3                        317                        317   \n",
       "top     outpatient  2010-07-31T13:21:25-04:00  2010-07-31T13:21:25-04:00   \n",
       "freq           164                          1                          1   \n",
       "\n",
       "                                  Patient ID  \n",
       "count                                    317  \n",
       "unique                                    34  \n",
       "top     65d12976-9588-4cfa-a795-216302a2ece9  \n",
       "freq                                      19  "
      ]
     },
     "execution_count": 103,
     "metadata": {},
     "output_type": "execute_result"
    }
   ],
   "source": [
    "encounter_data.describe()"
   ]
  },
  {
   "cell_type": "code",
   "execution_count": 104,
   "metadata": {},
   "outputs": [
    {
     "data": {
      "text/plain": [
       "array(['finished'], dtype=object)"
      ]
     },
     "execution_count": 104,
     "metadata": {},
     "output_type": "execute_result"
    }
   ],
   "source": [
    "encounter_data['Status'].unique()"
   ]
  },
  {
   "cell_type": "code",
   "execution_count": 106,
   "metadata": {},
   "outputs": [
    {
     "data": {
      "text/plain": [
       "array(['ambulatory', 'outpatient', 'emergency'], dtype=object)"
      ]
     },
     "execution_count": 106,
     "metadata": {},
     "output_type": "execute_result"
    }
   ],
   "source": [
    "encounter_data['Type'].unique()"
   ]
  },
  {
   "cell_type": "code",
   "execution_count": 108,
   "metadata": {},
   "outputs": [
    {
     "data": {
      "text/plain": [
       "Type\n",
       "outpatient    164\n",
       "ambulatory    135\n",
       "emergency      18\n",
       "Name: count, dtype: int64"
      ]
     },
     "execution_count": 108,
     "metadata": {},
     "output_type": "execute_result"
    }
   ],
   "source": [
    "encounter_data['Type'].value_counts()"
   ]
  }
 ],
 "metadata": {
  "kernelspec": {
   "display_name": "image_task",
   "language": "python",
   "name": "python3"
  },
  "language_info": {
   "codemirror_mode": {
    "name": "ipython",
    "version": 3
   },
   "file_extension": ".py",
   "mimetype": "text/x-python",
   "name": "python",
   "nbconvert_exporter": "python",
   "pygments_lexer": "ipython3",
   "version": "3.10.12"
  }
 },
 "nbformat": 4,
 "nbformat_minor": 2
}
