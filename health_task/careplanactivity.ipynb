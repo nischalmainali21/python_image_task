{
 "cells": [
  {
   "cell_type": "code",
   "execution_count": 1,
   "metadata": {},
   "outputs": [],
   "source": [
    "import pandas as  pd\n",
    "import glob"
   ]
  },
  {
   "cell_type": "code",
   "execution_count": 2,
   "metadata": {},
   "outputs": [],
   "source": [
    "file_paths = glob.glob(f\"./health_data/healthcare-datasets/*.json\")\n",
    "dfs = [pd.read_json(file_path) for file_path in file_paths]\n",
    "combined_df = pd.concat(dfs, ignore_index=True)\n",
    "entries = pd.json_normalize(combined_df['entry'])"
   ]
  },
  {
   "cell_type": "code",
   "execution_count": 3,
   "metadata": {},
   "outputs": [
    {
     "data": {
      "text/plain": [
       "array(['Patient', 'Encounter', 'Condition', 'Observation',\n",
       "       'MedicationRequest', 'Immunization', 'Procedure', 'CarePlan',\n",
       "       'AllergyIntolerance', 'DiagnosticReport'], dtype=object)"
      ]
     },
     "execution_count": 3,
     "metadata": {},
     "output_type": "execute_result"
    }
   ],
   "source": [
    "entries['resource.resourceType'].unique()"
   ]
  },
  {
   "cell_type": "code",
   "execution_count": 4,
   "metadata": {},
   "outputs": [
    {
     "data": {
      "text/plain": [
       "Index(['fullUrl', 'resource.id', 'resource.text.status', 'resource.text.div',\n",
       "       'resource.extension', 'resource.identifier', 'resource.name',\n",
       "       'resource.telecom', 'resource.gender', 'resource.birthDate',\n",
       "       'resource.address', 'resource.multipleBirthBoolean', 'resource.photo',\n",
       "       'resource.resourceType', 'resource.status', 'resource.class.code',\n",
       "       'resource.type', 'resource.patient.reference', 'resource.period.start',\n",
       "       'resource.period.end', 'resource.reason.coding',\n",
       "       'resource.clinicalStatus', 'resource.verificationStatus',\n",
       "       'resource.code.coding', 'resource.subject.reference',\n",
       "       'resource.context.reference', 'resource.onsetDateTime',\n",
       "       'resource.abatementDateTime', 'resource.encounter.reference',\n",
       "       'resource.effectiveDateTime', 'resource.valueQuantity.value',\n",
       "       'resource.valueQuantity.unit', 'resource.valueQuantity.system',\n",
       "       'resource.valueQuantity.code', 'resource.stage.coding',\n",
       "       'resource.medicationCodeableConcept.coding', 'resource.dateWritten',\n",
       "       'resource.reasonReference', 'resource.dosageInstruction',\n",
       "       'resource.component', 'resource.date', 'resource.vaccineCode.coding',\n",
       "       'resource.wasNotGiven', 'resource.primarySource', 'resource.code.text',\n",
       "       'resource.performedDateTime', 'resource.performedPeriod.start',\n",
       "       'resource.performedPeriod.end', 'resource.reasonReference.reference',\n",
       "       'resource.category', 'resource.addresses', 'resource.activity',\n",
       "       'resource.maritalStatus.coding', 'resource.criticality',\n",
       "       'resource.assertedDate', 'resource.issued', 'resource.performer',\n",
       "       'resource.result', 'resource.deceasedDateTime',\n",
       "       'resource.valueCodeableConcept.coding',\n",
       "       'resource.dispenseRequest.numberOfRepeatsAllowed',\n",
       "       'resource.dispenseRequest.quantity.value',\n",
       "       'resource.dispenseRequest.quantity.unit',\n",
       "       'resource.dispenseRequest.expectedSupplyDuration.value',\n",
       "       'resource.dispenseRequest.expectedSupplyDuration.unit',\n",
       "       'resource.dispenseRequest.expectedSupplyDuration.system',\n",
       "       'resource.dispenseRequest.expectedSupplyDuration.code',\n",
       "       'resource.multipleBirthInteger'],\n",
       "      dtype='object')"
      ]
     },
     "execution_count": 4,
     "metadata": {},
     "output_type": "execute_result"
    }
   ],
   "source": [
    "care_plan_data = entries[entries['resource.resourceType'] == 'CarePlan']\n",
    "care_plan_data.reset_index(drop=True,inplace=True)\n",
    "care_plan_data.columns"
   ]
  },
  {
   "cell_type": "code",
   "execution_count": 5,
   "metadata": {},
   "outputs": [
    {
     "data": {
      "text/plain": [
       "0            53950000\n",
       "1           134435003\n",
       "2     326051000000105\n",
       "3     326051000000105\n",
       "4     872781000000100\n",
       "           ...       \n",
       "73          412776001\n",
       "74          182964004\n",
       "75          385691007\n",
       "76           47387005\n",
       "77          385691007\n",
       "Name: code, Length: 78, dtype: object"
      ]
     },
     "execution_count": 5,
     "metadata": {},
     "output_type": "execute_result"
    }
   ],
   "source": [
    "care_plan_category = care_plan_data.get('resource.category',None)\n",
    "if not care_plan_category is None:\n",
    "    care_plan_code = pd.json_normalize(care_plan_category,[0,'coding']).get('code',None)\n",
    "else:\n",
    "    care_plan_code = None\n",
    "care_plan_code"
   ]
  },
  {
   "cell_type": "code",
   "execution_count": 6,
   "metadata": {},
   "outputs": [
    {
     "data": {
      "text/plain": [
       "0     65d12976-9588-4cfa-a795-216302a2ece9\n",
       "1     65d12976-9588-4cfa-a795-216302a2ece9\n",
       "2     a195633e-d36d-4abe-92bb-02994e9cb348\n",
       "3     a195633e-d36d-4abe-92bb-02994e9cb348\n",
       "4     a195633e-d36d-4abe-92bb-02994e9cb348\n",
       "                      ...                 \n",
       "73    1bd855fa-45c4-4c23-a608-fdeeb3bc2d8b\n",
       "74    1bd855fa-45c4-4c23-a608-fdeeb3bc2d8b\n",
       "75    00d869e2-6793-4ebf-9340-38bf18d223c4\n",
       "76    a5399e95-981c-4a78-8019-873662fc7901\n",
       "77    a5399e95-981c-4a78-8019-873662fc7901\n",
       "Name: resource.subject.reference, Length: 78, dtype: object"
      ]
     },
     "execution_count": 6,
     "metadata": {},
     "output_type": "execute_result"
    }
   ],
   "source": [
    "care_plan_patient_id = care_plan_data['resource.subject.reference'].str.replace('urn:uuid:','')\n",
    "care_plan_patient_id"
   ]
  },
  {
   "cell_type": "code",
   "execution_count": 7,
   "metadata": {},
   "outputs": [
    {
     "data": {
      "text/plain": [
       "0     ddc2fb3c-6ea7-4b66-931b-0a0b4bfd3a75\n",
       "1     80fd8fc5-4770-4e35-b31c-4d7b1be19c2f\n",
       "2     fe054716-3d1d-4652-8564-01a86d58cd87\n",
       "3     fe054716-3d1d-4652-8564-01a86d58cd87\n",
       "4     9b133606-85fd-4199-adf4-2fdf90027fed\n",
       "                      ...                 \n",
       "73    dc68d226-b62b-45b8-baab-a1cc6d26427f\n",
       "74    dc68d226-b62b-45b8-baab-a1cc6d26427f\n",
       "75    8625df2e-3c5d-4dc2-83c7-714a126d407e\n",
       "76    14e39e12-688a-4a2d-942d-d761cff4123e\n",
       "77    7f88e6e7-b838-497a-86d6-aaf35b8cdf29\n",
       "Name: resource.context.reference, Length: 78, dtype: object"
      ]
     },
     "execution_count": 7,
     "metadata": {},
     "output_type": "execute_result"
    }
   ],
   "source": [
    "care_plan_encounter_id = care_plan_data['resource.context.reference'].str.replace('urn:uuid:','')\n",
    "care_plan_encounter_id"
   ]
  },
  {
   "cell_type": "code",
   "execution_count": 8,
   "metadata": {},
   "outputs": [
    {
     "data": {
      "text/plain": [
       "0     [{'detail': {'code': {'coding': [{'system': 'h...\n",
       "1     [{'detail': {'code': {'coding': [{'system': 'h...\n",
       "2     [{'detail': {'code': {'coding': [{'system': 'h...\n",
       "3     [{'detail': {'code': {'coding': [{'system': 'h...\n",
       "4     [{'detail': {'code': {'coding': [{'system': 'h...\n",
       "                            ...                        \n",
       "73    [{'detail': {'code': {'coding': [{'system': 'h...\n",
       "74    [{'detail': {'code': {'coding': [{'system': 'h...\n",
       "75    [{'detail': {'code': {'coding': [{'system': 'h...\n",
       "76    [{'detail': {'code': {'coding': [{'system': 'h...\n",
       "77    [{'detail': {'code': {'coding': [{'system': 'h...\n",
       "Name: resource.activity, Length: 78, dtype: object"
      ]
     },
     "execution_count": 8,
     "metadata": {},
     "output_type": "execute_result"
    }
   ],
   "source": [
    "care_plan_activity = care_plan_data['resource.activity']\n",
    "care_plan_activity"
   ]
  },
  {
   "cell_type": "code",
   "execution_count": 9,
   "metadata": {},
   "outputs": [
    {
     "data": {
      "text/html": [
       "<div>\n",
       "<style scoped>\n",
       "    .dataframe tbody tr th:only-of-type {\n",
       "        vertical-align: middle;\n",
       "    }\n",
       "\n",
       "    .dataframe tbody tr th {\n",
       "        vertical-align: top;\n",
       "    }\n",
       "\n",
       "    .dataframe thead th {\n",
       "        text-align: right;\n",
       "    }\n",
       "</style>\n",
       "<table border=\"1\" class=\"dataframe\">\n",
       "  <thead>\n",
       "    <tr style=\"text-align: right;\">\n",
       "      <th></th>\n",
       "      <th>Care Plan Code</th>\n",
       "      <th>Patient ID</th>\n",
       "      <th>Encounter ID</th>\n",
       "      <th>care plan activity</th>\n",
       "    </tr>\n",
       "  </thead>\n",
       "  <tbody>\n",
       "    <tr>\n",
       "      <th>0</th>\n",
       "      <td>53950000</td>\n",
       "      <td>65d12976-9588-4cfa-a795-216302a2ece9</td>\n",
       "      <td>ddc2fb3c-6ea7-4b66-931b-0a0b4bfd3a75</td>\n",
       "      <td>[{'detail': {'code': {'coding': [{'system': 'h...</td>\n",
       "    </tr>\n",
       "    <tr>\n",
       "      <th>1</th>\n",
       "      <td>134435003</td>\n",
       "      <td>65d12976-9588-4cfa-a795-216302a2ece9</td>\n",
       "      <td>80fd8fc5-4770-4e35-b31c-4d7b1be19c2f</td>\n",
       "      <td>[{'detail': {'code': {'coding': [{'system': 'h...</td>\n",
       "    </tr>\n",
       "    <tr>\n",
       "      <th>2</th>\n",
       "      <td>326051000000105</td>\n",
       "      <td>a195633e-d36d-4abe-92bb-02994e9cb348</td>\n",
       "      <td>fe054716-3d1d-4652-8564-01a86d58cd87</td>\n",
       "      <td>[{'detail': {'code': {'coding': [{'system': 'h...</td>\n",
       "    </tr>\n",
       "    <tr>\n",
       "      <th>3</th>\n",
       "      <td>326051000000105</td>\n",
       "      <td>a195633e-d36d-4abe-92bb-02994e9cb348</td>\n",
       "      <td>fe054716-3d1d-4652-8564-01a86d58cd87</td>\n",
       "      <td>[{'detail': {'code': {'coding': [{'system': 'h...</td>\n",
       "    </tr>\n",
       "    <tr>\n",
       "      <th>4</th>\n",
       "      <td>872781000000100</td>\n",
       "      <td>a195633e-d36d-4abe-92bb-02994e9cb348</td>\n",
       "      <td>9b133606-85fd-4199-adf4-2fdf90027fed</td>\n",
       "      <td>[{'detail': {'code': {'coding': [{'system': 'h...</td>\n",
       "    </tr>\n",
       "  </tbody>\n",
       "</table>\n",
       "</div>"
      ],
      "text/plain": [
       "    Care Plan Code                            Patient ID  \\\n",
       "0         53950000  65d12976-9588-4cfa-a795-216302a2ece9   \n",
       "1        134435003  65d12976-9588-4cfa-a795-216302a2ece9   \n",
       "2  326051000000105  a195633e-d36d-4abe-92bb-02994e9cb348   \n",
       "3  326051000000105  a195633e-d36d-4abe-92bb-02994e9cb348   \n",
       "4  872781000000100  a195633e-d36d-4abe-92bb-02994e9cb348   \n",
       "\n",
       "                           Encounter ID  \\\n",
       "0  ddc2fb3c-6ea7-4b66-931b-0a0b4bfd3a75   \n",
       "1  80fd8fc5-4770-4e35-b31c-4d7b1be19c2f   \n",
       "2  fe054716-3d1d-4652-8564-01a86d58cd87   \n",
       "3  fe054716-3d1d-4652-8564-01a86d58cd87   \n",
       "4  9b133606-85fd-4199-adf4-2fdf90027fed   \n",
       "\n",
       "                                  care plan activity  \n",
       "0  [{'detail': {'code': {'coding': [{'system': 'h...  \n",
       "1  [{'detail': {'code': {'coding': [{'system': 'h...  \n",
       "2  [{'detail': {'code': {'coding': [{'system': 'h...  \n",
       "3  [{'detail': {'code': {'coding': [{'system': 'h...  \n",
       "4  [{'detail': {'code': {'coding': [{'system': 'h...  "
      ]
     },
     "execution_count": 9,
     "metadata": {},
     "output_type": "execute_result"
    }
   ],
   "source": [
    "intermediate_df = pd.DataFrame({\n",
    "    'Care Plan Code':care_plan_code,\n",
    "    'Patient ID':care_plan_patient_id,\n",
    "    'Encounter ID':care_plan_encounter_id,\n",
    "    'care plan activity':care_plan_activity\n",
    "})\n",
    "intermediate_df.head()"
   ]
  },
  {
   "cell_type": "markdown",
   "metadata": {},
   "source": [
    "## care plan acitivities"
   ]
  },
  {
   "cell_type": "code",
   "execution_count": 10,
   "metadata": {},
   "outputs": [
    {
     "data": {
      "text/plain": [
       "[{'detail': {'code': {'coding': [{'system': 'http://snomed.info/sct',\n",
       "      'code': '304510005',\n",
       "      'display': 'Recommendation to avoid exercise'}]},\n",
       "   'status': 'completed'}},\n",
       " {'detail': {'code': {'coding': [{'system': 'http://snomed.info/sct',\n",
       "      'code': '371605008',\n",
       "      'display': 'Deep breathing and coughing exercises'}]},\n",
       "   'status': 'completed'}}]"
      ]
     },
     "execution_count": 10,
     "metadata": {},
     "output_type": "execute_result"
    }
   ],
   "source": [
    "pd.set_option('display.max_colwidth',None)\n",
    "intermediate_df['care plan activity'][0]"
   ]
  },
  {
   "cell_type": "code",
   "execution_count": 11,
   "metadata": {},
   "outputs": [],
   "source": [
    "test = intermediate_df.explode('care plan activity')"
   ]
  },
  {
   "cell_type": "code",
   "execution_count": 14,
   "metadata": {},
   "outputs": [],
   "source": [
    "test_care_plan_activity = test['care plan activity']"
   ]
  },
  {
   "cell_type": "code",
   "execution_count": 15,
   "metadata": {},
   "outputs": [
    {
     "data": {
      "text/plain": [
       "0             {'detail': {'code': {'coding': [{'system': 'http://snomed.info/sct', 'code': '304510005', 'display': 'Recommendation to avoid exercise'}]}, 'status': 'completed'}}\n",
       "1        {'detail': {'code': {'coding': [{'system': 'http://snomed.info/sct', 'code': '371605008', 'display': 'Deep breathing and coughing exercises'}]}, 'status': 'completed'}}\n",
       "2                          {'detail': {'code': {'coding': [{'system': 'http://snomed.info/sct', 'code': '135892000', 'display': 'Antenatal education'}]}, 'status': 'completed'}}\n",
       "3                            {'detail': {'code': {'coding': [{'system': 'http://snomed.info/sct', 'code': '226060000', 'display': 'Stress management'}]}, 'status': 'completed'}}\n",
       "4                     {'detail': {'code': {'coding': [{'system': 'http://snomed.info/sct', 'code': '171054004', 'display': 'Pregnancy diet education'}]}, 'status': 'completed'}}\n",
       "                                                                                          ...                                                                                    \n",
       "166    {'detail': {'code': {'coding': [{'system': 'http://snomed.info/sct', 'code': '408580007', 'display': 'Physical activity target light exercise'}]}, 'status': 'completed'}}\n",
       "167                     {'detail': {'code': {'coding': [{'system': 'http://snomed.info/sct', 'code': '183051005', 'display': 'Recommendation to rest'}]}, 'status': 'completed'}}\n",
       "168                          {'detail': {'code': {'coding': [{'system': 'http://snomed.info/sct', 'code': '226138001', 'display': 'Alcohol-free diet'}]}, 'status': 'completed'}}\n",
       "169                     {'detail': {'code': {'coding': [{'system': 'http://snomed.info/sct', 'code': '183051005', 'display': 'Recommendation to rest'}]}, 'status': 'completed'}}\n",
       "170    {'detail': {'code': {'coding': [{'system': 'http://snomed.info/sct', 'code': '408580007', 'display': 'Physical activity target light exercise'}]}, 'status': 'completed'}}\n",
       "Name: care plan activity, Length: 171, dtype: object"
      ]
     },
     "execution_count": 15,
     "metadata": {},
     "output_type": "execute_result"
    }
   ],
   "source": [
    "test_care_plan_activity.reset_index(drop=True)"
   ]
  },
  {
   "cell_type": "code",
   "execution_count": 24,
   "metadata": {},
   "outputs": [
    {
     "data": {
      "text/plain": [
       "0            {'detail': {'code': {'coding': [{'system': 'http://snomed.info/sct', 'code': '304510005', 'display': 'Recommendation to avoid exercise'}]}, 'status': 'completed'}}\n",
       "0       {'detail': {'code': {'coding': [{'system': 'http://snomed.info/sct', 'code': '371605008', 'display': 'Deep breathing and coughing exercises'}]}, 'status': 'completed'}}\n",
       "1                         {'detail': {'code': {'coding': [{'system': 'http://snomed.info/sct', 'code': '135892000', 'display': 'Antenatal education'}]}, 'status': 'completed'}}\n",
       "1                           {'detail': {'code': {'coding': [{'system': 'http://snomed.info/sct', 'code': '226060000', 'display': 'Stress management'}]}, 'status': 'completed'}}\n",
       "1                    {'detail': {'code': {'coding': [{'system': 'http://snomed.info/sct', 'code': '171054004', 'display': 'Pregnancy diet education'}]}, 'status': 'completed'}}\n",
       "                                                                                         ...                                                                                    \n",
       "75    {'detail': {'code': {'coding': [{'system': 'http://snomed.info/sct', 'code': '408580007', 'display': 'Physical activity target light exercise'}]}, 'status': 'completed'}}\n",
       "76                     {'detail': {'code': {'coding': [{'system': 'http://snomed.info/sct', 'code': '183051005', 'display': 'Recommendation to rest'}]}, 'status': 'completed'}}\n",
       "76                          {'detail': {'code': {'coding': [{'system': 'http://snomed.info/sct', 'code': '226138001', 'display': 'Alcohol-free diet'}]}, 'status': 'completed'}}\n",
       "77                     {'detail': {'code': {'coding': [{'system': 'http://snomed.info/sct', 'code': '183051005', 'display': 'Recommendation to rest'}]}, 'status': 'completed'}}\n",
       "77    {'detail': {'code': {'coding': [{'system': 'http://snomed.info/sct', 'code': '408580007', 'display': 'Physical activity target light exercise'}]}, 'status': 'completed'}}\n",
       "Name: care plan activity, Length: 171, dtype: object"
      ]
     },
     "execution_count": 24,
     "metadata": {},
     "output_type": "execute_result"
    }
   ],
   "source": [
    "test_care_plan_activity"
   ]
  },
  {
   "cell_type": "code",
   "execution_count": 43,
   "metadata": {},
   "outputs": [
    {
     "data": {
      "text/plain": [
       "0      completed\n",
       "1      completed\n",
       "2      completed\n",
       "3      completed\n",
       "4      completed\n",
       "         ...    \n",
       "166    completed\n",
       "167    completed\n",
       "168    completed\n",
       "169    completed\n",
       "170    completed\n",
       "Name: detail.status, Length: 171, dtype: object"
      ]
     },
     "execution_count": 43,
     "metadata": {},
     "output_type": "execute_result"
    }
   ],
   "source": [
    "care_plan_activity_status = pd.json_normalize(test_care_plan_activity)['detail.status']\n",
    "care_plan_activity_status"
   ]
  },
  {
   "cell_type": "code",
   "execution_count": 47,
   "metadata": {},
   "outputs": [],
   "source": [
    "care_plan_activity_code_name = pd.json_normalize(test_care_plan_activity,['detail','code','coding'])"
   ]
  },
  {
   "cell_type": "code",
   "execution_count": 48,
   "metadata": {},
   "outputs": [
    {
     "data": {
      "text/plain": [
       "0      304510005\n",
       "1      371605008\n",
       "2      135892000\n",
       "3      226060000\n",
       "4      171054004\n",
       "         ...    \n",
       "166    408580007\n",
       "167    183051005\n",
       "168    226138001\n",
       "169    183051005\n",
       "170    408580007\n",
       "Name: code, Length: 171, dtype: object"
      ]
     },
     "execution_count": 48,
     "metadata": {},
     "output_type": "execute_result"
    }
   ],
   "source": [
    "care_plan_activity_code = care_plan_activity_code_name['code']\n",
    "care_plan_activity_code"
   ]
  },
  {
   "cell_type": "code",
   "execution_count": 49,
   "metadata": {},
   "outputs": [
    {
     "data": {
      "text/plain": [
       "0             Recommendation to avoid exercise\n",
       "1        Deep breathing and coughing exercises\n",
       "2                          Antenatal education\n",
       "3                            Stress management\n",
       "4                     Pregnancy diet education\n",
       "                        ...                   \n",
       "166    Physical activity target light exercise\n",
       "167                     Recommendation to rest\n",
       "168                          Alcohol-free diet\n",
       "169                     Recommendation to rest\n",
       "170    Physical activity target light exercise\n",
       "Name: display, Length: 171, dtype: object"
      ]
     },
     "execution_count": 49,
     "metadata": {},
     "output_type": "execute_result"
    }
   ],
   "source": [
    "care_plan_activity_name = care_plan_activity_code_name['display']\n",
    "care_plan_activity_name"
   ]
  },
  {
   "cell_type": "markdown",
   "metadata": {},
   "source": [
    "## Extract care plan activity data"
   ]
  },
  {
   "cell_type": "code",
   "execution_count": 3,
   "metadata": {},
   "outputs": [],
   "source": [
    "import pandas as pd\n",
    "import glob\n",
    "\n",
    "def extract_care_plan_activity_data(root_directory_path):\n",
    "    file_paths = glob.glob(f\"{root_directory_path}*.json\")\n",
    "    dfs = [pd.read_json(file_path) for file_path in file_paths]\n",
    "    combined_df = pd.concat(dfs, ignore_index=True)\n",
    "    entries = pd.json_normalize(combined_df['entry'])\n",
    "\n",
    "    care_plan_data = entries[entries['resource.resourceType'] == 'CarePlan']\n",
    "    care_plan_data.reset_index(drop=True,inplace=True)\n",
    "    #main care plan code\n",
    "    care_plan_category = care_plan_data.get('resource.category',None)\n",
    "    if not care_plan_category is None:\n",
    "        care_plan_code = pd.json_normalize(care_plan_category,[0,'coding']).get('code',None)\n",
    "    else:\n",
    "        care_plan_code = None\n",
    "    care_plan_patient_id = care_plan_data['resource.subject.reference'].str.replace('urn:uuid:','')\n",
    "    care_plan_encounter_id = care_plan_data['resource.context.reference'].str.replace('urn:uuid:','')\n",
    "    care_plan_activity = care_plan_data['resource.activity']\n",
    "\n",
    "    intermediate_df = pd.DataFrame({\n",
    "    'Care Plan Code':care_plan_code,\n",
    "    'Patient ID':care_plan_patient_id,\n",
    "    'Encounter ID':care_plan_encounter_id,\n",
    "    'care plan activity':care_plan_activity\n",
    "    })\n",
    "\n",
    "    #care plan activity data extraction\n",
    "    result_df = intermediate_df.explode('care plan activity')\n",
    "    result_df.reset_index(drop=True,inplace=True)\n",
    "    res_care_plan_activity = result_df['care plan activity']\n",
    "    #status\n",
    "    care_plan_activity_status = pd.json_normalize(res_care_plan_activity)['detail.status']\n",
    "    #code and name\n",
    "    care_plan_activity_code_name_raw = pd.json_normalize(res_care_plan_activity,['detail','code','coding'])\n",
    "    care_plan_activity_code = care_plan_activity_code_name_raw['code']\n",
    "    care_plan_activity_name = care_plan_activity_code_name_raw['display']\n",
    "\n",
    "    #add the activity columns\n",
    "    result_df['Care Plan Activity Code'] = care_plan_activity_code\n",
    "    result_df['Care Plan Activity Name'] = care_plan_activity_name\n",
    "    result_df['Activity Status'] = care_plan_activity_status\n",
    "\n",
    "    result_df.drop(columns=['care plan activity'],inplace=True)\n",
    "\n",
    "    result_df.to_csv('./output_csv/careplanactivity_data.csv',index=False)\n"
   ]
  },
  {
   "cell_type": "code",
   "execution_count": 4,
   "metadata": {},
   "outputs": [],
   "source": [
    "extract_care_plan_activity_data('./health_data/healthcare-datasets/')"
   ]
  },
  {
   "cell_type": "markdown",
   "metadata": {},
   "source": [
    "## care plan activity process"
   ]
  },
  {
   "cell_type": "code",
   "execution_count": 5,
   "metadata": {},
   "outputs": [],
   "source": [
    "import pandas as pd\n",
    "care_plan_activity = pd.read_csv('./output_csv/careplanactivity_data.csv')"
   ]
  },
  {
   "cell_type": "code",
   "execution_count": 6,
   "metadata": {},
   "outputs": [
    {
     "data": {
      "text/html": [
       "<div>\n",
       "<style scoped>\n",
       "    .dataframe tbody tr th:only-of-type {\n",
       "        vertical-align: middle;\n",
       "    }\n",
       "\n",
       "    .dataframe tbody tr th {\n",
       "        vertical-align: top;\n",
       "    }\n",
       "\n",
       "    .dataframe thead th {\n",
       "        text-align: right;\n",
       "    }\n",
       "</style>\n",
       "<table border=\"1\" class=\"dataframe\">\n",
       "  <thead>\n",
       "    <tr style=\"text-align: right;\">\n",
       "      <th></th>\n",
       "      <th>Care Plan Code</th>\n",
       "      <th>Patient ID</th>\n",
       "      <th>Encounter ID</th>\n",
       "      <th>Care Plan Activity Code</th>\n",
       "      <th>Care Plan Activity Name</th>\n",
       "      <th>Activity Status</th>\n",
       "    </tr>\n",
       "  </thead>\n",
       "  <tbody>\n",
       "    <tr>\n",
       "      <th>0</th>\n",
       "      <td>53950000</td>\n",
       "      <td>65d12976-9588-4cfa-a795-216302a2ece9</td>\n",
       "      <td>ddc2fb3c-6ea7-4b66-931b-0a0b4bfd3a75</td>\n",
       "      <td>304510005</td>\n",
       "      <td>Recommendation to avoid exercise</td>\n",
       "      <td>completed</td>\n",
       "    </tr>\n",
       "    <tr>\n",
       "      <th>1</th>\n",
       "      <td>53950000</td>\n",
       "      <td>65d12976-9588-4cfa-a795-216302a2ece9</td>\n",
       "      <td>ddc2fb3c-6ea7-4b66-931b-0a0b4bfd3a75</td>\n",
       "      <td>371605008</td>\n",
       "      <td>Deep breathing and coughing exercises</td>\n",
       "      <td>completed</td>\n",
       "    </tr>\n",
       "    <tr>\n",
       "      <th>2</th>\n",
       "      <td>134435003</td>\n",
       "      <td>65d12976-9588-4cfa-a795-216302a2ece9</td>\n",
       "      <td>80fd8fc5-4770-4e35-b31c-4d7b1be19c2f</td>\n",
       "      <td>135892000</td>\n",
       "      <td>Antenatal education</td>\n",
       "      <td>completed</td>\n",
       "    </tr>\n",
       "    <tr>\n",
       "      <th>3</th>\n",
       "      <td>134435003</td>\n",
       "      <td>65d12976-9588-4cfa-a795-216302a2ece9</td>\n",
       "      <td>80fd8fc5-4770-4e35-b31c-4d7b1be19c2f</td>\n",
       "      <td>226060000</td>\n",
       "      <td>Stress management</td>\n",
       "      <td>completed</td>\n",
       "    </tr>\n",
       "    <tr>\n",
       "      <th>4</th>\n",
       "      <td>134435003</td>\n",
       "      <td>65d12976-9588-4cfa-a795-216302a2ece9</td>\n",
       "      <td>80fd8fc5-4770-4e35-b31c-4d7b1be19c2f</td>\n",
       "      <td>171054004</td>\n",
       "      <td>Pregnancy diet education</td>\n",
       "      <td>completed</td>\n",
       "    </tr>\n",
       "  </tbody>\n",
       "</table>\n",
       "</div>"
      ],
      "text/plain": [
       "   Care Plan Code                            Patient ID  \\\n",
       "0        53950000  65d12976-9588-4cfa-a795-216302a2ece9   \n",
       "1        53950000  65d12976-9588-4cfa-a795-216302a2ece9   \n",
       "2       134435003  65d12976-9588-4cfa-a795-216302a2ece9   \n",
       "3       134435003  65d12976-9588-4cfa-a795-216302a2ece9   \n",
       "4       134435003  65d12976-9588-4cfa-a795-216302a2ece9   \n",
       "\n",
       "                           Encounter ID  Care Plan Activity Code  \\\n",
       "0  ddc2fb3c-6ea7-4b66-931b-0a0b4bfd3a75                304510005   \n",
       "1  ddc2fb3c-6ea7-4b66-931b-0a0b4bfd3a75                371605008   \n",
       "2  80fd8fc5-4770-4e35-b31c-4d7b1be19c2f                135892000   \n",
       "3  80fd8fc5-4770-4e35-b31c-4d7b1be19c2f                226060000   \n",
       "4  80fd8fc5-4770-4e35-b31c-4d7b1be19c2f                171054004   \n",
       "\n",
       "                 Care Plan Activity Name Activity Status  \n",
       "0       Recommendation to avoid exercise       completed  \n",
       "1  Deep breathing and coughing exercises       completed  \n",
       "2                    Antenatal education       completed  \n",
       "3                      Stress management       completed  \n",
       "4               Pregnancy diet education       completed  "
      ]
     },
     "execution_count": 6,
     "metadata": {},
     "output_type": "execute_result"
    }
   ],
   "source": [
    "care_plan_activity.head()"
   ]
  },
  {
   "cell_type": "code",
   "execution_count": 9,
   "metadata": {},
   "outputs": [
    {
     "data": {
      "text/html": [
       "<div>\n",
       "<style scoped>\n",
       "    .dataframe tbody tr th:only-of-type {\n",
       "        vertical-align: middle;\n",
       "    }\n",
       "\n",
       "    .dataframe tbody tr th {\n",
       "        vertical-align: top;\n",
       "    }\n",
       "\n",
       "    .dataframe thead th {\n",
       "        text-align: right;\n",
       "    }\n",
       "</style>\n",
       "<table border=\"1\" class=\"dataframe\">\n",
       "  <thead>\n",
       "    <tr style=\"text-align: right;\">\n",
       "      <th></th>\n",
       "      <th>Care Plan Activity Code</th>\n",
       "      <th>Care Plan Activity Count</th>\n",
       "    </tr>\n",
       "    <tr>\n",
       "      <th>Care Plan Code</th>\n",
       "      <th></th>\n",
       "      <th></th>\n",
       "    </tr>\n",
       "  </thead>\n",
       "  <tbody>\n",
       "    <tr>\n",
       "      <th>47387005</th>\n",
       "      <td>[183051005, 226138001]</td>\n",
       "      <td>2</td>\n",
       "    </tr>\n",
       "    <tr>\n",
       "      <th>53950000</th>\n",
       "      <td>[304510005, 371605008, 710081004]</td>\n",
       "      <td>3</td>\n",
       "    </tr>\n",
       "    <tr>\n",
       "      <th>91251008</th>\n",
       "      <td>[229586001, 229070002]</td>\n",
       "      <td>2</td>\n",
       "    </tr>\n",
       "    <tr>\n",
       "      <th>134435003</th>\n",
       "      <td>[135892000, 226060000, 171054004]</td>\n",
       "      <td>3</td>\n",
       "    </tr>\n",
       "    <tr>\n",
       "      <th>182964004</th>\n",
       "      <td>[133918004, 408957008, 243072006]</td>\n",
       "      <td>3</td>\n",
       "    </tr>\n",
       "    <tr>\n",
       "      <th>225358003</th>\n",
       "      <td>[385949008, 439830001]</td>\n",
       "      <td>2</td>\n",
       "    </tr>\n",
       "    <tr>\n",
       "      <th>385691007</th>\n",
       "      <td>[183051005, 408580007]</td>\n",
       "      <td>2</td>\n",
       "    </tr>\n",
       "    <tr>\n",
       "      <th>386257007</th>\n",
       "      <td>[850261000000100, 710125008, 315043002]</td>\n",
       "      <td>3</td>\n",
       "    </tr>\n",
       "    <tr>\n",
       "      <th>412776001</th>\n",
       "      <td>[710081004, 426990007, 229065009, 15081005]</td>\n",
       "      <td>4</td>\n",
       "    </tr>\n",
       "    <tr>\n",
       "      <th>698358001</th>\n",
       "      <td>[229065009, 226060000, 710081004, 226234005]</td>\n",
       "      <td>4</td>\n",
       "    </tr>\n",
       "    <tr>\n",
       "      <th>698360004</th>\n",
       "      <td>[160670007, 229065009]</td>\n",
       "      <td>2</td>\n",
       "    </tr>\n",
       "    <tr>\n",
       "      <th>699728000</th>\n",
       "      <td>[710818004, 708409001, 229298005]</td>\n",
       "      <td>3</td>\n",
       "    </tr>\n",
       "    <tr>\n",
       "      <th>711282006</th>\n",
       "      <td>[225130001]</td>\n",
       "      <td>1</td>\n",
       "    </tr>\n",
       "    <tr>\n",
       "      <th>326051000000105</th>\n",
       "      <td>[409002, 58332002]</td>\n",
       "      <td>2</td>\n",
       "    </tr>\n",
       "    <tr>\n",
       "      <th>869761000000107</th>\n",
       "      <td>[223472008, 171245007]</td>\n",
       "      <td>2</td>\n",
       "    </tr>\n",
       "    <tr>\n",
       "      <th>872781000000100</th>\n",
       "      <td>[266694003, 183051005, 872781000000100]</td>\n",
       "      <td>3</td>\n",
       "    </tr>\n",
       "  </tbody>\n",
       "</table>\n",
       "</div>"
      ],
      "text/plain": [
       "                                      Care Plan Activity Code  \\\n",
       "Care Plan Code                                                  \n",
       "47387005                               [183051005, 226138001]   \n",
       "53950000                    [304510005, 371605008, 710081004]   \n",
       "91251008                               [229586001, 229070002]   \n",
       "134435003                   [135892000, 226060000, 171054004]   \n",
       "182964004                   [133918004, 408957008, 243072006]   \n",
       "225358003                              [385949008, 439830001]   \n",
       "385691007                              [183051005, 408580007]   \n",
       "386257007             [850261000000100, 710125008, 315043002]   \n",
       "412776001         [710081004, 426990007, 229065009, 15081005]   \n",
       "698358001        [229065009, 226060000, 710081004, 226234005]   \n",
       "698360004                              [160670007, 229065009]   \n",
       "699728000                   [710818004, 708409001, 229298005]   \n",
       "711282006                                         [225130001]   \n",
       "326051000000105                            [409002, 58332002]   \n",
       "869761000000107                        [223472008, 171245007]   \n",
       "872781000000100       [266694003, 183051005, 872781000000100]   \n",
       "\n",
       "                 Care Plan Activity Count  \n",
       "Care Plan Code                             \n",
       "47387005                                2  \n",
       "53950000                                3  \n",
       "91251008                                2  \n",
       "134435003                               3  \n",
       "182964004                               3  \n",
       "225358003                               2  \n",
       "385691007                               2  \n",
       "386257007                               3  \n",
       "412776001                               4  \n",
       "698358001                               4  \n",
       "698360004                               2  \n",
       "699728000                               3  \n",
       "711282006                               1  \n",
       "326051000000105                         2  \n",
       "869761000000107                         2  \n",
       "872781000000100                         3  "
      ]
     },
     "execution_count": 9,
     "metadata": {},
     "output_type": "execute_result"
    }
   ],
   "source": [
    "test = care_plan_activity.groupby('Care Plan Code').agg({\n",
    "    'Care Plan Activity Code':lambda x: list(x.unique())\n",
    "})\n",
    "test['Care Plan Activity Count'] = care_plan_activity.groupby('Care Plan Code')['Care Plan Activity Code'].nunique()\n",
    "test"
   ]
  }
 ],
 "metadata": {
  "kernelspec": {
   "display_name": "image_task",
   "language": "python",
   "name": "python3"
  },
  "language_info": {
   "codemirror_mode": {
    "name": "ipython",
    "version": 3
   },
   "file_extension": ".py",
   "mimetype": "text/x-python",
   "name": "python",
   "nbconvert_exporter": "python",
   "pygments_lexer": "ipython3",
   "version": "3.10.12"
  }
 },
 "nbformat": 4,
 "nbformat_minor": 2
}
