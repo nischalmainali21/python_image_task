{
 "cells": [
  {
   "cell_type": "markdown",
   "id": "d38c7cd1c7751ac6",
   "metadata": {},
   "source": [
    "# Python Task - 20 May 2024"
   ]
  },
  {
   "cell_type": "markdown",
   "id": "7dcc78da865ca03a",
   "metadata": {},
   "source": [
    "## Task: Read and Display an Image with Matplotlib\n",
    "\n",
    "- Import matplotlib.pyplot and matplotlib.image.\n",
    "- Read an image from the example path 'example/path/to/image.jpg'.\n",
    "- Print the shape of the image.\n",
    "- Display the image using Matplotlib's imshow function."
   ]
  },
  {
   "cell_type": "markdown",
   "id": "82bfc8e995ac8408",
   "metadata": {},
   "source": [
    "## Task: Tint and Resize an Image with Scipy\n",
    "\n",
    "- Import numpy, scipy.misc, and matplotlib.pyplot.\n",
    "- Read an image from the example path 'example/path/to/image.jpg' into a numpy array.\n",
    "- Apply a tint to the image by scaling the color channels with [1, 0.95, 0.9].\n",
    "- Resize the tinted image to 300x300 pixels using imresize.\n",
    "- Save the tinted and resized image to 'example/path/to/tinted_image.jpg'.\n",
    "- Display the original and tinted images side by side using Matplotlib."
   ]
  },
  {
   "cell_type": "markdown",
   "id": "51033b00692159d2",
   "metadata": {},
   "source": [
    "## Task: Display an Image with Different Interpolation Methods in Matplotlib\n",
    "\n",
    "- Import matplotlib.pyplot and matplotlib.image.\n",
    "- Read an image from the example path 'example/path/to/image.jpg'.\n",
    "- Display the image using the following interpolation methods: 'none', 'nearest','bilinear', 'bicubic', 'spline16', and 'lanczos'.\n",
    "- Create subplots to show the image with each interpolation method, labeling each subplot with the method name."
   ]
  },
  {
   "cell_type": "markdown",
   "id": "9bc2e2331b61b4aa",
   "metadata": {},
   "source": [
    "## Task: Convert a Color Image to Grayscale and Display Both Images Using PIL\n",
    "\n",
    "- Import PIL.Image.\n",
    "- Open a color image from the example path 'example/path/to/image.jpg'.\n",
    "- Print the width, height, mode, format, and type of the image.\n",
    "- Convert the color image to grayscale.\n",
    "- Display both the original and grayscale images."
   ]
  },
  {
   "cell_type": "markdown",
   "id": "6d5756abbdfe1ee3",
   "metadata": {},
   "source": [
    "## Task: Darken an Image by Applying a Factor to Each Pixel's Value Using PIL\n",
    "\n",
    "- Import PIL.Image.\n",
    "- Open an image from the example path 'example/path/to/image.jpg'.\n",
    "- Apply a lambda function to multiply each pixel value by 0.3 to darken the image\n",
    "- Display the darkened image."
   ]
  },
  {
   "cell_type": "markdown",
   "id": "4db4ca2ecd9d78d2",
   "metadata": {},
   "source": [
    "## Task: Read and Display an Image Using OpenCV\n",
    "\n",
    "- Import cv2.\n",
    "- Read an image from the example path 'example/path/to/image.jpg'.\n",
    "- Display the image in a window using OpenCV's imshow function.\n",
    "- Wait for a key press to close the window using cv2.waitKey(0) and cv2.destroyAllWindows()."
   ]
  },
  {
   "cell_type": "markdown",
   "id": "a5232f8358751ee",
   "metadata": {},
   "source": [
    "## Task: Image Manipulation and Display using Pillow and Matplotlib\n",
    "\n",
    "Objective: Perform various image manipulation and display tasks using the Pillow and Matplotlib libraries.\n",
    "\n",
    "### Instructions:\n",
    "#### Load and Display an Image with Pillow\n",
    "\n",
    "- Import the PIL.Image module.\n",
    "- Load an image from the example path 'example/path/to/image.jpg'.\n",
    "- Print the image's format, mode, and size.\n",
    "- Display the image using the show method.\n",
    "\n",
    "#### Convert the Image to a Numpy Array and Back with Pillow\n",
    "\n",
    "- Import numpy and use numpy.asarray to convert the Pillow image to a numpy array.\n",
    "- Print the shape of the numpy array.\n",
    "- Convert the numpy array back to a Pillow image using Image.fromarray.\n",
    "- Print the format, mode, and size of the new Pillow image.\n",
    "\n",
    "#### Load and Display an Image with Matplotlib\n",
    "\n",
    "- Import matplotlib.image and matplotlib.pyplot.\n",
    "- Load the image from the example path as a pixel array.\n",
    "- Print the data type and shape of the pixel array.\n",
    "- Display the image using Matplotlib's imshow function.\n",
    "\n",
    "#### Load All Images in a Directory with Matplotlib\n",
    "\n",
    "- Import os.listdir and matplotlib.image.\n",
    "- Load all images from the example directory 'example/path/to/images/'.\n",
    "- Print the filename and shape of each loaded image.\n",
    "\n",
    "#### Save an Image in a Different Format with Pillow\n",
    "\n",
    "- Load the image from the example path.\n",
    "- Save the image in PNG format to 'example/path/to/image.png'.\n",
    "- Load and print the format of the saved image to verify.\n",
    "\n",
    "#### Convert an Image to Grayscale with Pillow\n",
    "\n",
    "- Load the image from the example path.\n",
    "- Convert the image to grayscale.\n",
    "- Save the grayscale image to 'example/path/to/cat_grayscale.jpg'.\n",
    "- Load and display the grayscale image.\n",
    "\n",
    "#### Resize and Create a Thumbnail of an Image with Pillow\n",
    "\n",
    "- Load the image from the example path.\n",
    "- Print the original size of the image.\n",
    "- Create a thumbnail of the image with a maximum size of 100x100 pixels.\n",
    "- Print the size of the thumbnail.\n",
    "- Resize the image to 200x200 pixels and print the new size.\n",
    "\n",
    "#### Flip an Image Horizontally and Vertically with Pillow\n",
    "\n",
    "- Load the image from the example path.\n",
    "- Create horizontal and vertical flipped versions of the image.\n",
    "- Display the original, horizontal flip, and vertical flip using Matplotlib.\n",
    "\n",
    "#### Rotate an Image with Pillow\n",
    "\n",
    "- Load the image from the example path.\n",
    "- Display the original image.\n",
    "- Rotate the image by 45 degrees and display it.\n",
    "- Rotate the image by 90 degrees and display it.\n",
    "\n",
    "#### Crop an Image with Pillow\n",
    "\n",
    "- Load the image from the example path.\n",
    "- Crop the image to a 100x100 pixel square starting at coordinates (100, 100).\n",
    "- Display the cropped image."
   ]
  }
 ],
 "metadata": {
  "kernelspec": {
   "display_name": "Python 3",
   "language": "python",
   "name": "python3"
  },
  "language_info": {
   "codemirror_mode": {
    "name": "ipython",
    "version": 2
   },
   "file_extension": ".py",
   "mimetype": "text/x-python",
   "name": "python",
   "nbconvert_exporter": "python",
   "pygments_lexer": "ipython2",
   "version": "2.7.6"
  }
 },
 "nbformat": 4,
 "nbformat_minor": 5
}
